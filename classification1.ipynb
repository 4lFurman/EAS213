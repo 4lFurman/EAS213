{
 "cells": [
  {
   "cell_type": "markdown",
   "metadata": {},
   "source": [
    "Developing a classifier:\n",
    "========================\n",
    "* Review of image as array\n",
    "* Filtering data via Boolean masking\n",
    "* Computing statistics on selected regions\n",
    "* Using statistics to build an NDVI classifier\n",
    "* Creating classifiers for water, building, clouds\n",
    "\n"
   ]
  },
  {
   "cell_type": "code",
   "execution_count": null,
   "metadata": {
    "collapsed": false
   },
   "outputs": [],
   "source": [
    "#read in data\n",
    "import landsat as lf\n",
    "rgbfile = \"data/landsat_RGBN.txt\" \n",
    "rgbn = lf.landsat_read(rgbfile)"
   ]
  },
  {
   "cell_type": "code",
   "execution_count": null,
   "metadata": {
    "collapsed": false,
    "scrolled": true
   },
   "outputs": [],
   "source": [
    "#find the clearest image\n",
    "%matplotlib notebook\n",
    "rgb_array = lf.rgb_display(rgbn[...,:3])"
   ]
  },
  {
   "cell_type": "markdown",
   "metadata": {},
   "source": [
    "How do we unpack data?\n",
    "============================================\n",
    "![axis](figs/axis.png)"
   ]
  },
  {
   "cell_type": "code",
   "execution_count": null,
   "metadata": {
    "collapsed": true
   },
   "outputs": [],
   "source": [
    "#rgb_array has three axis: [row, col, channel] axis=[0, 1, 2]\n",
    "#unpack red, green, blue\n",
    "red = rgb_array[...,0]\n",
    "green = rgb_array[...,1]\n",
    "blue = rgb_array[...,2]"
   ]
  },
  {
   "cell_type": "code",
   "execution_count": null,
   "metadata": {
    "collapsed": false,
    "scrolled": false
   },
   "outputs": [],
   "source": [
    "#plot each of the individual channels and compare to image\n",
    "import matplotlib.pyplot as plt\n",
    "fig, axes = plt.subplots(2,2, sharex=True, sharey=True)\n",
    "rgb = axes[0,0].imshow(rgb_array)\n",
    "r = axes[0,1].imshow(red, cmap=\"Reds\", vmin=0, vmax=1)\n",
    "fig.colorbar(r, ax=axes[0,1])\n",
    "g = axes[1,0].imshow(green, cmap=\"Greens\", vmin=0, vmax=1)\n",
    "fig.colorbar(g, ax=axes[1,0])\n",
    "b = axes[1,1].imshow(blue, cmap=\"Blues\", vmin=0, vmax=1)\n",
    "fig.colorbar(b, ax=axes[1,1])\n",
    "for ax in axes.flatten():\n",
    "    ax.set_adjustable('box-forced')\n",
    "#to do: explore the following images and see if you can find links\n",
    "#between the raw data and each of the color bands"
   ]
  },
  {
   "cell_type": "markdown",
   "metadata": {},
   "source": [
    "How do we compute statistics?\n",
    "============================"
   ]
  },
  {
   "cell_type": "code",
   "execution_count": null,
   "metadata": {
    "collapsed": false
   },
   "outputs": [],
   "source": [
    "print(red.mean(), green.mean(), blue.mean())"
   ]
  },
  {
   "cell_type": "code",
   "execution_count": null,
   "metadata": {
    "collapsed": false
   },
   "outputs": [],
   "source": [
    "#plot histogram of red channel\n",
    "%matplotlib inline\n",
    "fig = plt.figure()\n",
    "ax = fig.add_subplot(1,1,1)\n",
    "ax.hist(red.flatten(), color=\"red\")\n",
    "ax.set_ylabel(\"# of observations\")\n",
    "ax.set_xlabel(\"temperature bins\")\n",
    "fig.canvas.draw()"
   ]
  },
  {
   "cell_type": "code",
   "execution_count": null,
   "metadata": {
    "collapsed": true
   },
   "outputs": [],
   "source": [
    "#ToDo: plot histograms for green and blue channels"
   ]
  },
  {
   "cell_type": "markdown",
   "metadata": {},
   "source": [
    "How do we filter?\n",
    "=======================================\n",
    "![boolean mask](figs/masking.png)"
   ]
  },
  {
   "cell_type": "code",
   "execution_count": null,
   "metadata": {
    "collapsed": false
   },
   "outputs": [],
   "source": [
    "#lets build a blue mask\n",
    "blue_mask = (blue>blue.mean())\n",
    "print (blue_mask)"
   ]
  },
  {
   "cell_type": "code",
   "execution_count": null,
   "metadata": {
    "collapsed": false
   },
   "outputs": [],
   "source": [
    "import numpy as np\n",
    "import matplotlib.cm as mcm\n",
    "import matplotlib.colors as mcolors\n",
    "#what does that mean?\n",
    "\n",
    "cmap = mcm.bone\n",
    "norm = mcolors.BoundaryNorm([0,1,2],cmap.N)\n",
    "fig = plt.figure()\n",
    "ax = fig.add_subplot(1,1,1)\n",
    "im = ax.imshow(blue_mask, cmap=cmap, norm=norm)\n",
    "cb = fig.colorbar(im, ax=ax)\n",
    "cb.set_ticks([0.5,1.5])\n",
    "cb.set_ticklabels([\"not in mask\",\"in mask\"])\n",
    "fig.canvas.draw()\n"
   ]
  },
  {
   "cell_type": "code",
   "execution_count": null,
   "metadata": {
    "collapsed": false
   },
   "outputs": [],
   "source": [
    "#plot only the data shown in the map\n",
    "rgb_copy = rgb_array.copy()\n",
    "#zero out values not in mask\n",
    "\n",
    "rgb_copy[~blue_mask] = np.nan\n",
    "cmap = mcm.bone\n",
    "norm = mcolors.BoundaryNorm([0,1,2],cmap.N)\n",
    "fig = plt.figure()\n",
    "ax = fig.add_subplot(1,1,1)\n",
    "im = ax.imshow(rgb_copy)\n",
    "fig.canvas.draw()"
   ]
  },
  {
   "cell_type": "code",
   "execution_count": null,
   "metadata": {
    "collapsed": false
   },
   "outputs": [],
   "source": [
    "#combine masks and show which region is in both\n",
    "blue_mask = (blue>blue.mean())\n",
    "red_mask = (red>red.mean())\n",
    "comb_mask = (blue_mask & red_mask)\n",
    "\n",
    "cmap = mcm.bone\n",
    "norm = mcolors.BoundaryNorm([0,1,2],cmap.N)\n",
    "fig = plt.figure()\n",
    "ax = fig.add_subplot(1,1,1)\n",
    "im = ax.imshow(comb_mask, cmap=cmap, norm=norm)\n",
    "cb = fig.colorbar(im, ax=ax)\n",
    "cb.set_ticks([0.5,1.5])\n",
    "cb.set_ticklabels([\"not in mask\",\"in mask\"])\n",
    "fig.canvas.draw()\n",
    "\n"
   ]
  },
  {
   "cell_type": "markdown",
   "metadata": {},
   "source": [
    "ToDo\n",
    "=====\n",
    "1) Apply combined mask to daya\n",
    "2) Explore different thresholds for each of the color channels\n",
    "3) Combine various thresholds\n",
    "4) See if combination masks can highlight/yield features in the dataset"
   ]
  }
 ],
 "metadata": {
  "kernelspec": {
   "display_name": "Python 3",
   "language": "python",
   "name": "python3"
  },
  "language_info": {
   "codemirror_mode": {
    "name": "ipython",
    "version": 3
   },
   "file_extension": ".py",
   "mimetype": "text/x-python",
   "name": "python",
   "nbconvert_exporter": "python",
   "pygments_lexer": "ipython3",
   "version": "3.5.2"
  }
 },
 "nbformat": 4,
 "nbformat_minor": 0
}
