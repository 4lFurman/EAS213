{
 "cells": [
  {
   "cell_type": "code",
   "execution_count": 1,
   "metadata": {
    "collapsed": true,
    "slideshow": {
     "slide_type": "slide"
    }
   },
   "outputs": [],
   "source": [
    "import numpy as np"
   ]
  },
  {
   "cell_type": "code",
   "execution_count": 3,
   "metadata": {
    "collapsed": true,
    "slideshow": {
     "slide_type": "slide"
    }
   },
   "outputs": [],
   "source": [
    "A = np.pi * np.ones(3)"
   ]
  },
  {
   "cell_type": "code",
   "execution_count": 4,
   "metadata": {
    "slideshow": {
     "slide_type": "subslide"
    }
   },
   "outputs": [
    {
     "data": {
      "text/plain": [
       "array([ 3.14159265,  3.14159265,  3.14159265])"
      ]
     },
     "execution_count": 4,
     "metadata": {},
     "output_type": "execute_result"
    }
   ],
   "source": [
    "A"
   ]
  },
  {
   "cell_type": "code",
   "execution_count": 9,
   "metadata": {
    "collapsed": true
   },
   "outputs": [],
   "source": [
    "text = \"{:f} | {:.2f} | {:.12f}\".format(*A)"
   ]
  },
  {
   "cell_type": "code",
   "execution_count": 10,
   "metadata": {},
   "outputs": [
    {
     "data": {
      "text/plain": [
       "'3.141593 | 3.14 | 3.141592653590'"
      ]
     },
     "execution_count": 10,
     "metadata": {},
     "output_type": "execute_result"
    }
   ],
   "source": [
    "text"
   ]
  },
  {
   "cell_type": "code",
   "execution_count": 13,
   "metadata": {},
   "outputs": [
    {
     "ename": "IndentationError",
     "evalue": "expected an indented block (<ipython-input-13-b064d77fa97f>, line 3)",
     "output_type": "error",
     "traceback": [
      "\u001b[0;36m  File \u001b[0;32m\"<ipython-input-13-b064d77fa97f>\"\u001b[0;36m, line \u001b[0;32m3\u001b[0m\n\u001b[0;31m    y=2\u001b[0m\n\u001b[0m    ^\u001b[0m\n\u001b[0;31mIndentationError\u001b[0m\u001b[0;31m:\u001b[0m expected an indented block\n"
     ]
    }
   ],
   "source": [
    "x=22\n",
    "if (x>5):\n",
    "    if x==4:\n",
    "        y=2\n",
    "    y=2\n",
    "elif(x<0):\n",
    "    y=8\n",
    "else:\n",
    "    y=3"
   ]
  },
  {
   "cell_type": "code",
   "execution_count": 15,
   "metadata": {},
   "outputs": [
    {
     "data": {
      "text/plain": [
       "[2, 3, 4, 5, 6]"
      ]
     },
     "execution_count": 15,
     "metadata": {},
     "output_type": "execute_result"
    }
   ],
   "source": [
    "list(range(2,7))"
   ]
  },
  {
   "cell_type": "code",
   "execution_count": 16,
   "metadata": {},
   "outputs": [
    {
     "name": "stdout",
     "output_type": "stream",
     "text": [
      "2\n",
      "3\n",
      "4\n",
      "5\n",
      "6\n"
     ]
    }
   ],
   "source": [
    "for n in range(2,7):\n",
    "    print(n)"
   ]
  },
  {
   "cell_type": "code",
   "execution_count": 17,
   "metadata": {
    "collapsed": true
   },
   "outputs": [],
   "source": [
    "a = np.array(([[1,2,3], [4,5,6], [7,8,9]]))"
   ]
  },
  {
   "cell_type": "code",
   "execution_count": 18,
   "metadata": {},
   "outputs": [
    {
     "data": {
      "text/plain": [
       "array([[1, 2, 3],\n",
       "       [4, 5, 6],\n",
       "       [7, 8, 9]])"
      ]
     },
     "execution_count": 18,
     "metadata": {},
     "output_type": "execute_result"
    }
   ],
   "source": [
    "a"
   ]
  },
  {
   "cell_type": "code",
   "execution_count": 19,
   "metadata": {
    "collapsed": true
   },
   "outputs": [],
   "source": [
    "from matplotlib.pyplot import *"
   ]
  },
  {
   "cell_type": "code",
   "execution_count": 20,
   "metadata": {
    "collapsed": true
   },
   "outputs": [],
   "source": [
    "fig = figure()"
   ]
  },
  {
   "cell_type": "code",
   "execution_count": 23,
   "metadata": {},
   "outputs": [
    {
     "data": {
      "image/png": "[encoded data removed]",
      "text/plain": [
       "<matplotlib.figure.Figure at 0x111bb2080>"
      ]
     },
     "metadata": {},
     "output_type": "display_data"
    }
   ],
   "source": [
    "%matplotlib inline\n",
    "imshow(a)\n",
    "show()"
   ]
  },
  {
   "cell_type": "code",
   "execution_count": 24,
   "metadata": {},
   "outputs": [
    {
     "data": {
      "image/png": "[encoded data removed]",
      "text/plain": [
       "<matplotlib.figure.Figure at 0x111ecb2e8>"
      ]
     },
     "metadata": {},
     "output_type": "display_data"
    }
   ],
   "source": [
    "import matplotlib.pyplot as plt\n",
    "\n",
    "plt.figure()\n",
    "plt.imshow(a)\n",
    "plt.colorbar()\n",
    "plt.show()\n"
   ]
  },
  {
   "cell_type": "code",
   "execution_count": 25,
   "metadata": {},
   "outputs": [
    {
     "name": "stderr",
     "output_type": "stream",
     "text": [
      "/Users/hannah/anaconda/envs/summer/lib/python3.6/site-packages/matplotlib/figure.py:403: UserWarning: matplotlib is currently using a non-GUI backend, so cannot show the figure\n",
      "  \"matplotlib is currently using a non-GUI backend, \"\n"
     ]
    },
    {
     "data": {
      "image/png": "[encoded data removed]",
      "text/plain": [
       "<matplotlib.figure.Figure at 0x1120a7b70>"
      ]
     },
     "metadata": {},
     "output_type": "display_data"
    }
   ],
   "source": [
    "fig, ax = plt.subplots()\n",
    "im = ax.imshow(a)\n",
    "fig.colorbar(im, ax=ax)\n",
    "fig.show()"
   ]
  },
  {
   "cell_type": "code",
   "execution_count": 26,
   "metadata": {},
   "outputs": [
    {
     "name": "stdout",
     "output_type": "stream",
     "text": [
      "Variable                     Type           Data/Info\n",
      "-----------------------------------------------------\n",
      "A                            ndarray        3: 3 elems, type `float64`, 24 bytes\n",
      "Annotation                   type           <class 'matplotlib.text.Annotation'>\n",
      "Arrow                        type           <class 'matplotlib.patches.Arrow'>\n",
      "Artist                       type           <class 'matplotlib.artist.Artist'>\n",
      "AutoLocator                  type           <class 'matplotlib.ticker.AutoLocator'>\n",
      "Axes                         type           <class 'matplotlib.axes._axes.Axes'>\n",
      "Button                       type           <class 'matplotlib.widgets.Button'>\n",
      "Circle                       type           <class 'matplotlib.patches.Circle'>\n",
      "Figure                       type           <class 'matplotlib.figure.Figure'>\n",
      "FigureCanvasBase             type           <class 'matplotlib.backen<...>_bases.FigureCanvasBase'>\n",
      "FixedFormatter               type           <class 'matplotlib.ticker.FixedFormatter'>\n",
      "FixedLocator                 type           <class 'matplotlib.ticker.FixedLocator'>\n",
      "FormatStrFormatter           type           <class 'matplotlib.ticker.FormatStrFormatter'>\n",
      "Formatter                    type           <class 'matplotlib.ticker.Formatter'>\n",
      "FuncFormatter                type           <class 'matplotlib.ticker.FuncFormatter'>\n",
      "GridSpec                     type           <class 'matplotlib.gridspec.GridSpec'>\n",
      "IndexLocator                 type           <class 'matplotlib.ticker.IndexLocator'>\n",
      "Line2D                       type           <class 'matplotlib.lines.Line2D'>\n",
      "LinearLocator                type           <class 'matplotlib.ticker.LinearLocator'>\n",
      "Locator                      type           <class 'matplotlib.ticker.Locator'>\n",
      "LogFormatter                 type           <class 'matplotlib.ticker.LogFormatter'>\n",
      "LogFormatterExponent         type           <class 'matplotlib.ticker.LogFormatterExponent'>\n",
      "LogFormatterMathtext         type           <class 'matplotlib.ticker.LogFormatterMathtext'>\n",
      "LogLocator                   type           <class 'matplotlib.ticker.LogLocator'>\n",
      "MaxNLocator                  type           <class 'matplotlib.ticker.MaxNLocator'>\n",
      "MultipleLocator              type           <class 'matplotlib.ticker.MultipleLocator'>\n",
      "Normalize                    type           <class 'matplotlib.colors.Normalize'>\n",
      "NullFormatter                type           <class 'matplotlib.ticker.NullFormatter'>\n",
      "NullLocator                  type           <class 'matplotlib.ticker.NullLocator'>\n",
      "PolarAxes                    type           <class 'matplotlib.projections.polar.PolarAxes'>\n",
      "Polygon                      type           <class 'matplotlib.patches.Polygon'>\n",
      "Rectangle                    type           <class 'matplotlib.patches.Rectangle'>\n",
      "ScalarFormatter              type           <class 'matplotlib.ticker.ScalarFormatter'>\n",
      "Slider                       type           <class 'matplotlib.widgets.Slider'>\n",
      "Subplot                      type           <class 'matplotlib.axes._subplots.AxesSubplot'>\n",
      "SubplotTool                  type           <class 'matplotlib.widgets.SubplotTool'>\n",
      "Text                         type           <class 'matplotlib.text.Text'>\n",
      "TickHelper                   type           <class 'matplotlib.ticker.TickHelper'>\n",
      "Widget                       type           <class 'matplotlib.widgets.Widget'>\n",
      "a                            ndarray        3x3: 9 elems, type `int64`, 72 bytes\n",
      "absolute_import              _Feature       _Feature((2, 5, 0, 'alpha<...>0, 0, 'alpha', 0), 16384)\n",
      "acorr                        function       <function acorr at 0x10e78fa60>\n",
      "angle_spectrum               function       <function angle_spectrum at 0x10e78fae8>\n",
      "annotate                     function       <function annotate at 0x10e791a60>\n",
      "arrow                        function       <function arrow at 0x10e78fb70>\n",
      "autoscale                    function       <function autoscale at 0x10e791d08>\n",
      "autumn                       function       <function autumn at 0x10e78f9d8>\n",
      "ax                           AxesSubplot    Axes(0.241667,0.125;0.503333x0.755)\n",
      "axes                         function       <function axes at 0x10e78cea0>\n",
      "axhline                      function       <function axhline at 0x10e78fbf8>\n",
      "axhspan                      function       <function axhspan at 0x10e78fc80>\n",
      "axis                         function       <function axis at 0x10e7899d8>\n",
      "axvline                      function       <function axvline at 0x10e78fd08>\n",
      "axvspan                      function       <function axvspan at 0x10e78fd90>\n",
      "bar                          function       <function bar at 0x10e78fe18>\n",
      "barbs                        function       <function barbs at 0x10e791730>\n",
      "barh                         function       <function barh at 0x10e78fea0>\n",
      "bone                         function       <function bone at 0x10e791d90>\n",
      "box                          function       <function box at 0x10e7898c8>\n",
      "boxplot                      function       <function boxplot at 0x10e790048>\n",
      "broken_barh                  function       <function broken_barh at 0x10e78ff28>\n",
      "cla                          function       <function cla at 0x10e7917b8>\n",
      "clabel                       function       <function clabel at 0x10e790158>\n",
      "clf                          function       <function clf at 0x10e78c9d8>\n",
      "clim                         function       <function clim at 0x10e78f488>\n",
      "close                        function       <function close at 0x10e78c840>\n",
      "cm                           module         <module 'matplotlib.cm' f<...>ckages/matplotlib/cm.py'>\n",
      "cohere                       function       <function cohere at 0x10e7900d0>\n",
      "colorbar                     function       <function colorbar at 0x10e78f400>\n",
      "colormaps                    function       <function colormaps at 0x10e78f2f0>\n",
      "colors                       function       <function colors at 0x10e78f268>\n",
      "connect                      function       <function connect at 0x10e78c8c8>\n",
      "contour                      function       <function contour at 0x10e7901e0>\n",
      "contourf                     function       <function contourf at 0x10e790268>\n",
      "cool                         function       <function cool at 0x10e791e18>\n",
      "copper                       function       <function copper at 0x10e791ea0>\n",
      "csd                          function       <function csd at 0x10e7902f0>\n",
      "cycler                       function       <function cycler at 0x10dcbdea0>\n",
      "dedent                       function       <function dedent at 0x10db6aea0>\n",
      "delaxes                      function       <function delaxes at 0x10e7892f0>\n",
      "deprecated                   function       <function deprecated at 0x10db672f0>\n",
      "disconnect                   function       <function disconnect at 0x10e78c950>\n",
      "division                     _Feature       _Feature((2, 2, 0, 'alpha<...> 0, 0, 'alpha', 0), 8192)\n",
      "docstring                    module         <module 'matplotlib.docst<...>matplotlib/docstring.py'>\n",
      "draw                         function       <function draw at 0x10e78ca60>\n",
      "draw_all                     method         <bound method Gcf.draw_al<...>lib._pylab_helpers.Gcf'>>\n",
      "draw_if_interactive          function       <function pylab_setup.<lo<...>o_nothing at 0x10e78b598>\n",
      "errorbar                     function       <function errorbar at 0x10e790378>\n",
      "eventplot                    function       <function eventplot at 0x10e790400>\n",
      "fig                          Figure         Figure(432x288)\n",
      "figaspect                    function       <function figaspect at 0x10e77dae8>\n",
      "figimage                     function       <function figimage at 0x10e78ce18>\n",
      "figlegend                    function       <function figlegend at 0x10e78cae8>\n",
      "fignum_exists                function       <function fignum_exists at 0x10e78c620>\n",
      "figtext                      function       <function figtext at 0x10e78cd08>\n",
      "figure                       function       <function figure at 0x10e78c488>\n",
      "fill                         function       <function fill at 0x10e790488>\n",
      "fill_between                 function       <function fill_between at 0x10e790510>\n",
      "fill_betweenx                function       <function fill_betweenx at 0x10e790598>\n",
      "findobj                      function       <function findobj at 0x10e78bd08>\n",
      "flag                         function       <function flag at 0x10e791f28>\n",
      "gca                          function       <function gca at 0x10e789400>\n",
      "gcf                          function       <function gcf at 0x10e78c598>\n",
      "gci                          function       <function gci at 0x10e78c0d0>\n",
      "get                          function       <function getp at 0x10dec52f0>\n",
      "get_backend                  function       <function get_backend at 0x10dde4d08>\n",
      "get_cmap                     function       <function get_cmap at 0x10df3dae8>\n",
      "get_current_fig_manager      function       <function get_current_fig_manager at 0x10e78c7b8>\n",
      "get_figlabels                function       <function get_figlabels at 0x10e78c730>\n",
      "get_fignums                  function       <function get_fignums at 0x10e78c6a8>\n",
      "get_plot_commands            function       <function get_plot_commands at 0x10e78f1e0>\n",
      "get_scale_docs               function       <function get_scale_docs at 0x10e726158>\n",
      "get_scale_names              function       <function get_scale_names at 0x10e6f5840>\n",
      "getp                         function       <function getp at 0x10dec52f0>\n",
      "ginput                       function       <function ginput at 0x10e78cbf8>\n",
      "gray                         function       <function gray at 0x10e792048>\n",
      "grid                         function       <function grid at 0x10e791840>\n",
      "hexbin                       function       <function hexbin at 0x10e790620>\n",
      "hist                         function       <function hist at 0x10e7906a8>\n",
      "hist2d                       function       <function hist2d at 0x10e790730>\n",
      "hlines                       function       <function hlines at 0x10e7907b8>\n",
      "hold                         function       <function hold at 0x10e789048>\n",
      "hot                          function       <function hot at 0x10e7920d0>\n",
      "hsv                          function       <function hsv at 0x10e792158>\n",
      "im                           AxesImage      AxesImage(104.4,36;217.44x217.44)\n",
      "imread                       function       <function imread at 0x10e78f620>\n",
      "imsave                       function       <function imsave at 0x10e78f6a8>\n",
      "imshow                       function       <function imshow at 0x10e790840>\n",
      "inferno                      function       <function inferno at 0x10e792598>\n",
      "install_repl_displayhook     function       <function install_repl_di<...>splayhook at 0x10e78bb70>\n",
      "interactive                  function       <function interactive at 0x10dde4d90>\n",
      "ioff                         function       <function ioff at 0x10e78bea0>\n",
      "ion                          function       <function ion at 0x10e78bf28>\n",
      "is_numlike                   function       <function is_numlike at 0x10db69c80>\n",
      "is_string_like               function       <function is_string_like at 0x10db69950>\n",
      "ishold                       function       <function ishold at 0x10e789158>\n",
      "isinteractive                function       <function isinteractive at 0x10e78be18>\n",
      "jet                          function       <function jet at 0x10e7921e0>\n",
      "legend                       function       <function legend at 0x10e7918c8>\n",
      "locator_params               function       <function locator_params at 0x10e791b70>\n",
      "loglog                       function       <function loglog at 0x10e7908c8>\n",
      "magma                        function       <function magma at 0x10e792510>\n",
      "magnitude_spectrum           function       <function magnitude_spectrum at 0x10e790950>\n",
      "margins                      function       <function margins at 0x10e791c80>\n",
      "matplotlib                   module         <module 'matplotlib' from<...>/matplotlib/__init__.py'>\n",
      "matshow                      function       <function matshow at 0x10e78f598>\n",
      "minorticks_off               function       <function minorticks_off at 0x10e789f28>\n",
      "minorticks_on                function       <function minorticks_on at 0x10e789ea0>\n",
      "mlab                         module         <module 'matplotlib.mlab'<...>ages/matplotlib/mlab.py'>\n",
      "n                            int            6\n",
      "new_figure_manager           function       <function new_figure_manager at 0x10e7806a8>\n",
      "nipy_spectral                function       <function nipy_spectral at 0x10e792730>\n",
      "np                           module         <module 'numpy' from '/Us<...>kages/numpy/__init__.py'>\n",
      "over                         function       <function over at 0x10e789268>\n",
      "pause                        function       <function pause at 0x10e78c048>\n",
      "pcolor                       function       <function pcolor at 0x10e7909d8>\n",
      "pcolormesh                   function       <function pcolormesh at 0x10e790a60>\n",
      "phase_spectrum               function       <function phase_spectrum at 0x10e790ae8>\n",
      "pie                          function       <function pie at 0x10e790b70>\n",
      "pink                         function       <function pink at 0x10e792268>\n",
      "plasma                       function       <function plasma at 0x10e792620>\n",
      "plot                         function       <function plot at 0x10e790bf8>\n",
      "plot_date                    function       <function plot_date at 0x10e790c80>\n",
      "plotfile                     function       <function plotfile at 0x10e78f7b8>\n",
      "plotting                     function       <function plotting at 0x10e78f158>\n",
      "plt                          module         <module 'matplotlib.pyplo<...>es/matplotlib/pyplot.py'>\n",
      "polar                        function       <function polar at 0x10e78f730>\n",
      "print_function               _Feature       _Feature((2, 6, 0, 'alpha<...>0, 0, 'alpha', 0), 65536)\n",
      "prism                        function       <function prism at 0x10e7922f0>\n",
      "psd                          function       <function psd at 0x10e790d08>\n",
      "pylab_setup                  function       <function pylab_setup at 0x10e780620>\n",
      "quiver                       function       <function quiver at 0x10e790d90>\n",
      "quiverkey                    function       <function quiverkey at 0x10e790e18>\n",
      "rc                           function       <function rc at 0x10e78c158>\n",
      "rcParams                     RcParams       _internal.classic_mode: F<...>: 0.6\\nytick.right: False\n",
      "rcParamsDefault              RcParams       _internal.classic_mode: F<...>: 0.6\\nytick.right: False\n",
      "rc_context                   function       <function rc_context at 0x10e78c1e0>\n",
      "rcdefaults                   function       <function rcdefaults at 0x10e78c268>\n",
      "register_cmap                function       <function register_cmap at 0x10df3da60>\n",
      "rgrids                       function       <function rgrids at 0x10e78f048>\n",
      "savefig                      function       <function savefig at 0x10e78cb70>\n",
      "sca                          function       <function sca at 0x10e789378>\n",
      "scatter                      function       <function scatter at 0x10e790ea0>\n",
      "sci                          function       <function sci at 0x10e78c2f0>\n",
      "semilogx                     function       <function semilogx at 0x10e790f28>\n",
      "semilogy                     function       <function semilogy at 0x10e791048>\n",
      "set_cmap                     function       <function set_cmap at 0x10e78f510>\n",
      "setp                         function       <function setp at 0x10e78c400>\n",
      "show                         function       <function show at 0x10e78bd90>\n",
      "silent_list                  type           <class 'matplotlib.cbook.silent_list'>\n",
      "six                          module         <module 'six' from '/User<...>.6/site-packages/six.py'>\n",
      "specgram                     function       <function specgram at 0x10e7910d0>\n",
      "spectral                     function       <function spectral at 0x10e7927b8>\n",
      "spring                       function       <function spring at 0x10e792378>\n",
      "spy                          function       <function spy at 0x10e78f950>\n",
      "stackplot                    function       <function stackplot at 0x10e791158>\n",
      "stem                         function       <function stem at 0x10e7911e0>\n",
      "step                         function       <function step at 0x10e791268>\n",
      "streamplot                   function       <function streamplot at 0x10e7912f0>\n",
      "style                        module         <module 'matplotlib.style<...>otlib/style/__init__.py'>\n",
      "subplot                      function       <function subplot at 0x10e789488>\n",
      "subplot2grid                 function       <function subplot2grid at 0x10e789598>\n",
      "subplot_tool                 function       <function subplot_tool at 0x10e7897b8>\n",
      "subplots                     function       <function subplots at 0x10e789510>\n",
      "subplots_adjust              function       <function subplots_adjust at 0x10e789730>\n",
      "summer                       function       <function summer at 0x10e792400>\n",
      "suptitle                     function       <function suptitle at 0x10e78cd90>\n",
      "switch_backend               function       <function switch_backend at 0x10e78bc80>\n",
      "sys                          module         <module 'sys' (built-in)>\n",
      "table                        function       <function table at 0x10e791950>\n",
      "text                         function       <function text at 0x10e7919d8>\n",
      "thetagrids                   function       <function thetagrids at 0x10e78f0d0>\n",
      "tick_params                  function       <function tick_params at 0x10e791bf8>\n",
      "ticklabel_format             function       <function ticklabel_format at 0x10e791ae8>\n",
      "tight_layout                 function       <function tight_layout at 0x10e789840>\n",
      "title                        function       <function title at 0x10e789950>\n",
      "tricontour                   function       <function tricontour at 0x10e791378>\n",
      "tricontourf                  function       <function tricontourf at 0x10e791400>\n",
      "tripcolor                    function       <function tripcolor at 0x10e791488>\n",
      "triplot                      function       <function triplot at 0x10e791510>\n",
      "twinx                        function       <function twinx at 0x10e789620>\n",
      "twiny                        function       <function twiny at 0x10e7896a8>\n",
      "types                        module         <module 'types' from '/Us<...>/lib/python3.6/types.py'>\n",
      "unicode_literals             _Feature       _Feature((2, 6, 0, 'alpha<...>, 0, 'alpha', 0), 131072)\n",
      "uninstall_repl_displayhook   function       <function uninstall_repl_<...>splayhook at 0x10e78bbf8>\n",
      "violinplot                   function       <function violinplot at 0x10e791598>\n",
      "viridis                      function       <function viridis at 0x10e7926a8>\n",
      "vlines                       function       <function vlines at 0x10e791620>\n",
      "waitforbuttonpress           function       <function waitforbuttonpress at 0x10e78cc80>\n",
      "warnings                     module         <module 'warnings' from '<...>b/python3.6/warnings.py'>\n",
      "winter                       function       <function winter at 0x10e792488>\n",
      "x                            int            22\n",
      "xcorr                        function       <function xcorr at 0x10e7916a8>\n",
      "xkcd                         function       <function xkcd at 0x10e78c378>\n",
      "xlabel                       function       <function xlabel at 0x10e789a60>\n",
      "xlim                         function       <function xlim at 0x10e789b70>\n",
      "xscale                       function       <function xscale at 0x10e789c80>\n",
      "xticks                       function       <function xticks at 0x10e789d90>\n",
      "y                            int            2\n",
      "ylabel                       function       <function ylabel at 0x10e789ae8>\n",
      "ylim                         function       <function ylim at 0x10e789bf8>\n",
      "yscale                       function       <function yscale at 0x10e789d08>\n",
      "yticks                       function       <function yticks at 0x10e789e18>\n"
     ]
    }
   ],
   "source": [
    "whos"
   ]
  },
  {
   "cell_type": "code",
   "execution_count": 28,
   "metadata": {},
   "outputs": [
    {
     "data": {
      "text/plain": [
       "32.958984375"
      ]
     },
     "execution_count": 28,
     "metadata": {},
     "output_type": "execute_result"
    }
   ],
   "source": [
    "(30*144*1000*8)/(1024**2)"
   ]
  },
  {
   "cell_type": "code",
   "execution_count": null,
   "metadata": {
    "collapsed": true
   },
   "outputs": [],
   "source": []
  }
 ],
 "metadata": {
  "celltoolbar": "Slideshow",
  "kernelspec": {
   "display_name": "Python 3",
   "language": "python",
   "name": "python3"
  },
  "language_info": {
   "codemirror_mode": {
    "name": "ipython",
    "version": 3
   },
   "file_extension": ".py",
   "mimetype": "text/x-python",
   "name": "python",
   "nbconvert_exporter": "python",
   "pygments_lexer": "ipython3",
   "version": "3.6.2"
  }
 },
 "nbformat": 4,
 "nbformat_minor": 2
}
