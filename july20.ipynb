{
 "cells": [
  {
   "cell_type": "markdown",
   "metadata": {},
   "source": [
    "July 20 –  Statistical Analysis & Spatial Characteristics\n",
    "================================\n",
    "* Mean, standard deviation, median, mode\n",
    "* Error bar plots\n",
    "* Histograms\n",
    "\n",
    "CWK: Compute the mean, median, mode and standard deviation for each city for temperature and precipitation. Plot the temperature and precipitation plots with error bars and the the histograms for both variables for all 4 cities. Submit these graphs and a paragraph discussing whether the mean, median, and standard deviation are accurate representations of the variability in the data given the histogram."
   ]
  },
  {
   "cell_type": "code",
   "execution_count": 16,
   "metadata": {
    "collapsed": false
   },
   "outputs": [],
   "source": [
    "#lets start with yesterday's data, aggregated into city averages:\n",
    "\n",
    "import pandas as pd\n",
    "import numpy as np\n",
    "\n",
    "data_path = \"C:\\\\Users\\\\story645\\\\Desktop\\\\EAS213_2015\\\\GHCN_2005_2015.csv\"\n",
    "df = pd.read_csv(data_path)\n",
    "\n",
    "nyc_inds = [sn.endswith(\"NY US\") for sn in df['STATION_NAME']]\n",
    "nyc = df[nyc_inds]\n",
    "datakeys = [u'EMXP', u'MXSD', u'TPCP', u'TSNW', u'EMXT', u'EMNT', u'MMXT', u'MMNT', u'MNTM']\n",
    "for dk in datakeys:\n",
    "    nyc[dk][nyc[dk]==-9999]= np.nan\n",
    "\n",
    "nyc_agg = nyc.groupby('DATE').mean()"
   ]
  },
  {
   "cell_type": "code",
   "execution_count": null,
   "metadata": {
    "collapsed": true
   },
   "outputs": [],
   "source": []
  }
 ],
 "metadata": {
  "kernelspec": {
   "display_name": "Python 2",
   "language": "python",
   "name": "python2"
  },
  "language_info": {
   "codemirror_mode": {
    "name": "ipython",
    "version": 2
   },
   "file_extension": ".py",
   "mimetype": "text/x-python",
   "name": "python",
   "nbconvert_exporter": "python",
   "pygments_lexer": "ipython2",
   "version": "2.7.7"
  }
 },
 "nbformat": 4,
 "nbformat_minor": 0
}
