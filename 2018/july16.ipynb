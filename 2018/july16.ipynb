{
 "cells": [
  {
   "cell_type": "markdown",
   "metadata": {},
   "source": [
    "# Quantatively analyze contrast\n",
    "Let's use the functions you've learned with Brian to look at some landsat data"
   ]
  },
  {
   "cell_type": "markdown",
   "metadata": {},
   "source": [
    "Use the ls (list) command to see which files are in the director. If the files you need aren't there, then move the files into the foder."
   ]
  },
  {
   "cell_type": "code",
   "execution_count": 2,
   "metadata": {},
   "outputs": [
    {
     "ename": "ImportError",
     "evalue": "dlopen(/Users/hannah/projects/matplotlib/lib/matplotlib/ft2font.cpython-36m-darwin.so, 2): Library not loaded: @rpath/libfreetype.6.dylib\n  Referenced from: /Users/hannah/projects/matplotlib/lib/matplotlib/ft2font.cpython-36m-darwin.so\n  Reason: Incompatible library version: ft2font.cpython-36m-darwin.so requires version 22.0.0 or later, but libfreetype.6.dylib provides version 19.0.0",
     "output_type": "error",
     "traceback": [
      "\u001b[0;31m---------------------------------------------------------------------------\u001b[0m",
      "\u001b[0;31mImportError\u001b[0m                               Traceback (most recent call last)",
      "\u001b[0;32m<ipython-input-2-93467cf07c07>\u001b[0m in \u001b[0;36m<module>\u001b[0;34m()\u001b[0m\n\u001b[1;32m      4\u001b[0m \u001b[0mthis\u001b[0m \u001b[0;32mis\u001b[0m \u001b[0ma\u001b[0m \u001b[0mtranscription\u001b[0m \u001b[0mof\u001b[0m \u001b[0mlandsat_display\u001b[0m\u001b[0;34m.\u001b[0m\u001b[0mpy\u001b[0m\u001b[0;34m\u001b[0m\u001b[0m\n\u001b[1;32m      5\u001b[0m \"\"\"\n\u001b[0;32m----> 6\u001b[0;31m \u001b[0;32mimport\u001b[0m \u001b[0mlandsat_sample_functions\u001b[0m \u001b[0;32mas\u001b[0m \u001b[0mlf\u001b[0m\u001b[0;34m\u001b[0m\u001b[0m\n\u001b[0m\u001b[1;32m      7\u001b[0m \u001b[0;34m\u001b[0m\u001b[0m\n\u001b[1;32m      8\u001b[0m \u001b[0mrgbdatafile\u001b[0m \u001b[0;34m=\u001b[0m \u001b[0;34m\"../data/landsat_RGBN.txt\"\u001b[0m\u001b[0;34m\u001b[0m\u001b[0m\n",
      "\u001b[0;32m~/projects/glasslab/EAS213/2018/landsat_sample_functions.py\u001b[0m in \u001b[0;36m<module>\u001b[0;34m()\u001b[0m\n\u001b[1;32m      2\u001b[0m \u001b[0;34m\u001b[0m\u001b[0m\n\u001b[1;32m      3\u001b[0m \u001b[0;32mimport\u001b[0m \u001b[0mnumpy\u001b[0m \u001b[0;32mas\u001b[0m \u001b[0mnp\u001b[0m\u001b[0;34m\u001b[0m\u001b[0m\n\u001b[0;32m----> 4\u001b[0;31m \u001b[0;32mimport\u001b[0m \u001b[0mmatplotlib\u001b[0m\u001b[0;34m.\u001b[0m\u001b[0mpyplot\u001b[0m \u001b[0;32mas\u001b[0m \u001b[0mplt\u001b[0m\u001b[0;34m\u001b[0m\u001b[0m\n\u001b[0m\u001b[1;32m      5\u001b[0m \u001b[0;34m\u001b[0m\u001b[0m\n\u001b[1;32m      6\u001b[0m \u001b[0;31m# --------------------------------\u001b[0m\u001b[0;34m\u001b[0m\u001b[0;34m\u001b[0m\u001b[0m\n",
      "\u001b[0;32m~/projects/matplotlib/lib/matplotlib/pyplot.py\u001b[0m in \u001b[0;36m<module>\u001b[0;34m()\u001b[0m\n\u001b[1;32m     30\u001b[0m \u001b[0;32mfrom\u001b[0m \u001b[0mcycler\u001b[0m \u001b[0;32mimport\u001b[0m \u001b[0mcycler\u001b[0m\u001b[0;34m\u001b[0m\u001b[0m\n\u001b[1;32m     31\u001b[0m \u001b[0;32mimport\u001b[0m \u001b[0mmatplotlib\u001b[0m\u001b[0;34m\u001b[0m\u001b[0m\n\u001b[0;32m---> 32\u001b[0;31m \u001b[0;32mimport\u001b[0m \u001b[0mmatplotlib\u001b[0m\u001b[0;34m.\u001b[0m\u001b[0mcolorbar\u001b[0m\u001b[0;34m\u001b[0m\u001b[0m\n\u001b[0m\u001b[1;32m     33\u001b[0m \u001b[0;32mfrom\u001b[0m \u001b[0mmatplotlib\u001b[0m \u001b[0;32mimport\u001b[0m \u001b[0mstyle\u001b[0m\u001b[0;34m\u001b[0m\u001b[0m\n\u001b[1;32m     34\u001b[0m \u001b[0;32mfrom\u001b[0m \u001b[0mmatplotlib\u001b[0m \u001b[0;32mimport\u001b[0m \u001b[0m_pylab_helpers\u001b[0m\u001b[0;34m,\u001b[0m \u001b[0minteractive\u001b[0m\u001b[0;34m\u001b[0m\u001b[0m\n",
      "\u001b[0;32m~/projects/matplotlib/lib/matplotlib/colorbar.py\u001b[0m in \u001b[0;36m<module>\u001b[0;34m()\u001b[0m\n\u001b[1;32m     34\u001b[0m \u001b[0;32mimport\u001b[0m \u001b[0mmatplotlib\u001b[0m\u001b[0;34m.\u001b[0m\u001b[0mcollections\u001b[0m \u001b[0;32mas\u001b[0m \u001b[0mcollections\u001b[0m\u001b[0;34m\u001b[0m\u001b[0m\n\u001b[1;32m     35\u001b[0m \u001b[0;32mimport\u001b[0m \u001b[0mmatplotlib\u001b[0m\u001b[0;34m.\u001b[0m\u001b[0mcolors\u001b[0m \u001b[0;32mas\u001b[0m \u001b[0mcolors\u001b[0m\u001b[0;34m\u001b[0m\u001b[0m\n\u001b[0;32m---> 36\u001b[0;31m \u001b[0;32mimport\u001b[0m \u001b[0mmatplotlib\u001b[0m\u001b[0;34m.\u001b[0m\u001b[0mcontour\u001b[0m \u001b[0;32mas\u001b[0m \u001b[0mcontour\u001b[0m\u001b[0;34m\u001b[0m\u001b[0m\n\u001b[0m\u001b[1;32m     37\u001b[0m \u001b[0;32mimport\u001b[0m \u001b[0mmatplotlib\u001b[0m\u001b[0;34m.\u001b[0m\u001b[0mcm\u001b[0m \u001b[0;32mas\u001b[0m \u001b[0mcm\u001b[0m\u001b[0;34m\u001b[0m\u001b[0m\n\u001b[1;32m     38\u001b[0m \u001b[0;32mimport\u001b[0m \u001b[0mmatplotlib\u001b[0m\u001b[0;34m.\u001b[0m\u001b[0mgridspec\u001b[0m \u001b[0;32mas\u001b[0m \u001b[0mgridspec\u001b[0m\u001b[0;34m\u001b[0m\u001b[0m\n",
      "\u001b[0;32m~/projects/matplotlib/lib/matplotlib/contour.py\u001b[0m in \u001b[0;36m<module>\u001b[0;34m()\u001b[0m\n\u001b[1;32m     18\u001b[0m \u001b[0;32mimport\u001b[0m \u001b[0mmatplotlib\u001b[0m\u001b[0;34m.\u001b[0m\u001b[0mcolors\u001b[0m \u001b[0;32mas\u001b[0m \u001b[0mcolors\u001b[0m\u001b[0;34m\u001b[0m\u001b[0m\n\u001b[1;32m     19\u001b[0m \u001b[0;32mimport\u001b[0m \u001b[0mmatplotlib\u001b[0m\u001b[0;34m.\u001b[0m\u001b[0mcollections\u001b[0m \u001b[0;32mas\u001b[0m \u001b[0mmcoll\u001b[0m\u001b[0;34m\u001b[0m\u001b[0m\n\u001b[0;32m---> 20\u001b[0;31m \u001b[0;32mimport\u001b[0m \u001b[0mmatplotlib\u001b[0m\u001b[0;34m.\u001b[0m\u001b[0mfont_manager\u001b[0m \u001b[0;32mas\u001b[0m \u001b[0mfont_manager\u001b[0m\u001b[0;34m\u001b[0m\u001b[0m\n\u001b[0m\u001b[1;32m     21\u001b[0m \u001b[0;32mimport\u001b[0m \u001b[0mmatplotlib\u001b[0m\u001b[0;34m.\u001b[0m\u001b[0mtext\u001b[0m \u001b[0;32mas\u001b[0m \u001b[0mtext\u001b[0m\u001b[0;34m\u001b[0m\u001b[0m\n\u001b[1;32m     22\u001b[0m \u001b[0;32mimport\u001b[0m \u001b[0mmatplotlib\u001b[0m\u001b[0;34m.\u001b[0m\u001b[0mcbook\u001b[0m \u001b[0;32mas\u001b[0m \u001b[0mcbook\u001b[0m\u001b[0;34m\u001b[0m\u001b[0m\n",
      "\u001b[0;32m~/projects/matplotlib/lib/matplotlib/font_manager.py\u001b[0m in \u001b[0;36m<module>\u001b[0;34m()\u001b[0m\n\u001b[1;32m     53\u001b[0m \u001b[0;32mimport\u001b[0m \u001b[0mlogging\u001b[0m\u001b[0;34m\u001b[0m\u001b[0m\n\u001b[1;32m     54\u001b[0m \u001b[0;34m\u001b[0m\u001b[0m\n\u001b[0;32m---> 55\u001b[0;31m \u001b[0;32mfrom\u001b[0m \u001b[0mmatplotlib\u001b[0m \u001b[0;32mimport\u001b[0m \u001b[0mafm\u001b[0m\u001b[0;34m,\u001b[0m \u001b[0mcbook\u001b[0m\u001b[0;34m,\u001b[0m \u001b[0mft2font\u001b[0m\u001b[0;34m,\u001b[0m \u001b[0mrcParams\u001b[0m\u001b[0;34m,\u001b[0m \u001b[0mget_cachedir\u001b[0m\u001b[0;34m\u001b[0m\u001b[0m\n\u001b[0m\u001b[1;32m     56\u001b[0m \u001b[0;32mfrom\u001b[0m \u001b[0mmatplotlib\u001b[0m\u001b[0;34m.\u001b[0m\u001b[0mcompat\u001b[0m \u001b[0;32mimport\u001b[0m \u001b[0msubprocess\u001b[0m\u001b[0;34m\u001b[0m\u001b[0m\n\u001b[1;32m     57\u001b[0m from matplotlib.fontconfig_pattern import (\n",
      "\u001b[0;31mImportError\u001b[0m: dlopen(/Users/hannah/projects/matplotlib/lib/matplotlib/ft2font.cpython-36m-darwin.so, 2): Library not loaded: @rpath/libfreetype.6.dylib\n  Referenced from: /Users/hannah/projects/matplotlib/lib/matplotlib/ft2font.cpython-36m-darwin.so\n  Reason: Incompatible library version: ft2font.cpython-36m-darwin.so requires version 22.0.0 or later, but libfreetype.6.dylib provides version 19.0.0"
     ]
    }
   ],
   "source": [
    "\"\"\"now lets use the landsat functions \n",
    "to look at the downloaded data\n",
    "\n",
    "this is a transcription of landsat_display.py\n",
    "\"\"\"\n",
    "import landsat_sample_functions as lf\n",
    "\n",
    "rgbdatafile = \"../data/landsat_RGBN.txt\"\n",
    "#read in landsat data\n",
    "rgbn = lf.landsat_read(rgbdatafile)"
   ]
  },
  {
   "cell_type": "code",
   "execution_count": null,
   "metadata": {},
   "outputs": [],
   "source": [
    "%matplotlib notebook\n",
    "\n"
   ]
  },
  {
   "cell_type": "code",
   "execution_count": null,
   "metadata": {},
   "outputs": [],
   "source": [
    "#let's look at the contents of rgbn\n",
    "rgbn"
   ]
  },
  {
   "cell_type": "code",
   "execution_count": null,
   "metadata": {},
   "outputs": [],
   "source": [
    "dimensions = rgbn.shape\n",
    "print('dimensions of rgbn = {}'.format(dimensions))\n",
    "\n",
    "\"\"\"\n",
    "trim to rgb by slicing off last channel\n",
    ": means take all values in that dim\n",
    "0:3 means take 0, 1, 2 - slicing stops 1 before last\n",
    "\"\"\"\n",
    "rgb = rgbn[:, :, 0:3]\n",
    "\n",
    "rgb.shape"
   ]
  },
  {
   "cell_type": "markdown",
   "metadata": {},
   "source": [
    "# What do the dimensions mean?\n",
    "\n",
    "(number of rows, number of columns, channels)\n",
    " \n",
    "* 815 rows, 921 columns, and 3 channels\n",
    "* 815 x 921 is the image size, \n",
    "* 3 channels = red, green, blue"
   ]
  },
  {
   "cell_type": "markdown",
   "metadata": {},
   "source": [
    "![numpy](https://github.com/story645/EAS213/raw/master/2016/figs/axis.png)"
   ]
  },
  {
   "cell_type": "code",
   "execution_count": null,
   "metadata": {},
   "outputs": [],
   "source": [
    "#let's see the pictures in the notebook\n",
    "%matplotlib notebook\n",
    "rgbc = lf.rgb_display(rgb)"
   ]
  },
  {
   "cell_type": "code",
   "execution_count": null,
   "metadata": {},
   "outputs": [],
   "source": [
    "rgbc"
   ]
  },
  {
   "cell_type": "code",
   "execution_count": null,
   "metadata": {},
   "outputs": [],
   "source": [
    "# alternative to rgb_display:\n",
    "def rgb_contrast(rgb_array, contrast):\n",
    "    \"\"\"returns an RGB image adjusted based\n",
    "    on contrast level\n",
    "    \"\"\"\n",
    "    rgbc_array = rgb_array * contrast\n",
    "    low = (rgbc_array < 0)\n",
    "    rgbc_array[low] = 0\n",
    "\n",
    "    high = (rgbc_array > 1)\n",
    "    rgbc_array[high] = 1\n",
    "    \n",
    "    return rgbc_array"
   ]
  },
  {
   "cell_type": "markdown",
   "metadata": {},
   "source": [
    "# Is there's a difference between the two arrays?"
   ]
  },
  {
   "cell_type": "code",
   "execution_count": null,
   "metadata": {},
   "outputs": [],
   "source": [
    "#let's compare the plots side by side\n",
    "\n",
    "import matplotlib.pyplot as plt\n",
    "\n",
    "# create an image and add two subplots to it\n",
    "# arrange those subplots into cols\n",
    "fig, (ax1, ax2) = plt.subplots(ncols=2)\n",
    "\n",
    "# plot the rgb array\n",
    "ax1.imshow(rgb)\n",
    "\n",
    "# plot the rgbc array\n",
    "ax2.imshow(rgbc)\n",
    "\n",
    "fig.show()"
   ]
  },
  {
   "cell_type": "code",
   "execution_count": null,
   "metadata": {},
   "outputs": [],
   "source": [
    "#figsize = (width, height) makes the figure bigger/smaller\n",
    "fig, (ax1, ax2) = plt.subplots(ncols=2, figsize=(10,5))\n",
    "\n",
    "ax1.imshow(rgb)\n",
    "ax2.imshow(rgbc)\n",
    "\n",
    "fig.show()"
   ]
  },
  {
   "cell_type": "markdown",
   "metadata": {},
   "source": [
    "# How'd that happen?\n",
    "Each image is made up of 3 channels, so let's look at how the channels changed. \n",
    "\n",
    "How do we pull out channels? Each layer of the array (that 3rd dimension) is a color, so we grab individual layers. "
   ]
  },
  {
   "cell_type": "code",
   "execution_count": null,
   "metadata": {},
   "outputs": [],
   "source": [
    "# Channel is the last dimension \n",
    "# computer scientists count from 0\n",
    "# : means give all the values (all rows & columns)\n",
    "red = rgb[:,:,0]\n",
    "# can also use ... to mean everything \n",
    "green = rgb[...,1]\n",
    "blue = rgb[...,2]"
   ]
  },
  {
   "cell_type": "code",
   "execution_count": null,
   "metadata": {},
   "outputs": [],
   "source": [
    "# plot each of the individual channels and compare to image\n",
    "# arrange the subplots as a 2x2 table\n",
    "# sharex/sharey zooms all the images when 1 is zoomed\n",
    "fig, axes = plt.subplots(nrows=2, ncols=2, \n",
    "                         sharex=True, sharey=True)\n",
    "\n",
    "\"\"\"axes is a numpy array of shape (2,2) and has coordinates\n",
    "  [(0,0), (0,1)]\n",
    "  [(1,0), (1,1)]\n",
    "\"\"\"\n",
    "# plot rbc in the upper left corner \n",
    "im = axes[0,0].imshow(rgb)\n",
    "\n",
    "# plot the red channel in the upper right corner\n",
    "# color it from white to red\n",
    "# 0 and below = lightest red, 1 and above = darkest red\n",
    "# between 0-1 is along the red gradient (normalization)\n",
    "r = axes[0,1].imshow(red, cmap=\"Reds\", vmin=0, vmax=1)\n",
    "# attach a colorbar to the red channel image & axes\n",
    "fig.colorbar(r, ax=axes[0,1])\n",
    "\n",
    "# plot the green channel\n",
    "g = axes[1,0].imshow(green, cmap=\"Greens\", vmin=0, vmax=1)\n",
    "fig.colorbar(g, ax=axes[1,0])\n",
    "\n",
    "# plot the blue channel\n",
    "b = axes[1,1].imshow(blue, cmap=\"Blues\", vmin=0, vmax=1)\n",
    "fig.colorbar(b, ax=axes[1,1])\n",
    "\n",
    "fig.show()\n",
    "\n",
    "#clean up the plots so they're the right size\n",
    "for ax in axes.flatten():\n",
    "    ax.set_adjustable('box-forced')"
   ]
  },
  {
   "cell_type": "code",
   "execution_count": null,
   "metadata": {},
   "outputs": [],
   "source": [
    "# let's make functions to simplify, maybe...\n",
    "\n",
    "def plot_channel(fig, ax, data, cmap):\n",
    "    im = ax.imshow(data, cmap=cmap, vmin=0, vmax=1)\n",
    "    fig.colorbar(im, ax=ax)\n"
   ]
  },
  {
   "cell_type": "code",
   "execution_count": null,
   "metadata": {},
   "outputs": [],
   "source": [
    "fig, axes = plt.subplots(nrows=2, ncols=2)\n",
    "\n",
    "rgb_im = axes[0,0].imshow(rgb)\n",
    "\n",
    "plot_channel(fig, axes[0,1], red, \"Reds\")\n",
    "\n",
    "\n",
    "fig.suptitle(\"No Contrast\") # set the figure title (super title)\n",
    "axes[0,0].set_title(\"RGB\") # set the axes[0,0] title\n",
    "axes[0,1].set(title=\"Reds\") # set the axes[0,1] title\n",
    "\n",
    "for ax in axes.flatten():\n",
    "    ax.set_adjustable('box-forced')\n",
    "fig.show()\n",
    "\n",
    "plt.tight_layout() #spreads out subplots"
   ]
  },
  {
   "cell_type": "markdown",
   "metadata": {},
   "source": [
    "# To do: \n",
    "Use the same visualization code to visualize the 3 channels of the contrasted (rgbc) image"
   ]
  },
  {
   "cell_type": "markdown",
   "metadata": {},
   "source": [
    "# More quantative way of computing differences?"
   ]
  },
  {
   "cell_type": "markdown",
   "metadata": {},
   "source": [
    "![distro](https://github.com/story645/EAS213/raw/master/2016/figs/distro.jpg)"
   ]
  },
  {
   "cell_type": "code",
   "execution_count": null,
   "metadata": {},
   "outputs": [],
   "source": [
    "# let's start with a histogram of the red channel...\n",
    "\n",
    "fig, ax = plt.subplots()\n",
    "\n",
    "\"\"\"flatten takes a row X column table (or something even more complicate)\n",
    "and turns it into a list\"\"\"\n",
    "# coloring it red just for simplicity\n",
    "ax.hist(red.flatten(), bins=10, color=\"red\")\n",
    "\n",
    "#let's label all the things\n",
    "ax.set(xlabel=\"red pixel values\", ylabel=\"# of observations\")     \n",
    "fig.show()"
   ]
  },
  {
   "cell_type": "code",
   "execution_count": null,
   "metadata": {},
   "outputs": [],
   "source": [
    "# What does changing the bin size do?\n",
    "\n",
    "fig, ax = plt.subplots()\n",
    "\n",
    "ax.hist(red.flatten(), bins=10, color=\"hotpink\")\n",
    "ax.hist(red.flatten(), bins=100, color=\"red\")\n",
    "\n",
    "ax.set(xlabel=\"red pixel values\", ylabel=\"# of observations\")     \n",
    "fig.show()"
   ]
  },
  {
   "cell_type": "code",
   "execution_count": null,
   "metadata": {},
   "outputs": [],
   "source": [
    "# Huh? same are under curve: 1 red bin = 10 pink bins\n",
    "# Can see this by using normed=True to equalize\n",
    "\n",
    "fig, ax = plt.subplots()\n",
    "\n",
    "ax.hist(red.flatten(), bins=10, normed=True, color=\"hotpink\")\n",
    "ax.hist(red.flatten(), bins=100, normed=True, color=\"red\", alpha=.5)\n",
    "\n",
    "ax.set(xlabel=\"red pixel values\", ylabel=\"# of observations\")     \n",
    "fig.show()"
   ]
  },
  {
   "cell_type": "code",
   "execution_count": null,
   "metadata": {},
   "outputs": [],
   "source": [
    "# rough bin size rule? 2*n^(1/3)\n",
    "2*red.size**(1./3)"
   ]
  },
  {
   "cell_type": "code",
   "execution_count": null,
   "metadata": {},
   "outputs": [],
   "source": [
    "# blue channel?\n",
    "\n",
    "fig, ax = plt.subplots()\n",
    "ax.hist(red.flatten(), bins=180, color=\"red\")\n",
    "\n",
    "ax.hist(blue.flatten(), bins=180, color=\"blue\")\n",
    "\n",
    "ax.set(xlabel=\"pixel values\", \n",
    "       ylabel=\"# of observations\")\n",
    "fig.show()"
   ]
  },
  {
   "cell_type": "code",
   "execution_count": null,
   "metadata": {},
   "outputs": [],
   "source": [
    "# eek! let's use alpha to make things transparent\n",
    "fig, ax = plt.subplots()\n",
    "ax.hist(red.flatten(), bins=180, color=\"red\", alpha=0.3)\n",
    "ax.hist(blue.flatten(), bins=180, color=\"blue\", alpha=0.3)\n",
    "\n",
    "ax.set(xlabel=\"pixel values\", \n",
    "       ylabel=\"# of observations\")\n",
    "fig.show()"
   ]
  },
  {
   "cell_type": "markdown",
   "metadata": {},
   "source": [
    "# To do\n",
    "* Plot histogram for green channel\n",
    "* Plot histogram for channels in contrasted data\n",
    "* Compare histograms of contrasted and raw images"
   ]
  },
  {
   "cell_type": "markdown",
   "metadata": {},
   "source": [
    "# How do we go from frequencies to distributions?\n",
    "\n",
    "histograms are raw counts = frequencies,\n",
    "distributions are the probabilities of events occuring\n",
    "\n",
    "We use density estimation to trace a curve over the histogram"
   ]
  },
  {
   "cell_type": "code",
   "execution_count": null,
   "metadata": {},
   "outputs": [],
   "source": [
    "import scipy.stats as st\n",
    "import numpy as np\n",
    "\n",
    "\"\"\"estimate the probability function  for red channel pixels, \n",
    "which means P(red channel pixel) = probability of that pixel\n",
    "being that value\"\"\"\n",
    "\n",
    "Pred = st.gaussian_kde(red.flatten())\n",
    "\n",
    "\n",
    "# color values range between 0 - 1 \n",
    "\n",
    "# generate a 100 pixels equally spaced between 0 and 1\n",
    "# this is an estimation of all possible pixel values\n",
    "pixel_values = np.linspace(0,1,100) \n",
    "\n",
    "# pass each of those values into the probability function \n",
    "# to find the likelihood of it happening\n",
    "pixel_probs_red = Pred(pixel_values) "
   ]
  },
  {
   "cell_type": "code",
   "execution_count": null,
   "metadata": {},
   "outputs": [],
   "source": [
    "fig, ax = plt.subplots()\n",
    "\n",
    "\"\"\"normed=True takes the histogram and puts it on a\n",
    "0-1 scale. This is to match the probability function since \n",
    "0 = lowest probability, 1 = highest probability\n",
    "\"\"\"\n",
    "\n",
    "# use the label keyword to label the plot\n",
    "ax.hist(red.flatten(), bins=180, color=\"red\",normed=True,\n",
    "        alpha=0.3, label=\"Hist(pixel)\")\n",
    "\n",
    "ax.plot(pixel_values, pixel_probs_red, \n",
    "        color=\"red\", label=\"P(pixel)\")\n",
    "\n",
    "ax.set(ylabel=\"# of observations\", xlabel=\"pixel values\")\n",
    "\n",
    "ax.legend() #add the legend to the image\n",
    "fig.show()\n",
    "\n"
   ]
  },
  {
   "cell_type": "markdown",
   "metadata": {},
   "source": [
    "# To Do\n",
    "* Compute and plot the distributions of the green and blue channels\n",
    "* Compute and plot the distributions of the channels for rgbc\n",
    "* Discuss the differences between the uncontrasted and contrasted images\n"
   ]
  }
 ],
 "metadata": {
  "kernelspec": {
   "display_name": "Python 3",
   "language": "python",
   "name": "python3"
  },
  "language_info": {
   "codemirror_mode": {
    "name": "ipython",
    "version": 3
   },
   "file_extension": ".py",
   "mimetype": "text/x-python",
   "name": "python",
   "nbconvert_exporter": "python",
   "pygments_lexer": "ipython3",
   "version": "3.6.3"
  }
 },
 "nbformat": 4,
 "nbformat_minor": 2
}
