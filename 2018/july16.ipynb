{
 "cells": [
  {
   "cell_type": "markdown",
   "metadata": {},
   "source": [
    "# Quantatively analyze contrast\n",
    "Let's use the functions you've learned with Brian to look at some landsat data"
   ]
  },
  {
   "cell_type": "markdown",
   "metadata": {},
   "source": [
    "The landsat fils can be found at https://github.com/story645/EAS213/tree/master/data\n",
    "\n",
    "If you have the file on your computer, set the path to the location on disk:\n",
    "\n",
    "```python\n",
    "rgbdatafile = \"/path/to/landsat_RGBN.txt\"\n",
    "```\n",
    "if you are running the file via mybinder (the interactive version), then set the path to the managed version of the data:\n",
    "\n",
    "```python\n",
    "from quilt.data.story645.eas213 import (landsat_RGBN, landsat_thermrad)\n",
    "rgbdatafile = landsat_RGBN._data()\n",
    "```\n",
    "\n",
    "You can also install quilt and the data package on your computer to access the data. To do so, enter the following commands in a terminal or anaconda command prompt:\n",
    "\n",
    "```bash\n",
    "pip install quilt\n",
    "quilt install story645/eas213\n",
    "```"
   ]
  },
  {
   "cell_type": "code",
   "execution_count": null,
   "metadata": {},
   "outputs": [],
   "source": [
    "#set rgbdatafile variable in this cell\n",
    "rgbdatafile = "
   ]
  },
  {
   "cell_type": "code",
   "execution_count": null,
   "metadata": {},
   "outputs": [],
   "source": [
    "# load the functions you wrote during the remote sensing class as a python library\n",
    "import landsat_sample_functions as lf\n",
    "\n",
    "# read in the the landsat data\n",
    "rgbn = lf.landsat_read(rgbdatafile)"
   ]
  },
  {
   "cell_type": "code",
   "execution_count": null,
   "metadata": {},
   "outputs": [],
   "source": [
    "#let's look at the contents of rgbn\n",
    "rgbn[0] #first row of the rgbn array"
   ]
  },
  {
   "cell_type": "code",
   "execution_count": null,
   "metadata": {},
   "outputs": [],
   "source": [
    "dimensions = rgbn.shape\n",
    "print('dimensions of rgbn = {}'.format(dimensions))\n",
    "\n",
    "\"\"\"\n",
    "trim to rgb by slicing off last channel\n",
    ": means take all values in that dim\n",
    "0:3 means take 0, 1, 2 - slicing stops 1 before last\n",
    "\"\"\"\n",
    "rgb = rgbn[:, :, 0:3]\n",
    "\n",
    "rgb.shape"
   ]
  },
  {
   "cell_type": "markdown",
   "metadata": {},
   "source": [
    "# What do the dimensions mean?\n",
    "\n",
    "(number of rows, number of columns, channels)\n",
    " \n",
    "* 815 rows, 921 columns, and 3 channels\n",
    "* 815 x 921 is the image size, \n",
    "* 3 channels = red, green, blue"
   ]
  },
  {
   "cell_type": "markdown",
   "metadata": {},
   "source": [
    "![numpy](https://github.com/story645/EAS213/raw/master/2016/figs/axis.png)"
   ]
  },
  {
   "cell_type": "code",
   "execution_count": null,
   "metadata": {},
   "outputs": [],
   "source": [
    "# lets set up inline plotting\n",
    "%matplotlib widget"
   ]
  },
  {
   "cell_type": "code",
   "execution_count": null,
   "metadata": {},
   "outputs": [],
   "source": [
    "#let's see the pictures in the notebook\n",
    "rgbc = lf.rgb_display(rgb)"
   ]
  },
  {
   "cell_type": "code",
   "execution_count": null,
   "metadata": {},
   "outputs": [],
   "source": [
    "rgbc[0] # first row of rgbc"
   ]
  },
  {
   "cell_type": "code",
   "execution_count": null,
   "metadata": {},
   "outputs": [],
   "source": [
    "# alternative to rgb_display:\n",
    "def rgb_contrast(rgb_array, contrast):\n",
    "    \"\"\"returns an RGB image adjusted based\n",
    "    on contrast level\n",
    "    \"\"\"\n",
    "    rgbc_array = rgb_array * contrast\n",
    "    low = (rgbc_array < 0)\n",
    "    rgbc_array[low] = 0\n",
    "\n",
    "    high = (rgbc_array > 1)\n",
    "    rgbc_array[high] = 1\n",
    "    \n",
    "    return rgbc_array"
   ]
  },
  {
   "cell_type": "code",
   "execution_count": null,
   "metadata": {},
   "outputs": [],
   "source": [
    "rgbc = rgb_contrast(rgb, 3)\n",
    "rgbc[0]"
   ]
  },
  {
   "cell_type": "markdown",
   "metadata": {},
   "source": [
    "# Is there's a difference between the two arrays?"
   ]
  },
  {
   "cell_type": "markdown",
   "metadata": {},
   "source": [
    "![mpl anatomy figure](figs/mpl_anatomy.png)"
   ]
  },
  {
   "cell_type": "code",
   "execution_count": null,
   "metadata": {},
   "outputs": [],
   "source": [
    "#let's compare the plots side by side\n",
    "\n",
    "import matplotlib.pyplot as plt\n",
    "\n",
    "# create an image and add two subplots to it\n",
    "# arrange those subplots into cols\n",
    "# sharex and sharey so that panning and zooming are synced\n",
    "fig, (ax1, ax2) = plt.subplots(ncols=2, sharex=True, sharey=True, constrained_layout=True)\n",
    "\n",
    "# plot the rgb array\n",
    "ax1.imshow(rgb)\n",
    "\n",
    "# plot the rgbc array\n",
    "ax2.imshow(rgbc)\n",
    "\n",
    "fig.show()"
   ]
  },
  {
   "cell_type": "code",
   "execution_count": null,
   "metadata": {},
   "outputs": [],
   "source": [
    "#figsize = (width, height) makes the figure bigger/smaller\n",
    "fig, (ax1, ax2) = plt.subplots(ncols=2, figsize=(8,4), sharex=True, sharey=True, \n",
    "                               constrained_layout=True)\n",
    "\n",
    "ax1.imshow(rgb)\n",
    "ax2.imshow(rgbc)\n",
    "\n",
    "fig.show()"
   ]
  },
  {
   "cell_type": "markdown",
   "metadata": {},
   "source": [
    "# How'd that happen?\n",
    "Each image is made up of 3 channels, so let's look at how the channels changed. \n",
    "\n",
    "How do we pull out channels? Each layer of the array (that 3rd dimension) is a color, so we grab individual layers. "
   ]
  },
  {
   "cell_type": "code",
   "execution_count": null,
   "metadata": {},
   "outputs": [],
   "source": [
    "# Channel is the last dimension \n",
    "# computer scientists count from 0\n",
    "# : means give all the values (all rows & columns)\n",
    "red = rgb[:,:,0]\n",
    "# can also use ... to mean everything \n",
    "green = rgb[...,1]\n",
    "blue = rgb[...,2]"
   ]
  },
  {
   "cell_type": "code",
   "execution_count": null,
   "metadata": {},
   "outputs": [],
   "source": [
    "# plot each of the individual channels and compare to image\n",
    "# arrange the subplots as a 2x2 table\n",
    "# sharex/sharey zooms all the images when 1 is zoomed\n",
    "fig, axes = plt.subplots(nrows=2, ncols=2, \n",
    "                         sharex=True, sharey=True, constrained_layout=True)\n",
    "\n",
    "\"\"\"axes is a numpy array of shape (2,2) and has coordinates\n",
    "  [(0,0), (0,1)]\n",
    "  [(1,0), (1,1)]\n",
    "\"\"\"\n",
    "# plot rbc in the upper left corner \n",
    "im = axes[0,0].imshow(rgb)\n",
    "\n",
    "# plot the red channel in the upper right corner\n",
    "# color it from white to red\n",
    "# 0 and below = lightest red, 1 and above = darkest red\n",
    "# between 0-1 is along the red gradient (normalization)\n",
    "r = axes[0,1].imshow(red, cmap=\"Reds\", vmin=0, vmax=1)\n",
    "# attach a colorbar to the red channel image & axes\n",
    "fig.colorbar(r, ax=axes[0,1])\n",
    "\n",
    "# plot the green channel\n",
    "g = axes[1,0].imshow(green, cmap=\"Greens\", vmin=0, vmax=1)\n",
    "fig.colorbar(g, ax=axes[1,0])\n",
    "\n",
    "# plot the blue channel\n",
    "b = axes[1,1].imshow(blue, cmap=\"Blues\", vmin=0, vmax=1)\n",
    "fig.colorbar(b, ax=axes[1,1])\n",
    "\n",
    "fig.show()"
   ]
  },
  {
   "cell_type": "code",
   "execution_count": null,
   "metadata": {},
   "outputs": [],
   "source": [
    "# let's make functions to simplify, maybe...\n",
    "\n",
    "def plot_channel(fig, ax, data, cmap):\n",
    "    im = ax.imshow(data, cmap=cmap, vmin=0, vmax=1)\n",
    "    fig.colorbar(im, ax=ax)\n"
   ]
  },
  {
   "cell_type": "code",
   "execution_count": null,
   "metadata": {},
   "outputs": [],
   "source": [
    "fig, axes = plt.subplots(nrows=2, ncols=2, constrained_layout=True)\n",
    "\n",
    "rgb_im = axes[0,0].imshow(rgb)\n",
    "\n",
    "plot_channel(fig, axes[0,1], red, \"Reds\")\n",
    "plot_channel(fig, axes[1,0], green, \"Greens\")\n",
    "plot_channel(fig, axes[1,1], blue, \"Blues\")\n",
    "\n",
    "fig.suptitle(\"No Contrast\") # set the figure title (super title)\n",
    "axes[0,0].set_title(\"RGB\") # set the axes[0,0] title\n",
    "axes[0,1].set(title=\"Reds\") # set the axes[0,1] title\n",
    "\n",
    "fig.show()"
   ]
  },
  {
   "cell_type": "markdown",
   "metadata": {},
   "source": [
    "# To do: \n",
    "Use the same visualization code to visualize the 3 channels of the contrasted (rgbc) image"
   ]
  },
  {
   "cell_type": "markdown",
   "metadata": {},
   "source": [
    "# More quantative way of computing differences?"
   ]
  },
  {
   "cell_type": "markdown",
   "metadata": {},
   "source": [
    "![distro](https://github.com/story645/EAS213/raw/master/2016/figs/distro.jpg)"
   ]
  },
  {
   "cell_type": "code",
   "execution_count": null,
   "metadata": {},
   "outputs": [],
   "source": [
    "# let's start with a histogram of the red channel...\n",
    "\n",
    "fig, ax = plt.subplots()\n",
    "\n",
    "\"\"\"flatten takes a row X column table (or something even more complicate)\n",
    "and turns it into a list\"\"\"\n",
    "# coloring it red just for simplicity\n",
    "ax.hist(red.flatten(), bins=10, color=\"red\")\n",
    "\n",
    "#let's label all the things\n",
    "ax.set(xlabel=\"red pixel values\", ylabel=\"# of observations\")     \n",
    "fig.show()"
   ]
  },
  {
   "cell_type": "code",
   "execution_count": null,
   "metadata": {},
   "outputs": [],
   "source": [
    "# What does changing the bin size do?\n",
    "\n",
    "fig, ax = plt.subplots()\n",
    "\n",
    "ax.hist(red.flatten(), bins=10, color=\"hotpink\")\n",
    "ax.hist(red.flatten(), bins=100, color=\"red\")\n",
    "\n",
    "ax.set(xlabel=\"red pixel values\", ylabel=\"# of observations\")     \n",
    "fig.show()"
   ]
  },
  {
   "cell_type": "code",
   "execution_count": null,
   "metadata": {},
   "outputs": [],
   "source": [
    "# Huh? same are under curve: 1 red bin = 10 pink bins\n",
    "# Can see this by using normed=True to equalize\n",
    "\n",
    "fig, ax = plt.subplots()\n",
    "\n",
    "ax.hist(red.flatten(), bins=10, density=True, color=\"hotpink\")\n",
    "#alpha sets the opacity/transluceny of the thing being plotted\n",
    "ax.hist(red.flatten(), bins=100, density=True, color=\"red\", alpha=.5)\n",
    "\n",
    "ax.set(xlabel=\"red pixel values\", ylabel=\"# of observations\")     \n",
    "fig.show()"
   ]
  },
  {
   "cell_type": "code",
   "execution_count": null,
   "metadata": {},
   "outputs": [],
   "source": [
    "# rough bin size rule? 2*n^(1/3)\n",
    "2*red.size**(1./3)"
   ]
  },
  {
   "cell_type": "code",
   "execution_count": null,
   "metadata": {},
   "outputs": [],
   "source": [
    "# blue channel?\n",
    "\n",
    "fig, ax = plt.subplots()\n",
    "ax.hist(red.flatten(), bins=180, color=\"red\")\n",
    "\n",
    "ax.hist(blue.flatten(), bins=180, color=\"blue\")\n",
    "\n",
    "ax.set(xlabel=\"pixel values\", \n",
    "       ylabel=\"# of observations\")\n",
    "fig.show()"
   ]
  },
  {
   "cell_type": "code",
   "execution_count": null,
   "metadata": {},
   "outputs": [],
   "source": [
    "# eek! let's use alpha to make things transparent\n",
    "fig, ax = plt.subplots()\n",
    "ax.hist(red.flatten(), bins=180, color=\"red\", alpha=0.3)\n",
    "ax.hist(blue.flatten(), bins=180, color=\"blue\", alpha=0.3)\n",
    "\n",
    "ax.set(xlabel=\"pixel values\", \n",
    "       ylabel=\"# of observations\")\n",
    "fig.show()"
   ]
  },
  {
   "cell_type": "markdown",
   "metadata": {},
   "source": [
    "# To do\n",
    "* Plot histogram for green channel\n",
    "* Plot histogram for channels in contrasted data\n",
    "* Compare histograms of contrasted and raw images"
   ]
  },
  {
   "cell_type": "markdown",
   "metadata": {},
   "source": [
    "# solution"
   ]
  },
  {
   "cell_type": "code",
   "execution_count": null,
   "metadata": {},
   "outputs": [],
   "source": [
    "fig, (ax1, ax2) = plt.subplots(nrows=2)\n",
    "ax1.hist(red.flatten(), bins=180, color=\"red\", alpha=0.3)\n",
    "ax1.hist(blue.flatten(), bins=180, color=\"blue\", alpha=0.3)\n",
    "ax1.hist(green.flatten(), bins=180, color='green', alpha=0.3)\n",
    "ax1.set(xlabel=\"pixel values\", ylabel=\"# of observations\")\n",
    "\n",
    "redc = rgbc[:,:,0]\n",
    "greenc = rgbc[:,:,1]\n",
    "bluec = rgbc[:,:,2]\n",
    "\n",
    "ax2.hist(redc.flatten(), bins=180, color=\"red\", alpha=0.3)\n",
    "ax2.hist(bluec.flatten(), bins=180, color=\"blue\", alpha=0.3)\n",
    "ax2.hist(greenc.flatten(), bins=180, color='green', alpha=0.3)\n",
    "ax2.set(xlabel=\"pixel values\", ylabel=\"# of observations\")\n",
    "fig.show()"
   ]
  },
  {
   "cell_type": "markdown",
   "metadata": {},
   "source": [
    "# How do we go from frequencies to distributions?\n",
    "\n",
    "histograms are raw counts = frequencies,\n",
    "distributions are the probabilities of events occuring\n",
    "\n",
    "We use density estimation to trace a curve over the histogram"
   ]
  },
  {
   "cell_type": "code",
   "execution_count": null,
   "metadata": {},
   "outputs": [],
   "source": [
    "import scipy.stats as st\n",
    "import numpy as np\n",
    "\n",
    "\"\"\"estimate the probability function  for red channel pixels, \n",
    "which means P(red channel pixel) = probability of that pixel\n",
    "being that value\"\"\"\n",
    "\n",
    "Pred = st.gaussian_kde(red.flatten())\n",
    "\n",
    "\n",
    "# color values range between 0 - 1 \n",
    "\n",
    "# generate a 100 pixels equally spaced between 0 and 1\n",
    "# this is an estimation of all possible pixel values\n",
    "pixel_values = np.linspace(0,1,100) \n",
    "\n",
    "# pass each of those values into the probability function \n",
    "# to find the likelihood of it happening\n",
    "pixel_probs_red = Pred(pixel_values) "
   ]
  },
  {
   "cell_type": "code",
   "execution_count": null,
   "metadata": {},
   "outputs": [],
   "source": [
    "fig, ax = plt.subplots()\n",
    "\n",
    "\"\"\"normed=True takes the histogram and puts it on a\n",
    "0-1 scale. This is to match the probability function since \n",
    "0 = lowest probability, 1 = highest probability\n",
    "\"\"\"\n",
    "\n",
    "# use the label keyword to label the plot\n",
    "ax.hist(red.flatten(), bins=180, color=\"red\",normed=True,\n",
    "        alpha=0.3, label=\"Hist(pixel)\")\n",
    "\n",
    "ax.plot(pixel_values, pixel_probs_red, \n",
    "        color=\"red\", label=\"P(pixel)\")\n",
    "\n",
    "ax.set(ylabel=\"# of observations\", xlabel=\"pixel values\")\n",
    "\n",
    "ax.legend() #add the legend to the image\n",
    "fig.show()\n",
    "\n"
   ]
  },
  {
   "cell_type": "markdown",
   "metadata": {},
   "source": [
    "# To Do\n",
    "* Compute and plot the distributions of the green and blue channels\n",
    "* Compute and plot the distributions of the channels for rgbc\n",
    "* Discuss the differences between the uncontrasted and contrasted images\n"
   ]
  }
 ],
 "metadata": {
  "kernelspec": {
   "display_name": "Python [conda env:hires]",
   "language": "python",
   "name": "conda-env-hires-py"
  },
  "language_info": {
   "codemirror_mode": {
    "name": "ipython",
    "version": 2
   },
   "file_extension": ".py",
   "mimetype": "text/x-python",
   "name": "python",
   "nbconvert_exporter": "python",
   "pygments_lexer": "ipython2",
   "version": "2.7.15"
  }
 },
 "nbformat": 4,
 "nbformat_minor": 2
}
