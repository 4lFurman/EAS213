{
 "cells": [
  {
   "cell_type": "code",
   "execution_count": 2,
   "metadata": {},
   "outputs": [],
   "source": [
    "import landsat_sample_functions as lf"
   ]
  },
  {
   "cell_type": "code",
   "execution_count": 3,
   "metadata": {},
   "outputs": [],
   "source": [
    "import glob\n",
    "import os\n",
    "import re\n",
    "import datetime\n",
    "dexpr = re.compile(\"\\d{4}[-/]\\d{2}[-/]\\d{2}\")"
   ]
  },
  {
   "cell_type": "code",
   "execution_count": 4,
   "metadata": {},
   "outputs": [],
   "source": [
    "rgbf = glob.glob('../data/landast_archibe/RGB_subset_*')\n",
    "rthermrad = glob.glob('../data/landast_archibe/landsat_thermrad_*')\n",
    "rflect = glob.glob('../data/landast_archibe/landsat_reflectances_*')\n",
    "latlon = glob.glob('../data/landast_archibe/landsat_latlon_*')\n"
   ]
  },
  {
   "cell_type": "code",
   "execution_count": 5,
   "metadata": {},
   "outputs": [],
   "source": [
    "def unpack(filename):\n",
    "    _, fullname = os.path.split(filename)\n",
    "    name, ext = os.path.splitext(fullname)\n",
    "    date = dexpr.findall(name)[0]\n",
    "    dt = datetime.datetime.strptime(date, '%Y-%m-%d')\n",
    "    if ext == '.txt':\n",
    "        data = lf.landsat_read(filename)\n",
    "    return (dt, data)"
   ]
  },
  {
   "cell_type": "code",
   "execution_count": 7,
   "metadata": {},
   "outputs": [],
   "source": [
    "data = dict()\n",
    "for files, key in [(rthermrad, \"thermrad\"), (rflect, \"reflectances\"), (latlon,\"latlon\")]:\n",
    "    data[key] = [unpack(fn) for fn in sorted(files)]\n"
   ]
  },
  {
   "cell_type": "code",
   "execution_count": null,
   "metadata": {},
   "outputs": [],
   "source": [
    "import xarray as xr\n",
    "import numpy as np"
   ]
  },
  {
   "cell_type": "code",
   "execution_count": null,
   "metadata": {},
   "outputs": [],
   "source": [
    "dv = [np.stack(zip(*data[k])[-1]) for k in ['thermrad', 'reflectances']]"
   ]
  },
  {
   "cell_type": "code",
   "execution_count": null,
   "metadata": {},
   "outputs": [],
   "source": [
    "landsat = np.concatenate( [dv[1], dv[0][...,np.newaxis]], axis=-1)"
   ]
  },
  {
   "cell_type": "code",
   "execution_count": null,
   "metadata": {},
   "outputs": [],
   "source": [
    "landsat.shape"
   ]
  },
  {
   "cell_type": "code",
   "execution_count": null,
   "metadata": {},
   "outputs": [],
   "source": [
    "layers  = ['NIR', 'Red', 'Green', 'Blue', 'UV', \"Thermal Radiances\"]"
   ]
  },
  {
   "cell_type": "code",
   "execution_count": null,
   "metadata": {},
   "outputs": [],
   "source": [
    "times, latlon = zip(*data['latlon'])"
   ]
  },
  {
   "cell_type": "code",
   "execution_count": null,
   "metadata": {},
   "outputs": [],
   "source": [
    "locs = np.stack(latlon)"
   ]
  },
  {
   "cell_type": "code",
   "execution_count": null,
   "metadata": {},
   "outputs": [],
   "source": [
    "lats = locs[...,0]\n",
    "lons = locs[...,1]"
   ]
  },
  {
   "cell_type": "code",
   "execution_count": null,
   "metadata": {},
   "outputs": [],
   "source": [
    "lats.shape"
   ]
  },
  {
   "cell_type": "code",
   "execution_count": null,
   "metadata": {},
   "outputs": [],
   "source": [
    "import pandas as pd\n",
    "coords = {'lon':(['time','y', 'x'], lons),\n",
    "          'lat':(['time','y', 'x'], lats) ,\n",
    "          'time':pd.to_datetime([t.date() for t in times])}"
   ]
  },
  {
   "cell_type": "code",
   "execution_count": null,
   "metadata": {},
   "outputs": [],
   "source": [
    "data = dict()\n",
    "for l, d in zip(layers, landsat.transpose([-1,0, 1,2])):\n",
    "    print(l, d.shape)\n",
    "    data[l] = (['time','y', 'x'], d[:, ::-1, :])"
   ]
  },
  {
   "cell_type": "code",
   "execution_count": null,
   "metadata": {},
   "outputs": [],
   "source": [
    "ds = xr.Dataset(data, coords=coords)"
   ]
  },
  {
   "cell_type": "code",
   "execution_count": null,
   "metadata": {},
   "outputs": [],
   "source": [
    "%matplotlib inline\n",
    "_ = ds['Red'].mean('time').plot(cmap='Reds')"
   ]
  },
  {
   "cell_type": "code",
   "execution_count": null,
   "metadata": {},
   "outputs": [],
   "source": [
    "ds.to_netcdf('landsat_hires.nc')"
   ]
  },
  {
   "cell_type": "code",
   "execution_count": null,
   "metadata": {},
   "outputs": [],
   "source": []
  }
 ],
 "metadata": {
  "kernelspec": {
   "display_name": "Python [conda env:hires]",
   "language": "python",
   "name": "conda-env-hires-py"
  },
  "language_info": {
   "codemirror_mode": {
    "name": "ipython",
    "version": 2
   },
   "file_extension": ".py",
   "mimetype": "text/x-python",
   "name": "python",
   "nbconvert_exporter": "python",
   "pygments_lexer": "ipython2",
   "version": "2.7.15"
  }
 },
 "nbformat": 4,
 "nbformat_minor": 2
}
