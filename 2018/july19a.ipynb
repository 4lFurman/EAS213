{
 "cells": [
  {
   "cell_type": "markdown",
   "metadata": {},
   "source": [
    "The landsat_hires netcdf file can be found at http://glasslab.engr.ccny.cuny.edu/u/hannah/eas213/landsat_hires.nc\n",
    "\n",
    "If you have the file on your computer, set the path to the location on disk:\n",
    "\n",
    "```python\n",
    "datapath = \"/path/to/landsat_hires.nc\"\n",
    "```\n",
    "if you are running the file via mybinder (the interactive version), then set the path to the managed version of the data:\n",
    "\n",
    "```python\n",
    "from quilt.data.story645.eas213 import landsat_hires\n",
    "datapath = landsat_hires._data()\n",
    "```\n",
    "\n",
    "You can also install quilt and the data package on your computer to access the data. To do so, enter the following commands in a terminal or anaconda command prompt:\n",
    "\n",
    "```bash\n",
    "pip install quilt\n",
    "quilt install story645/eas213\n",
    "```\n"
   ]
  },
  {
   "cell_type": "code",
   "execution_count": null,
   "metadata": {},
   "outputs": [],
   "source": [
    "#set datapath variable in this cell\n",
    "datapath = '../data/landsat_hires.nc'"
   ]
  },
  {
   "cell_type": "code",
   "execution_count": null,
   "metadata": {},
   "outputs": [],
   "source": [
    "import xarray as xr\n",
    "ds = xr.open_dataset(datapath)"
   ]
  },
  {
   "cell_type": "code",
   "execution_count": null,
   "metadata": {},
   "outputs": [],
   "source": [
    "import landsat_sample_functions as lf\n",
    "# pull out the thermal radiances from from ds and convert them to temperature\n",
    "tempK = lf.BT(ds['Thermal Radiances'], 10.9, 1)\n",
    "#convert the temperature to Fahrenheit\n",
    "tempF = 9/5*(tempK - 273) + 32"
   ]
  },
  {
   "cell_type": "markdown",
   "metadata": {},
   "source": [
    "# How does temperature change over time?"
   ]
  },
  {
   "cell_type": "code",
   "execution_count": null,
   "metadata": {},
   "outputs": [],
   "source": [
    "import matplotlib.pyplot as plt\n",
    "import matplotlib.animation as animation\n",
    "from IPython.display import HTML"
   ]
  },
  {
   "cell_type": "code",
   "execution_count": null,
   "metadata": {},
   "outputs": [],
   "source": [
    "# print the min and max to get rough values for colormap\n",
    "tempF.min(), tempF.max()"
   ]
  },
  {
   "cell_type": "code",
   "execution_count": null,
   "metadata": {},
   "outputs": [],
   "source": [
    "# lets set the parameters\n",
    "vmin = 20\n",
    "vmax = 80\n",
    "cmap = 'RdYlBu_r'"
   ]
  },
  {
   "cell_type": "code",
   "execution_count": null,
   "metadata": {},
   "outputs": [],
   "source": [
    "# use the pandas library to clean up the dates\n",
    "# https://pandas.pydata.org/pandas-docs/stable/generated/pandas.to_datetime.html\n",
    "import pandas as pd\n",
    "datestr = pd.to_datetime(ds.time.values).strftime(\"%Y-%m-%d\").values\n",
    "num_frames = len(datestr)\n",
    "datestr"
   ]
  },
  {
   "cell_type": "code",
   "execution_count": null,
   "metadata": {},
   "outputs": [],
   "source": [
    "%%capture \n",
    "# %% capture supresses cell output, used here so that only the animation shows\n",
    "\n",
    "# create figute\n",
    "fig, ax = plt.subplots()\n",
    "# plot the first tempF frame, \n",
    "# tell imshow the image is upside down\n",
    "# use vmin, vmax, and cmap to make all images consistent\n",
    "pcm = ax.imshow(tempF[0], vmin=vmin, vmax= vmax, cmap=cmap, \n",
    "                interpolation='none', origin='lower')\n",
    "#create one colorbar that'll be used for all the images\n",
    "cb = fig.colorbar(pcm)\n",
    "#set the colorbar label, the xlabel, and the ylabel\n",
    "cb.set_label(r\"Temperature ($\\degree F$)\")\n",
    "ax.set_title(datestr[0])\n",
    "# animation function.  This is called sequentially\n",
    "def animate(i):\n",
    "    # we change the data being drawn\n",
    "    # and use the tempF at index (time) i\n",
    "    ax.set_title(datestr[i])\n",
    "    pcm.set_data(tempF[i].values)\n",
    "    return [pcm]\n"
   ]
  },
  {
   "cell_type": "code",
   "execution_count": null,
   "metadata": {},
   "outputs": [],
   "source": [
    "ani = animation.FuncAnimation(fig, animate, frames=range(1,num_frames))\n",
    "HTML(ani.to_jshtml())"
   ]
  },
  {
   "cell_type": "code",
   "execution_count": null,
   "metadata": {},
   "outputs": [],
   "source": [
    "ani.save('temperature.html', dpi=80)"
   ]
  },
  {
   "cell_type": "markdown",
   "metadata": {},
   "source": [
    "# Make a video for NDVI"
   ]
  },
  {
   "cell_type": "code",
   "execution_count": null,
   "metadata": {},
   "outputs": [],
   "source": []
  }
 ],
 "metadata": {
  "kernelspec": {
   "display_name": "Python [conda env:hires]",
   "language": "python",
   "name": "conda-env-hires-py"
  },
  "language_info": {
   "codemirror_mode": {
    "name": "ipython",
    "version": 2
   },
   "file_extension": ".py",
   "mimetype": "text/x-python",
   "name": "python",
   "nbconvert_exporter": "python",
   "pygments_lexer": "ipython2",
   "version": "2.7.15"
  }
 },
 "nbformat": 4,
 "nbformat_minor": 2
}
