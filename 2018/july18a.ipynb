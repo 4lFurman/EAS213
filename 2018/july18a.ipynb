{
 "cells": [
  {
   "cell_type": "markdown",
   "metadata": {},
   "source": [
    "The landsat_hires netcdf file can be found at  http://glasslab.engr.ccny.cuny.edu/u/hannah/eas213/landsat_hires.nc\n",
    "\n",
    "If you have the file on your computer, set the path to the location on disk:\n",
    "```python\n",
    "datapath = \"/path/to/landsat_hires.nc\"\n",
    "```\n",
    "if you are running the file via mybinder (the interactive version), then set the path to the managed version of the data:\n",
    "```python\n",
    "from quilt.data.story645.eas213 import landsat_hires\n",
    "datapath = landsat_hires._data()\n",
    "```\n",
    "You can also install quilt and the data package on your computer to access the data. To do so, enter the following commands in a terminal or anaconda command prompt:\n",
    "```bash\n",
    "pip install quilt\n",
    "quilt install story645/eas213\n",
    "```"
   ]
  },
  {
   "cell_type": "code",
   "execution_count": null,
   "metadata": {},
   "outputs": [],
   "source": [
    "#set datapath variable in this cell\n",
    "datapath = "
   ]
  },
  {
   "cell_type": "code",
   "execution_count": null,
   "metadata": {},
   "outputs": [],
   "source": [
    "import xarray as xr\n",
    "ds = xr.open_dataset(datapath)"
   ]
  },
  {
   "cell_type": "code",
   "execution_count": null,
   "metadata": {},
   "outputs": [],
   "source": [
    "ds"
   ]
  },
  {
   "cell_type": "markdown",
   "metadata": {},
   "source": [
    "# Let's look at that variation a bit more:"
   ]
  },
  {
   "cell_type": "code",
   "execution_count": null,
   "metadata": {},
   "outputs": [],
   "source": [
    "import landsat_sample_functions as lf\n",
    "tempK = lf.BT(ds['Thermal Radiances'], 10.9, 1)\n",
    "tempF = 9/5*(tempK - 273) + 32"
   ]
  },
  {
   "cell_type": "code",
   "execution_count": null,
   "metadata": {},
   "outputs": [],
   "source": [
    "seasonsT = tempF.groupby('time.season').mean('time')\n",
    "seasonsT.coords"
   ]
  },
  {
   "cell_type": "code",
   "execution_count": null,
   "metadata": {},
   "outputs": [],
   "source": [
    "# http://xarray.pydata.org/en/stable/plotting.html\n",
    "_ = seasonsT.plot(x='x', y='y', col='season', col_wrap=2,\n",
    "                 cmap='coolwarm',vmin=0, vmax=100, \n",
    "                 figsize=(5,5))"
   ]
  },
  {
   "cell_type": "code",
   "execution_count": null,
   "metadata": {},
   "outputs": [],
   "source": [
    "seasonsS = tempF.groupby('time.season').mean(['x', 'y'])\n",
    "seasonsS.coords"
   ]
  },
  {
   "cell_type": "code",
   "execution_count": null,
   "metadata": {},
   "outputs": [],
   "source": [
    "_ = seasonsS.plot(marker='o')"
   ]
  },
  {
   "cell_type": "code",
   "execution_count": null,
   "metadata": {},
   "outputs": [],
   "source": [
    "tempFdf = tempF.to_dataframe()['Thermal Radiances'].to_frame().reset_index()\n",
    "tempFdf.head()"
   ]
  },
  {
   "cell_type": "markdown",
   "metadata": {},
   "source": [
    "![boxplot](figs/boxplot.svg)\n",
    "By Jhguch at en.wikipedia, CC BY-SA 2.5, https://commons.wikimedia.org/w/index.php?curid=14524285"
   ]
  },
  {
   "cell_type": "code",
   "execution_count": null,
   "metadata": {},
   "outputs": [],
   "source": [
    "import seaborn as sns\n",
    "import matplotlib.pyplot as plt\n",
    "import matplotlib.ticker as mticker\n",
    "import numpy as np "
   ]
  },
  {
   "cell_type": "code",
   "execution_count": null,
   "metadata": {},
   "outputs": [],
   "source": [
    "#750615 - lat*lon\n",
    "# take out this line in your program\n",
    "labels = tempFdf['time'][::750615].dt.strftime(\"%d/%m/%y\").tolist()"
   ]
  },
  {
   "cell_type": "code",
   "execution_count": null,
   "metadata": {},
   "outputs": [],
   "source": [
    "fig, ax = plt.subplots(figsize=(8,4))\n",
    "g = sns.boxplot(x = 'time', y='Thermal Radiances', \n",
    "                data=tempFdf, ax=ax)\n",
    "_ = ax.set_ylabel(\"Brightness Temperature (F)\")\n",
    "#this line sets the labels created above, remove if no labels\n",
    "_ = g.set_xticklabels(labels, rotation=45) \n",
    "fig.savefig(\"tempf_boxplot.png\")\n"
   ]
  },
  {
   "cell_type": "markdown",
   "metadata": {},
   "source": []
  },
  {
   "cell_type": "markdown",
   "metadata": {},
   "source": [
    "# NDVI:\n",
    "Using the july 17a and july17b notebooks as reference:\n",
    "1. compute NDVI\n",
    "2. compute the temporal and spatial means\n",
    "3. compute the monthly NDVI\n",
    "4. compute the seasonal NDVI"
   ]
  },
  {
   "cell_type": "code",
   "execution_count": null,
   "metadata": {},
   "outputs": [],
   "source": [
    "ds"
   ]
  },
  {
   "cell_type": "code",
   "execution_count": null,
   "metadata": {},
   "outputs": [],
   "source": [
    "ds['Thermal Radiances']"
   ]
  },
  {
   "cell_type": "code",
   "execution_count": null,
   "metadata": {},
   "outputs": [],
   "source": [
    "ds['UV']"
   ]
  },
  {
   "cell_type": "code",
   "execution_count": null,
   "metadata": {},
   "outputs": [],
   "source": [
    "ds['Red']"
   ]
  },
  {
   "cell_type": "code",
   "execution_count": null,
   "metadata": {},
   "outputs": [],
   "source": [
    "ds['NIR'].coords"
   ]
  },
  {
   "cell_type": "code",
   "execution_count": null,
   "metadata": {},
   "outputs": [],
   "source": [
    "ds['NIR'].sel(time='2014-04-26').plot(cmap='spectral')"
   ]
  },
  {
   "cell_type": "code",
   "execution_count": null,
   "metadata": {},
   "outputs": [],
   "source": [
    "#grid spec aligns subplots so that the 2nd is twice as big as the first\n",
    "fig, (ax1, ax2) = plt.subplots(ncols=2, figsize=(15,5),\n",
    "                               gridspec_kw={'width_ratios':[1,2]})\n",
    "_ = tempF.mean('time').plot(ax=ax1, cmap='coolwarm')\n",
    "_ = tempF.mean(['x','y']).plot(ax=ax2, marker='o')"
   ]
  },
  {
   "cell_type": "code",
   "execution_count": null,
   "metadata": {},
   "outputs": [],
   "source": []
  }
 ],
 "metadata": {
  "kernelspec": {
   "display_name": "Python [default]",
   "language": "python",
   "name": "python2"
  },
  "language_info": {
   "codemirror_mode": {
    "name": "ipython",
    "version": 2
   },
   "file_extension": ".py",
   "mimetype": "text/x-python",
   "name": "python",
   "nbconvert_exporter": "python",
   "pygments_lexer": "ipython2",
   "version": "2.7.15"
  }
 },
 "nbformat": 4,
 "nbformat_minor": 2
}
