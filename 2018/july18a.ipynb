{
 "cells": [
  {
   "cell_type": "markdown",
   "metadata": {},
   "source": [
    "The landsat_hires netcdf file can be found at http://glasslab.engr.ccny.cuny.edu/u/hannah/eas213/landsat_hires.nc\n",
    "\n",
    "If you have the file on your computer, set the path to the location on disk:\n",
    "\n",
    "```python\n",
    "datapath = \"/path/to/landsat_hires.nc\"\n",
    "```\n",
    "if you are running the file via mybinder (the interactive version), then set the path to the managed version of the data:\n",
    "\n",
    "```python\n",
    "from quilt.data.story645.eas213 import landsat_hires\n",
    "datapath = landsat_hires._data()\n",
    "```\n",
    "\n",
    "You can also install quilt and the data package on your computer to access the data. To do so, enter the following commands in a terminal or anaconda command prompt:\n",
    "\n",
    "```bash\n",
    "pip install quilt\n",
    "quilt install story645/eas213\n",
    "```"
   ]
  },
  {
   "cell_type": "code",
   "execution_count": null,
   "metadata": {},
   "outputs": [],
   "source": [
    "#set datapath variable in this cell\n",
    "datapath = "
   ]
  },
  {
   "cell_type": "code",
   "execution_count": null,
   "metadata": {},
   "outputs": [],
   "source": [
    "import xarray as xr\n",
    "ds = xr.open_dataset(datapath)"
   ]
  },
  {
   "cell_type": "code",
   "execution_count": null,
   "metadata": {},
   "outputs": [],
   "source": [
    "ds"
   ]
  },
  {
   "cell_type": "markdown",
   "metadata": {},
   "source": [
    "# Let's look at that variation a bit more:"
   ]
  },
  {
   "cell_type": "code",
   "execution_count": null,
   "metadata": {},
   "outputs": [],
   "source": [
    "import landsat_sample_functions as lf\n",
    "tempK = lf.BT(ds['Thermal Radiances'], 10.9, 1)\n",
    "tempF = 9/5*(tempK - 273) + 32"
   ]
  },
  {
   "cell_type": "code",
   "execution_count": null,
   "metadata": {},
   "outputs": [],
   "source": [
    "seasonsT = tempF.groupby('time.season').mean('time')\n",
    "seasonsT.coords"
   ]
  },
  {
   "cell_type": "code",
   "execution_count": null,
   "metadata": {},
   "outputs": [],
   "source": [
    "%matplotlib inline\n",
    "\n",
    "# http://xarray.pydata.org/en/stable/plotting.html\n",
    "_ = seasonsT.plot(x='x', y='y', col='season', col_wrap=2,\n",
    "                 cmap='coolwarm',vmin=0, vmax=100, \n",
    "                 figsize=(5,5))"
   ]
  },
  {
   "cell_type": "code",
   "execution_count": null,
   "metadata": {},
   "outputs": [],
   "source": [
    "seasonsS = tempF.groupby('time.season').mean(['x', 'y'])\n",
    "seasonsS.coords"
   ]
  },
  {
   "cell_type": "code",
   "execution_count": null,
   "metadata": {},
   "outputs": [],
   "source": [
    "_ = seasonsS.plot(marker='o')"
   ]
  },
  {
   "cell_type": "code",
   "execution_count": null,
   "metadata": {},
   "outputs": [],
   "source": [
    "tempFdf = tempF.to_dataframe()['Thermal Radiances'].to_frame().reset_index()\n",
    "tempFdf.head()"
   ]
  },
  {
   "cell_type": "markdown",
   "metadata": {},
   "source": [
    "![boxplot](../data/boxplot.svg)\n",
    "By Jhguch at en.wikipedia, CC BY-SA 2.5, https://commons.wikimedia.org/w/index.php?curid=14524285"
   ]
  },
  {
   "cell_type": "code",
   "execution_count": null,
   "metadata": {},
   "outputs": [],
   "source": [
    "import seaborn as sns\n",
    "import matplotlib.pyplot as plt\n",
    "import matplotlib.ticker as mticker\n",
    "import numpy as np "
   ]
  },
  {
   "cell_type": "code",
   "execution_count": null,
   "metadata": {},
   "outputs": [],
   "source": [
    "# this is to set up pretty labels by finding all the unique times \n",
    "# then converting them to d/m/y strings\n",
    "# 750615 - lat*lon\n",
    "labels = tempFdf['time'][::750615].dt.strftime(\"%d/%m/%y\").tolist()"
   ]
  },
  {
   "cell_type": "code",
   "execution_count": null,
   "metadata": {},
   "outputs": [],
   "source": [
    "fig, ax = plt.subplots(figsize=(8,4))\n",
    "g = sns.boxplot(x = 'time', y='Thermal Radiances', \n",
    "                data=tempFdf, ax=ax)\n",
    "_ = ax.set_ylabel(\"Brightness Temperature (F)\")\n",
    "_ = g.set_xticklabels(labels, rotation=45)"
   ]
  },
  {
   "cell_type": "markdown",
   "metadata": {},
   "source": [
    "# NDVI:\n",
    "Using the july 17a and july17b notebooks as reference:\n",
    "1. compute NDVI\n",
    "2. compute the temporal and spatial means\n",
    "3. compute the monthly NDVI\n",
    "4. compute the seasonal NDVI"
   ]
  },
  {
   "cell_type": "code",
   "execution_count": null,
   "metadata": {},
   "outputs": [],
   "source": []
  }
 ],
 "metadata": {
  "kernelspec": {
   "display_name": "Python [conda env:hires]",
   "language": "python",
   "name": "conda-env-hires-py"
  },
  "language_info": {
   "codemirror_mode": {
    "name": "ipython",
    "version": 2
   },
   "file_extension": ".py",
   "mimetype": "text/x-python",
   "name": "python",
   "nbconvert_exporter": "python",
   "pygments_lexer": "ipython2",
   "version": "2.7.15"
  }
 },
 "nbformat": 4,
 "nbformat_minor": 2
}
