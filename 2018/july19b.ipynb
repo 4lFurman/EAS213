{
 "cells": [
  {
   "cell_type": "markdown",
   "metadata": {},
   "source": [
    "The landsat_hires netcdf file can be found at http://glasslab.engr.ccny.cuny.edu/u/hannah/eas213/landsat_hires.nc\n",
    "The NYC census tracts can be found at https://github.com/story645/EAS213/tree/master/data\n",
    "\n",
    "If you have the file on your computer, set the path to the location on disk:\n",
    "\n",
    "```python\n",
    "datapath = \"/path/to/landsat_hires.nc\"\n",
    "shapepath = \"/path/to/census.geojson\"\n",
    "```\n",
    "if you are running the file via mybinder (the interactive version), then set the path to the managed version of the data:\n",
    "\n",
    "```python\n",
    "from quilt.data.story645 import eas213\n",
    "datapath = eas213.landsat_hires._data()\n",
    "geopath = eas213.census._data()\n",
    "```\n",
    "\n",
    "You can also install quilt and the data package on your computer to access the data. To do so, enter the following commands in a terminal or anaconda command prompt:\n",
    "\n",
    "```bash\n",
    "pip install quilt\n",
    "quilt install story645/eas213\n",
    "```\n"
   ]
  },
  {
   "cell_type": "code",
   "execution_count": null,
   "metadata": {},
   "outputs": [],
   "source": [
    "# set the data and geo paths\n",
    "datapath =\n",
    "geopath = "
   ]
  },
  {
   "cell_type": "code",
   "execution_count": null,
   "metadata": {},
   "outputs": [],
   "source": [
    "from quilt.data.story645 import eas213\n",
    "datapath = eas213.landsat_hires._data()\n",
    "geopath = eas213.census._data()"
   ]
  },
  {
   "cell_type": "code",
   "execution_count": null,
   "metadata": {},
   "outputs": [],
   "source": [
    "import geopandas as gpd\n",
    "tracts = gpd.read_file(geopath, crs={'epsg':2263})"
   ]
  },
  {
   "cell_type": "code",
   "execution_count": null,
   "metadata": {},
   "outputs": [],
   "source": [
    "%matplotlib inline\n",
    "import matplotlib.pyplot as plt\n",
    "fig, ax = plt.subplots(figsize=(10,10))\n",
    "\n",
    "_ = tracts.plot(ax=ax, edgecolor='k', color='w')"
   ]
  },
  {
   "cell_type": "code",
   "execution_count": null,
   "metadata": {},
   "outputs": [],
   "source": [
    "import xarray as xr\n",
    "ds = xr.open_dataset('../data/landsat_hires.nc')"
   ]
  },
  {
   "cell_type": "code",
   "execution_count": null,
   "metadata": {},
   "outputs": [],
   "source": [
    "import landsat_sample_functions as lf\n",
    "# pull out the thermal radiances from from ds and convert them to temperature\n",
    "tempK = lf.BT(ds['Thermal Radiances'], 10.9, 1)\n",
    "#convert the temperature to Fahrenheit\n",
    "tempF = 9/5*(tempK - 273) + 32"
   ]
  },
  {
   "cell_type": "code",
   "execution_count": null,
   "metadata": {},
   "outputs": [],
   "source": [
    "fig, ax = plt.subplots()\n",
    "_ = tempF.mean('time').plot(cmap='RdYlBu_r', ax=ax)\n",
    "_ = ax.set_title(r\"Temperature ($\\degree F$\")"
   ]
  },
  {
   "cell_type": "markdown",
   "metadata": {},
   "source": [
    "# How do we combine the two?"
   ]
  },
  {
   "cell_type": "code",
   "execution_count": null,
   "metadata": {},
   "outputs": [],
   "source": [
    "# let's stay w/ the mean to reduce the size of the data\n",
    "temps = tempF.mean('time').to_dataframe().reset_index()"
   ]
  },
  {
   "cell_type": "code",
   "execution_count": null,
   "metadata": {},
   "outputs": [],
   "source": [
    "temps.head()"
   ]
  },
  {
   "cell_type": "code",
   "execution_count": null,
   "metadata": {},
   "outputs": [],
   "source": [
    "ds.lat.shape"
   ]
  },
  {
   "cell_type": "code",
   "execution_count": null,
   "metadata": {},
   "outputs": [],
   "source": [
    "ds.dims"
   ]
  },
  {
   "cell_type": "code",
   "execution_count": null,
   "metadata": {},
   "outputs": [],
   "source": [
    "temps['y'].max()"
   ]
  },
  {
   "cell_type": "code",
   "execution_count": null,
   "metadata": {},
   "outputs": [],
   "source": [
    "#lets get back the lats and lons by indexing into dataset coordinates\n",
    "lats = ds.lat.mean('time')[temps['y'].tolist()]\n",
    "lons = ds.lon.mean('time')[temps['x'].tolist()]"
   ]
  },
  {
   "cell_type": "code",
   "execution_count": null,
   "metadata": {},
   "outputs": [],
   "source": []
  },
  {
   "cell_type": "code",
   "execution_count": null,
   "metadata": {},
   "outputs": [],
   "source": [
    "#convert to a geodataframe \n",
    "from shapely.geometry import Point\n",
    "temps['Coordinates']  = list(zip(lats, lons))\n",
    "temps['Coordinates'] = temps['Coordinates'].apply(Point)"
   ]
  },
  {
   "cell_type": "code",
   "execution_count": null,
   "metadata": {},
   "outputs": [],
   "source": [
    "tempgdf = gpd.GeoDataFrame(temps, geometry='Coordinates', crs={'epsg':2263})"
   ]
  },
  {
   "cell_type": "code",
   "execution_count": null,
   "metadata": {},
   "outputs": [],
   "source": [
    "tempgdf.head()"
   ]
  },
  {
   "cell_type": "code",
   "execution_count": null,
   "metadata": {},
   "outputs": [],
   "source": [
    "tracts.head()"
   ]
  },
  {
   "cell_type": "code",
   "execution_count": null,
   "metadata": {},
   "outputs": [],
   "source": [
    "# join the arrays such that all temps in a tract are assigned to that tract\n",
    "tt = gpd.sjoin(tracts, tempgdf, how=\"inner\", op='contains')"
   ]
  },
  {
   "cell_type": "code",
   "execution_count": null,
   "metadata": {},
   "outputs": [],
   "source": [
    "tempgdf"
   ]
  },
  {
   "cell_type": "code",
   "execution_count": null,
   "metadata": {},
   "outputs": [],
   "source": [
    "#look up your tract\n",
    "# https://popfactfinder.planning.nyc.gov/profile/7547/census"
   ]
  }
 ],
 "metadata": {
  "kernelspec": {
   "display_name": "Python [conda env:hires]",
   "language": "python",
   "name": "conda-env-hires-py"
  },
  "language_info": {
   "codemirror_mode": {
    "name": "ipython",
    "version": 2
   },
   "file_extension": ".py",
   "mimetype": "text/x-python",
   "name": "python",
   "nbconvert_exporter": "python",
   "pygments_lexer": "ipython2",
   "version": "2.7.15"
  }
 },
 "nbformat": 4,
 "nbformat_minor": 2
}
