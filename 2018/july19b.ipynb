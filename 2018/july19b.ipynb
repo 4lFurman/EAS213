{
 "cells": [
  {
   "cell_type": "code",
   "execution_count": null,
   "metadata": {},
   "outputs": [],
   "source": [
    "The landsat_hires netcdf file can be found at http://glasslab.engr.ccny.cuny.edu/u/hannah/eas213/landsat_hires.nc\n",
    "\n",
    "If you have the file on your computer, set the path to the location on disk:\n",
    "\n",
    "```python\n",
    "datapath = \"/path/to/landsat_hires.nc\"\n",
    "```\n",
    "if you are running the file via mybinder (the interactive version), then set the path to the managed version of the data:\n",
    "\n",
    "```python\n",
    "from quilt.data.story645.eas213 import landsat_hires\n",
    "datapath = landsat_hires._data()\n",
    "```\n",
    "\n",
    "You can also install quilt and the data package on your computer to access the data. To do so, enter the following commands in a terminal or anaconda command prompt:\n",
    "\n",
    "```bash\n",
    "pip install quilt\n",
    "quilt install story645/eas213\n",
    "```\n"
   ]
  }
 ],
 "metadata": {
  "kernelspec": {
   "display_name": "Python [conda env:hires]",
   "language": "python",
   "name": "conda-env-hires-py"
  },
  "language_info": {
   "codemirror_mode": {
    "name": "ipython",
    "version": 2
   },
   "file_extension": ".py",
   "mimetype": "text/x-python",
   "name": "python",
   "nbconvert_exporter": "python",
   "pygments_lexer": "ipython2",
   "version": "2.7.15"
  }
 },
 "nbformat": 4,
 "nbformat_minor": 2
}
