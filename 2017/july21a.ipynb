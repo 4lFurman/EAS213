{
 "cells": [
  {
   "cell_type": "code",
   "execution_count": null,
   "metadata": {
    "collapsed": true
   },
   "outputs": [],
   "source": [
    "#open a netcdf data set - global monthly ndvi data\n",
    "\n",
    "import six\n",
    "from six.moves.urllib.request import urlretrieve\n",
    "\n",
    "datafile, _ = urlretrieve(\"http://tinyurl.com/yc9tjm4w\")"
   ]
  },
  {
   "cell_type": "code",
   "execution_count": null,
   "metadata": {},
   "outputs": [],
   "source": [
    "import xarray as xr\n",
    "ds = xr.open_dataset(datafile)"
   ]
  },
  {
   "cell_type": "code",
   "execution_count": null,
   "metadata": {},
   "outputs": [],
   "source": [
    "# let's look at the variables in the data\n",
    "ds"
   ]
  },
  {
   "cell_type": "code",
   "execution_count": null,
   "metadata": {},
   "outputs": [],
   "source": [
    "#ds is like a dataframe, but stacked for multiple datasets\n",
    "ds.keys()"
   ]
  },
  {
   "cell_type": "code",
   "execution_count": null,
   "metadata": {},
   "outputs": [],
   "source": [
    "#in this dataset, \"data\" is the key that stores our data\n",
    "ds['data']"
   ]
  },
  {
   "cell_type": "code",
   "execution_count": null,
   "metadata": {
    "scrolled": true
   },
   "outputs": [],
   "source": [
    "# let's see what the average NDVI looks like over time\n",
    "%matplotlib inline\n",
    "#.data because of the 'data' key\n",
    "# this takes the average over the lat and lon\n",
    "ds.data.mean(dim=[\"lat\",\"lon\"]).plot()"
   ]
  },
  {
   "cell_type": "code",
   "execution_count": null,
   "metadata": {},
   "outputs": [],
   "source": [
    "#can also do median\n",
    "import matplotlib.pyplot as plt\n",
    "fig, ax = plt.subplots()\n",
    "ds.data.std(dim=[\"lat\",\"lon\"]).plot(ax=ax)\n",
    "ax.set_title(\"Standard deviation\")"
   ]
  },
  {
   "cell_type": "code",
   "execution_count": null,
   "metadata": {},
   "outputs": [],
   "source": [
    "# can do maps too!\n",
    "ds.data.mean(dim=[\"time\"]).plot()"
   ]
  },
  {
   "cell_type": "code",
   "execution_count": null,
   "metadata": {
    "collapsed": true
   },
   "outputs": [],
   "source": [
    "#let's use a more logical cmap and learn how to install things\n",
    "import cmocean.cm as ccm\n",
    "fig, ax = plt.subplots(figsize=(10,4))\n",
    "ds.data.mean(dim=[\"time\"]).plot(cmap=ccm.delta, ax=ax)\n",
    "ax.set_aspect('equal')"
   ]
  },
  {
   "cell_type": "markdown",
   "metadata": {},
   "source": [
    "# To do\n",
    "Try some other statistics like min, max, median, etc"
   ]
  },
  {
   "cell_type": "code",
   "execution_count": null,
   "metadata": {
    "collapsed": true
   },
   "outputs": [],
   "source": [
    "#our time series data\n",
    "ds['time']"
   ]
  },
  {
   "cell_type": "code",
   "execution_count": null,
   "metadata": {
    "collapsed": true
   },
   "outputs": [],
   "source": [
    "# let's pick a random date\n",
    "fig, ax = plt.subplots(figsize=(10,4))\n",
    "ds.data.loc['1994-04'].plot(cmap=ccm.delta, ax =ax)\n",
    "ax.set_aspect('equal')"
   ]
  },
  {
   "cell_type": "code",
   "execution_count": null,
   "metadata": {
    "collapsed": true
   },
   "outputs": [],
   "source": [
    "# more control?\n",
    "#values converts ds to an array, #squeeze removes dimensions\n",
    "ndvi = ds.data.loc['1994-04'].values.squeeze()\n",
    "\n",
    "fig, ax = plt.subplots(figsize=(10,5))\n",
    "#center at 0\n",
    "im = ax.imshow(ndvi, cmap=ccm.delta, vmin=-1, vmax=1)\n",
    "cb = fig.colorbar(im, fraction=.04)\n",
    "cb.set_label(\"NDVI\")"
   ]
  },
  {
   "cell_type": "code",
   "execution_count": null,
   "metadata": {
    "collapsed": true
   },
   "outputs": [],
   "source": [
    "# Let's get ndvi data near new york city: 40.7128° N, -74.0059° W\n",
    "# first we need to convert -74.0059 to a 0-360 grid\n",
    "# formula is longitude modulo 360\n",
    "-74.0059 % 360"
   ]
  },
  {
   "cell_type": "code",
   "execution_count": null,
   "metadata": {
    "collapsed": true
   },
   "outputs": [],
   "source": [
    "ts = ds.data.sel(lat=40.7128, lon=285.9941, method='nearest', tolerance=5)"
   ]
  },
  {
   "cell_type": "code",
   "execution_count": null,
   "metadata": {
    "collapsed": true
   },
   "outputs": [],
   "source": [
    "fig, ax = plt.subplots()\n",
    "ts.plot(ax=ax)\n",
    "ax.set(title=\"New York City\", ylabel=\"NDVI\")\n",
    "fig.show()"
   ]
  },
  {
   "cell_type": "markdown",
   "metadata": {},
   "source": [
    "# To Do\n",
    "1. Pick another day to plot\n",
    "2. Plot the time series closest to the capital city of the country you chose for your group project\n",
    "3. Compute the standard deviation for the capital of your choice"
   ]
  },
  {
   "cell_type": "code",
   "execution_count": null,
   "metadata": {
    "collapsed": true
   },
   "outputs": [],
   "source": [
    "# let's look at monthly averages \n",
    "clim = ds.groupby('time.month').mean('time')"
   ]
  },
  {
   "cell_type": "code",
   "execution_count": null,
   "metadata": {
    "collapsed": true
   },
   "outputs": [],
   "source": [
    "clim"
   ]
  },
  {
   "cell_type": "code",
   "execution_count": null,
   "metadata": {
    "collapsed": true
   },
   "outputs": [],
   "source": [
    "clim.data.mean(['lat','lon']).plot()"
   ]
  },
  {
   "cell_type": "code",
   "execution_count": null,
   "metadata": {
    "collapsed": true
   },
   "outputs": [],
   "source": [
    "fig, ax = plt.subplots(figsize=(10,4))\n",
    "clim.data.loc[1].plot(cmap=ccm.delta, ax=ax)\n",
    "ax.set_aspect(\"equal\")\n",
    "ax.set_label(\"January NDVI\")"
   ]
  },
  {
   "cell_type": "markdown",
   "metadata": {},
   "source": [
    "# To Do\n",
    "1. Plot the climatology NDVI for New York City\n",
    "2. Plot the climatology NDVI for your capitol city\n",
    "3. plot the average NDVI for a month from each season"
   ]
  },
  {
   "cell_type": "markdown",
   "metadata": {},
   "source": [
    "# more information: https://gist.github.com/shoyer/d462cc3b2aeb87bbb78cc6f8207851c6"
   ]
  }
 ],
 "metadata": {
  "kernelspec": {
   "display_name": "Python 2",
   "language": "python",
   "name": "python2"
  },
  "language_info": {
   "codemirror_mode": {
    "name": "ipython",
    "version": 2
   },
   "file_extension": ".py",
   "mimetype": "text/x-python",
   "name": "python",
   "nbconvert_exporter": "python",
   "pygments_lexer": "ipython2",
   "version": "2.7.13"
  }
 },
 "nbformat": 4,
 "nbformat_minor": 2
}
