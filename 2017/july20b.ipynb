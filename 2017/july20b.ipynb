{
 "cells": [
  {
   "cell_type": "markdown",
   "metadata": {
    "collapsed": true
   },
   "source": [
    "# Global Agriculture"
   ]
  },
  {
   "cell_type": "code",
   "execution_count": null,
   "metadata": {
    "collapsed": true
   },
   "outputs": [],
   "source": [
    "#Global Agriculture: % of land cover (land_cover.csv)\n",
    "url = \"http://tinyurl.com/y8bajr5f\""
   ]
  },
  {
   "cell_type": "code",
   "execution_count": null,
   "metadata": {
    "collapsed": true
   },
   "outputs": [],
   "source": [
    "#let's use pandas to open the file\n",
    "import pandas as pd\n",
    "df = pd.read_csv(url, index_col=0, parse_dates=True)"
   ]
  },
  {
   "cell_type": "code",
   "execution_count": null,
   "metadata": {},
   "outputs": [],
   "source": [
    "df"
   ]
  },
  {
   "cell_type": "code",
   "execution_count": null,
   "metadata": {},
   "outputs": [],
   "source": [
    "# let's only see the first few\n",
    "df.head(5)"
   ]
  },
  {
   "cell_type": "code",
   "execution_count": null,
   "metadata": {},
   "outputs": [],
   "source": [
    "# columns? \n",
    "df.columns"
   ]
  },
  {
   "cell_type": "code",
   "execution_count": null,
   "metadata": {},
   "outputs": [],
   "source": [
    "# Last 2 elements\n",
    "df.tail(2)"
   ]
  },
  {
   "cell_type": "code",
   "execution_count": null,
   "metadata": {},
   "outputs": [],
   "source": [
    "# Why is this useful\n",
    "df.describe()"
   ]
  },
  {
   "cell_type": "code",
   "execution_count": null,
   "metadata": {},
   "outputs": [],
   "source": [
    "# Compute statistics by date\n",
    "df.T.describe()"
   ]
  },
  {
   "cell_type": "code",
   "execution_count": null,
   "metadata": {},
   "outputs": [],
   "source": [
    "# How do we select 1 column?\n",
    "df[\"United States\"]"
   ]
  },
  {
   "cell_type": "code",
   "execution_count": null,
   "metadata": {},
   "outputs": [],
   "source": [
    "# A single column has many of the same functions as a dataframe\n",
    "df[\"United States\"].describe()"
   ]
  },
  {
   "cell_type": "code",
   "execution_count": null,
   "metadata": {},
   "outputs": [],
   "source": [
    "# What if we want the US, Canada and Mexico?\n",
    "df[[\"United States\", \"Canada\", \"Mexico\"]].describe()"
   ]
  },
  {
   "cell_type": "markdown",
   "metadata": {},
   "source": [
    "# To do\n",
    "Get the stats for any other 2 countries"
   ]
  },
  {
   "cell_type": "code",
   "execution_count": null,
   "metadata": {},
   "outputs": [],
   "source": [
    "# How do we plot changes over time?\n",
    "%matplotlib inline\n",
    "import matplotlib.pyplot as plt\n",
    "fig, ax = plt.subplots()\n",
    "df[\"United States\"].plot(ax=ax)\n",
    "ax.set(ylabel=\"% land is agricultural\")"
   ]
  },
  {
   "cell_type": "code",
   "execution_count": null,
   "metadata": {},
   "outputs": [],
   "source": [
    "# Let's make a more accurate scale\n",
    "%matplotlib inline\n",
    "import matplotlib.pyplot as plt\n",
    "\n",
    "fig, ax = plt.subplots()\n",
    "df[\"United States\"].plot(ax=ax)\n",
    "ax.set(ylabel=\"% land is agricultural\", ylim=(0,100))"
   ]
  },
  {
   "cell_type": "code",
   "execution_count": null,
   "metadata": {},
   "outputs": [],
   "source": [
    "# more countries?\n",
    "fig, ax = plt.subplots()\n",
    "df[[\"United States\", \"Mexico\"]].plot(ax=ax)\n",
    "ax.set(ylabel=\"% land is agricultural\", ylim=(0,100))"
   ]
  },
  {
   "cell_type": "code",
   "execution_count": null,
   "metadata": {},
   "outputs": [],
   "source": [
    "# Even more countries?\n",
    "fig, ax = plt.subplots(figsize=(10,5))\n",
    "df[[\"United States\", \"Saudi Arabia\", \"Russian Federation\",\n",
    "    \"China\", \"India\"]].plot(ax=ax)\n",
    "# control the location and number of cols\n",
    "# https://matplotlib.org/users/legend_guide.html\n",
    "ax.legend(loc=9, ncol=5)\n",
    "ax.set(ylabel=\"% land is ag\", ylim=(0,100))\n",
    "fig.show()"
   ]
  },
  {
   "cell_type": "markdown",
   "metadata": {},
   "source": [
    "# To do\n",
    "Add another 2 countries to the above plot\n"
   ]
  },
  {
   "cell_type": "code",
   "execution_count": null,
   "metadata": {},
   "outputs": [],
   "source": [
    "# What about histograms...\n",
    "fig, ax = plt.subplots()\n",
    "df[\"United States\"].hist(bins=10, ax=ax)\n",
    "ax.set(xlabel=\"% land cover\", xlim=(0,100))"
   ]
  },
  {
   "cell_type": "code",
   "execution_count": null,
   "metadata": {},
   "outputs": [],
   "source": [
    "# And densities?\n",
    "fig, ax = plt.subplots()\n",
    "df[\"United States\"].plot.density(ax=ax)\n",
    "ax.set(xlabel=\"% land cover\", xlim=(0,100))"
   ]
  },
  {
   "cell_type": "code",
   "execution_count": null,
   "metadata": {},
   "outputs": [],
   "source": [
    "# both?\n",
    "fig, ax = plt.subplots()\n",
    "df[\"United States\"].hist(bins=10, normed=True, ax=ax)\n",
    "df[\"United States\"].plot.density(ax=ax)\n",
    "ax.set(xlabel=\"% land cover\", xlim=(0,100))"
   ]
  },
  {
   "cell_type": "markdown",
   "metadata": {},
   "source": [
    "# To do\n",
    "Plot the histogram and density for another 2 countries on the same plot"
   ]
  },
  {
   "cell_type": "code",
   "execution_count": null,
   "metadata": {},
   "outputs": [],
   "source": [
    "# scatters?\n",
    "fig, ax = plt.subplots()\n",
    "df.plot.scatter(\"United States\", \"Mexico\", ax=ax)\n",
    "# set equal aspect on x and y axis\n",
    "ax.set_aspect(\"equal\")"
   ]
  },
  {
   "cell_type": "code",
   "execution_count": null,
   "metadata": {
    "collapsed": true
   },
   "outputs": [],
   "source": [
    "# First compute the best fit line\n",
    "import scipy.stats as st\n",
    "\n",
    "slope, intercept, r_value, p_value, std_err = st.linregress(\n",
    "                                            df[\"United States\"],\n",
    "                                            df[\"Mexico\"])\n",
    "predicted_y = slope*df[\"United States\"].sort_values() + intercept"
   ]
  },
  {
   "cell_type": "code",
   "execution_count": null,
   "metadata": {},
   "outputs": [],
   "source": [
    "fig, ax = plt.subplots()\n",
    "\n",
    "ax.scatter(df[\"United States\"], df[\"Mexico\"])\n",
    "\n",
    "ax.plot(df[\"United States\"].sort_values(), predicted_y, color=\"black\")\n",
    "\n",
    "ax.set(xlabel=\"United States\", ylabel=\"Mexico\")\n",
    " \n",
    "ax.set_aspect(\"equal\")"
   ]
  },
  {
   "cell_type": "code",
   "execution_count": null,
   "metadata": {},
   "outputs": [],
   "source": [
    "r_value, p_value, std_err"
   ]
  },
  {
   "cell_type": "code",
   "execution_count": null,
   "metadata": {},
   "outputs": [],
   "source": [
    "fig, ax = plt.subplots()\n",
    "df[[\"United States\", \"Mexico\"]].plot(ax=ax)\n",
    "ax.set_ylim(0,100)"
   ]
  },
  {
   "cell_type": "markdown",
   "metadata": {},
   "source": [
    "# To Do\n",
    "Repeat with two different countries"
   ]
  },
  {
   "cell_type": "code",
   "execution_count": null,
   "metadata": {},
   "outputs": [],
   "source": [
    "# Can this be automated kinda too?\n",
    "df[[\"United States\", \"Canada\", \"Mexico\"]].corr()"
   ]
  },
  {
   "cell_type": "markdown",
   "metadata": {},
   "source": [
    "# To do\n",
    "Choose 5 countries and find out how they correlate to each other."
   ]
  },
  {
   "cell_type": "code",
   "execution_count": null,
   "metadata": {},
   "outputs": [],
   "source": [
    "# What if I want all the countries but just a year?\n",
    "# data frames are usually indexed via column then row\n",
    "# loc uses numpy/python row then column slicing\n",
    "df.loc['2012-01-01']"
   ]
  },
  {
   "cell_type": "code",
   "execution_count": null,
   "metadata": {},
   "outputs": [],
   "source": [
    "# visualize that?\n",
    "fig, ax = plt.subplots()\n",
    "df[[\"United States\", \"Canada\", \"Mexico\"]].loc['2012-01-01'].plot.bar(ax=ax)\n",
    "ax.set(ylabel=\"% land cover\")\n",
    "fig.show()"
   ]
  },
  {
   "cell_type": "markdown",
   "metadata": {},
   "source": [
    "# To do:\n",
    "* Plot the graph for the first year in the dataset\n",
    "* Plot the graph for any other year\n",
    "* Choose any other 4 countries and plot the bar graph for them"
   ]
  },
  {
   "cell_type": "code",
   "execution_count": null,
   "metadata": {},
   "outputs": [],
   "source": [
    "# can we do table?\n",
    "table = df[[\"United States\", \"Canada\", \"Mexico\"]].loc['2000':'2012']\n",
    "table"
   ]
  },
  {
   "cell_type": "code",
   "execution_count": null,
   "metadata": {},
   "outputs": [],
   "source": [
    "table.plot()"
   ]
  },
  {
   "cell_type": "markdown",
   "metadata": {},
   "source": [
    "Group Project\n",
    "=======\n",
    "\n",
    "\n",
    "Each member of the group is responsible for 1 country. All countries must be in the same economic region. [5 points]\n",
    "\n",
    "**Individual**\n",
    "\n",
    "Analayze the change in agricultural land cover in a country over time using the techniques reviewed in class, including statistical summaries, making a time series (line) plot and looking at the histogram and distribution of the land cover. Include any geopolitical and historical events that may have affected agriculture in that country, particularly if the trend changes. [5 points]\n",
    "\n",
    "**Group**\n",
    "\n",
    "Create a profile of how agriculture has developed in the region over the time period. DIscuss relationships in the region using correlation and regression analysis. Include historical events that may have impacted agriculture in the region. [5 points]\n",
    "\n",
    "Create a cohesive powerpoint presentation that tells the story of agriculture in this region. Ensure that the slides and individual work fit together into a coherant presentation. Graphs must be labeled, use appropriate scales, and further the story being told in the presentation. Information about the country and historical events must come from a reliable cited source. [5 points]\n",
    "\n",
    "**Submission**\n",
    "\n",
    "Required: Group powerpoint slides.\n",
    "\n",
    "Optional: code/ipython notebooks, graphs - anything that didn't fit in the presentation but you want me to know about.\n"
   ]
  },
  {
   "cell_type": "code",
   "execution_count": null,
   "metadata": {
    "collapsed": true
   },
   "outputs": [],
   "source": []
  }
 ],
 "metadata": {
  "kernelspec": {
   "display_name": "Python 2",
   "language": "python",
   "name": "python2"
  },
  "language_info": {
   "codemirror_mode": {
    "name": "ipython",
    "version": 2
   },
   "file_extension": ".py",
   "mimetype": "text/x-python",
   "name": "python",
   "nbconvert_exporter": "python",
   "pygments_lexer": "ipython2",
   "version": "2.7.13"
  }
 },
 "nbformat": 4,
 "nbformat_minor": 2
}
