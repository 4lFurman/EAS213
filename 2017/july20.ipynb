{
 "cells": [
  {
   "cell_type": "markdown",
   "metadata": {},
   "source": [
    "# Quantifying relationships between variables"
   ]
  },
  {
   "cell_type": "code",
   "execution_count": null,
   "metadata": {
    "collapsed": true
   },
   "outputs": [],
   "source": [
    "import six\n",
    "from six.moves.urllib.request import urlretrieve\n",
    "import landsat_sample_functions as lf\n",
    "\n",
    "#landsat_RGBN.txt\n",
    "rgb_url = \"http://bit.ly/2uzjBOX\"\n",
    "rgbdatafile, _ = urlretrieve(rgb_url)\n",
    "rgbn = lf.landsat_read(rgbdatafile)"
   ]
  },
  {
   "cell_type": "code",
   "execution_count": null,
   "metadata": {
    "collapsed": true
   },
   "outputs": [],
   "source": [
    "# extract colors\n",
    "red = rgbn[...,0]\n",
    "green = rgbn[...,1]\n",
    "blue = rgbn[...,2]\n",
    "\n",
    "#extract near infrared channel from rgb\n",
    "nir = rgbn[...,3]"
   ]
  },
  {
   "cell_type": "code",
   "execution_count": null,
   "metadata": {
    "collapsed": true
   },
   "outputs": [],
   "source": [
    "# Let's compute vegetation! \n",
    "def NDVI(nir, red):\n",
    "    return (nir-red)/(nir+red)\n",
    "\n",
    "ndvi = NDVI(nir, red)"
   ]
  },
  {
   "cell_type": "code",
   "execution_count": null,
   "metadata": {
    "collapsed": true
   },
   "outputs": [],
   "source": [
    "# let's look at those components \n",
    "\n",
    "%matplotlib inline\n",
    "import matplotlib.pyplot as plt \n",
    "\n",
    "fig,(ax1, ax2, ax3) = plt.subplots(ncols=3, figsize=(10,30))\n",
    "\n",
    "nim = ax1.imshow(nir)\n",
    "#fraction shrinks the colorbar so that it fits nicely\n",
    "fig.colorbar(nim, ax=ax1, fraction=.04)\n",
    "ax1.set_title(\"Near Infrared\")\n",
    "\n",
    "rim = ax2.imshow(red, cmap=\"Reds\")\n",
    "fig.colorbar(rim, ax=ax2, fraction=.04)\n",
    "ax2.set_title(\"red channel\")\n",
    "\n",
    "ndim = ax3.imshow(ndvi)\n",
    "fig.colorbar(ndim, ax=ax3, fraction=.04)\n",
    "\n",
    "fig.tight_layout()"
   ]
  },
  {
   "cell_type": "markdown",
   "metadata": {},
   "source": [
    "# Review\n",
    "Compute and plot the probability density estimates of:\n",
    "1. near infrared data\n",
    "2. red channel data\n",
    "2. ndvi data"
   ]
  },
  {
   "cell_type": "markdown",
   "metadata": {},
   "source": [
    "Scales are totally different, so how do we see if there's a relationship? \n",
    "Scatter plots!\n",
    "\n",
    "Because the images are the same size, the pixels are at the same latitude and longitude and that relationship is preserved even when the data is flattened. "
   ]
  },
  {
   "cell_type": "code",
   "execution_count": null,
   "metadata": {
    "collapsed": true
   },
   "outputs": [],
   "source": [
    "fig, ax = plt.subplots()\n",
    "\n",
    "#scatter puts the nir data on the x axis, temperature on y\n",
    "ax.scatter(nir.flatten(), ndvi.flatten())\n",
    "\n",
    "ax.set(xlabel = \"NIR\", ylabel=\"NDVI\")\n",
    "fig.show()"
   ]
  },
  {
   "cell_type": "code",
   "execution_count": null,
   "metadata": {
    "collapsed": true
   },
   "outputs": [],
   "source": [
    "# Let's make those dots smaller\n",
    "\n",
    "fig, ax = plt.subplots()\n",
    "\n",
    "#scatter puts the nir data on the x axis, temperature on y\n",
    "ax.scatter(nir.flatten(), ndvi.flatten(), s=.25)\n",
    "\n",
    "ax.set(xlabel = \"NIR\", ylabel=\"NDVI\")\n",
    "fig.show()"
   ]
  },
  {
   "cell_type": "code",
   "execution_count": null,
   "metadata": {},
   "outputs": [],
   "source": [
    "# Can we fit a line?\n",
    "\n",
    "import scipy.stats as st\n",
    "\n",
    "x = nir.flatten()\n",
    "y = ndvi.flatten()\n",
    "slope, intercept, r_value, p_value, std_err = st.linregress(x, y)"
   ]
  },
  {
   "cell_type": "code",
   "execution_count": null,
   "metadata": {
    "collapsed": true
   },
   "outputs": [],
   "source": [
    "# how do we plot that? Equation of line: y = m*x + b \n",
    "# let's compute theoretical line\n",
    "# we sort x since y is a line \n",
    "predicted_y = slope*sorted(x) + intercept"
   ]
  },
  {
   "cell_type": "code",
   "execution_count": null,
   "metadata": {
    "collapsed": true
   },
   "outputs": [],
   "source": [
    "fig, ax = plt.subplots()\n",
    "\n",
    "\n",
    "ax.scatter(x, y, s=.25)\n",
    "\n",
    "ax.plot(sorted(x), possible_y, color=\"black\")\n",
    "\n",
    "ax.set(xlabel = \"NIR\", ylabel=\"NDVI\")\n",
    "fig.show()"
   ]
  },
  {
   "cell_type": "code",
   "execution_count": null,
   "metadata": {
    "collapsed": true
   },
   "outputs": [],
   "source": [
    "# Is it meaningful? \n",
    "# r_value = Pearson's r correlation coefficient \n",
    "# p_value = likelihood null hypothesis is true\n",
    "# std_error = avg distance between predicted and actual value\n",
    "r_value, p_value, std_err"
   ]
  },
  {
   "cell_type": "markdown",
   "metadata": {},
   "source": [
    "# To do\n",
    "\n",
    "See if the red channel is correlated with \n",
    "NDVI. Draw a scatter plot with a best fit line."
   ]
  },
  {
   "cell_type": "markdown",
   "metadata": {},
   "source": [
    "# Let's add in temperature"
   ]
  },
  {
   "cell_type": "code",
   "execution_count": null,
   "metadata": {
    "collapsed": true
   },
   "outputs": [],
   "source": [
    "#landsat_thermrad.txt\n",
    "radiance_url = \"http://tinyurl.com/ya5bz7ue\"\n",
    "raddatafile, _ = urlretrieve(radiance_url)\n",
    "thermrad = lf.landsat_read(raddatafile)"
   ]
  },
  {
   "cell_type": "code",
   "execution_count": null,
   "metadata": {
    "collapsed": true
   },
   "outputs": [],
   "source": [
    "# convert thermal radiance to temperature\n",
    "temps = lf.BT(thermrad,10.9,1)"
   ]
  },
  {
   "cell_type": "markdown",
   "metadata": {},
   "source": [
    "# To do\n",
    "1. Plot the temperature data\n",
    "2. Compute the probability density of the temperature values\n",
    "3. Plot the temperature against the NDVI, compute the best fit line, and see if there's a correlation"
   ]
  },
  {
   "cell_type": "markdown",
   "metadata": {
    "collapsed": true
   },
   "source": [
    "# Is there another way to see vegetation?"
   ]
  },
  {
   "cell_type": "code",
   "execution_count": null,
   "metadata": {
    "collapsed": true
   },
   "outputs": [],
   "source": [
    "#Global Agriculture: % of land cover (land_cover.csv)\n",
    "url = \"http://tinyurl.com/y8bajr5f\""
   ]
  },
  {
   "cell_type": "code",
   "execution_count": null,
   "metadata": {},
   "outputs": [],
   "source": [
    "#let's use pandas to open the file\n",
    "import pandas as pd\n",
    "df = pd.read_csv(url, index_col=0, parse_dates=True)"
   ]
  },
  {
   "cell_type": "code",
   "execution_count": null,
   "metadata": {},
   "outputs": [],
   "source": [
    "df"
   ]
  },
  {
   "cell_type": "code",
   "execution_count": null,
   "metadata": {},
   "outputs": [],
   "source": [
    "# let's only see the first few\n",
    "df.head(5)"
   ]
  },
  {
   "cell_type": "code",
   "execution_count": null,
   "metadata": {},
   "outputs": [],
   "source": [
    "# columns? \n",
    "df.columns"
   ]
  },
  {
   "cell_type": "code",
   "execution_count": null,
   "metadata": {},
   "outputs": [],
   "source": [
    "# Why is this useful\n",
    "df.describe()"
   ]
  },
  {
   "cell_type": "code",
   "execution_count": null,
   "metadata": {},
   "outputs": [],
   "source": [
    "# What if we just want the US, Canada and Mexico?\n",
    "df[[\"United States\", \"Canada\", \"Mexico\"]].describe()"
   ]
  },
  {
   "cell_type": "markdown",
   "metadata": {},
   "source": [
    "# To do\n",
    "Get the stats for any other 2 countries"
   ]
  },
  {
   "cell_type": "code",
   "execution_count": null,
   "metadata": {},
   "outputs": [],
   "source": [
    "# How about the whole data set, for one country?\n",
    "df[\"United States\"]"
   ]
  },
  {
   "cell_type": "code",
   "execution_count": null,
   "metadata": {},
   "outputs": [],
   "source": [
    "# plot that over time?\n",
    "%matplotlib inline\n",
    "import matplotlib.pyplot as plt\n",
    "fig, ax = plt.subplots()\n",
    "df[\"United States\"].plot(ax=ax)\n",
    "ax.set(ylabel=\"% land is agricultural\")"
   ]
  },
  {
   "cell_type": "code",
   "execution_count": null,
   "metadata": {},
   "outputs": [],
   "source": [
    "# more countries?\n",
    "fig, ax = plt.subplots()\n",
    "df[[\"United States\", \"Mexico\"]].plot(ax=ax)\n",
    "ax.set(ylabel=\"% land is agricultural\")"
   ]
  },
  {
   "cell_type": "markdown",
   "metadata": {},
   "source": [
    "# To do\n",
    "Add another 2 countries to the above plot\n"
   ]
  },
  {
   "cell_type": "code",
   "execution_count": null,
   "metadata": {},
   "outputs": [],
   "source": [
    "# What about histograms...\n",
    "df[\"United States\"].hist(bins=100)"
   ]
  },
  {
   "cell_type": "code",
   "execution_count": null,
   "metadata": {},
   "outputs": [],
   "source": [
    "# And densities?\n",
    "df[\"United States\"].plot.density()"
   ]
  },
  {
   "cell_type": "code",
   "execution_count": null,
   "metadata": {},
   "outputs": [],
   "source": [
    "# both?\n",
    "fig, ax = plt.subplots()\n",
    "df[\"United States\"].hist(bins=100, normed=True, ax=ax)\n",
    "df[\"United States\"].plot.density()"
   ]
  },
  {
   "cell_type": "code",
   "execution_count": null,
   "metadata": {},
   "outputs": [],
   "source": [
    "# scatters?\n",
    "df.plot.scatter(\"United States\", \"Mexico\")"
   ]
  },
  {
   "cell_type": "code",
   "execution_count": null,
   "metadata": {},
   "outputs": [],
   "source": [
    "# First compute the best fit line\n",
    "\n",
    "slope, intercept, r_value, p_value, std_err = st.linregress(\n",
    "                                            df[\"United States\"],\n",
    "                                            df[\"Mexico\"])\n",
    "predicted_y = slope*df[\"United States\"].sort_values() + intercept"
   ]
  },
  {
   "cell_type": "code",
   "execution_count": null,
   "metadata": {},
   "outputs": [],
   "source": [
    "fig, ax = plt.subplots()\n",
    "\n",
    "ax.scatter(df[\"United States\"], df[\"Mexico\"])\n",
    "\n",
    "ax.plot(df[\"United States\"].sort_values(), predicted_y, color=\"black\")\n",
    "\n",
    "ax.set(xlabel=\"United States\", ylabel=\"Mexico\")"
   ]
  },
  {
   "cell_type": "code",
   "execution_count": null,
   "metadata": {},
   "outputs": [],
   "source": [
    "r_value, p_value, std_err"
   ]
  },
  {
   "cell_type": "markdown",
   "metadata": {},
   "source": [
    "# To Do\n",
    "Repeat with two different countries"
   ]
  },
  {
   "cell_type": "code",
   "execution_count": null,
   "metadata": {},
   "outputs": [],
   "source": [
    "# Can this be automated kinda too?\n",
    "df[[\"United States\", \"Canada\", \"Mexico\"]].corr()"
   ]
  },
  {
   "cell_type": "markdown",
   "metadata": {},
   "source": [
    "# To do\n",
    "Choose 5 countries and find out how they correlate to each other."
   ]
  },
  {
   "cell_type": "code",
   "execution_count": null,
   "metadata": {},
   "outputs": [],
   "source": [
    "# What if I want all the countries but just a year?\n",
    "# data frames are usually indexed via column then row\n",
    "# loc uses numpy/python row then column slicing\n",
    "df.loc['2012-01-01']"
   ]
  },
  {
   "cell_type": "code",
   "execution_count": null,
   "metadata": {},
   "outputs": [],
   "source": [
    "# visualize that?\n",
    "fig, ax = plt.subplots()\n",
    "df[[\"United States\", \"Canada\", \"Mexico\"]].loc['2012-01-01'].plot.bar(ax=ax)\n",
    "ax.set(ylabel=\"% land cover\")\n",
    "fig.show()"
   ]
  },
  {
   "cell_type": "markdown",
   "metadata": {},
   "source": [
    "# To do:\n",
    "* Plot the graph for the first year in the dataset\n",
    "* Plot the graph for any other year\n",
    "* Choose any other 4 countries and plot the bar graph for them"
   ]
  },
  {
   "cell_type": "code",
   "execution_count": null,
   "metadata": {},
   "outputs": [],
   "source": [
    "# can we do table?\n",
    "table = df[[\"United States\", \"Canada\", \"Mexico\"]].loc['2000':'2012']\n",
    "table"
   ]
  },
  {
   "cell_type": "code",
   "execution_count": null,
   "metadata": {},
   "outputs": [],
   "source": [
    "table.plot()"
   ]
  },
  {
   "cell_type": "markdown",
   "metadata": {},
   "source": [
    "To Do\n",
    "===\n",
    "Pick some other countries and years. See if you can find rapid urbanization or some other trends..."
   ]
  },
  {
   "cell_type": "code",
   "execution_count": null,
   "metadata": {
    "collapsed": true
   },
   "outputs": [],
   "source": []
  }
 ],
 "metadata": {
  "kernelspec": {
   "display_name": "Python 2",
   "language": "python",
   "name": "python2"
  },
  "language_info": {
   "codemirror_mode": {
    "name": "ipython",
    "version": 2
   },
   "file_extension": ".py",
   "mimetype": "text/x-python",
   "name": "python",
   "nbconvert_exporter": "python",
   "pygments_lexer": "ipython2",
   "version": "2.7.13"
  }
 },
 "nbformat": 4,
 "nbformat_minor": 2
}
