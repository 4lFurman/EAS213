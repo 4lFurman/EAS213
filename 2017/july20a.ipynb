{
 "cells": [
  {
   "cell_type": "markdown",
   "metadata": {},
   "source": [
    "# NDVI and Temperature"
   ]
  },
  {
   "cell_type": "code",
   "execution_count": null,
   "metadata": {
    "collapsed": true
   },
   "outputs": [],
   "source": [
    "import six\n",
    "from six.moves.urllib.request import urlretrieve\n",
    "import landsat_sample_functions as lf\n",
    "\n",
    "#landsat_RGBN.txt\n",
    "rgb_url = \"http://bit.ly/2uzjBOX\"\n",
    "rgbdatafile, _ = urlretrieve(rgb_url)\n",
    "rgbn = lf.landsat_read(rgbdatafile)"
   ]
  },
  {
   "cell_type": "code",
   "execution_count": null,
   "metadata": {
    "collapsed": true
   },
   "outputs": [],
   "source": [
    "# extract colors\n",
    "red = rgbn[...,0]\n",
    "green = rgbn[...,1]\n",
    "blue = rgbn[...,2]\n",
    "\n",
    "#extract near infrared channel from rgb\n",
    "nir = rgbn[...,3]"
   ]
  },
  {
   "cell_type": "code",
   "execution_count": null,
   "metadata": {
    "collapsed": true
   },
   "outputs": [],
   "source": [
    "# Let's compute vegetation! \n",
    "def NDVI(nir, red):\n",
    "    return (nir-red)/(nir+red)"
   ]
  },
  {
   "cell_type": "code",
   "execution_count": null,
   "metadata": {
    "collapsed": true
   },
   "outputs": [],
   "source": [
    "# Call the ndvi function to get the results\n",
    "ndvi = NDVI(nir, red)"
   ]
  },
  {
   "cell_type": "code",
   "execution_count": null,
   "metadata": {},
   "outputs": [],
   "source": [
    "# let's look at those components \n",
    "\n",
    "%matplotlib inline\n",
    "import matplotlib.pyplot as plt \n",
    "\n",
    "fig,(ax1, ax2, ax3) = plt.subplots(ncols=3, figsize=(10,30))\n",
    "\n",
    "nim = ax1.imshow(nir)\n",
    "#fraction shrinks the colorbar so that it fits nicely\n",
    "fig.colorbar(nim, ax=ax1, fraction=.04)\n",
    "ax1.set_title(\"Near Infrared\")\n",
    "\n",
    "rim = ax2.imshow(red, cmap=\"Reds\")\n",
    "fig.colorbar(rim, ax=ax2, fraction=.04)\n",
    "ax2.set_title(\"Red channel\")\n",
    "\n",
    "ndim = ax3.imshow(ndvi)\n",
    "fig.colorbar(ndim, ax=ax3, fraction=.04)\n",
    "ax3.set_title(\"NDVI\")\n",
    "\n",
    "fig.tight_layout()"
   ]
  },
  {
   "cell_type": "markdown",
   "metadata": {},
   "source": [
    "# Review\n",
    "Compute and plot the probability density estimates of:\n",
    "1. near infrared data\n",
    "2. red channel data\n",
    "2. ndvi data"
   ]
  },
  {
   "cell_type": "markdown",
   "metadata": {},
   "source": [
    "Scales are totally different, so how do we see if there's a relationship? \n",
    "Scatter plots!\n",
    "\n",
    "Because the images are the same size, the pixels are at the same latitude and longitude and that relationship is preserved even when the data is flattened. "
   ]
  },
  {
   "cell_type": "code",
   "execution_count": null,
   "metadata": {},
   "outputs": [],
   "source": [
    "fig, ax = plt.subplots()\n",
    "\n",
    "#scatter puts the nir data on the x axis, temperature on y\n",
    "ax.scatter(nir.flatten(), ndvi.flatten())\n",
    "\n",
    "ax.set(xlabel = \"NIR\", ylabel=\"NDVI\", aspect=\"equal\")\n",
    "fig.show()"
   ]
  },
  {
   "cell_type": "code",
   "execution_count": null,
   "metadata": {},
   "outputs": [],
   "source": [
    "# Let's make those dots smaller\n",
    "\n",
    "fig, ax = plt.subplots()\n",
    "\n",
    "#scatter puts the nir data on the x axis, temperature on y\n",
    "ax.scatter(nir.flatten(), ndvi.flatten(), s=.25)\n",
    "\n",
    "ax.set(xlabel = \"NIR\", ylabel=\"NDVI\", aspect=\"equal\")\n",
    "fig.show()"
   ]
  },
  {
   "cell_type": "code",
   "execution_count": null,
   "metadata": {},
   "outputs": [],
   "source": [
    "# For a large number of values, use plot instead of scatter\n",
    "fig, ax = plt.subplots()\n",
    "# '.' means plot with a . symbol\n",
    "ax.plot(nir.flatten(), ndvi.flatten(), '.')\n",
    "\n",
    "ax.set(xlabel = \"NIR\", ylabel=\"NDVI\", aspect=\"equal\")\n",
    "fig.show()"
   ]
  },
  {
   "cell_type": "code",
   "execution_count": null,
   "metadata": {
    "collapsed": true
   },
   "outputs": [],
   "source": [
    "# Can we fit a line?\n",
    "\n",
    "import scipy.stats as st\n",
    "\n",
    "x = nir.flatten()\n",
    "y = ndvi.flatten()\n",
    "slope, intercept, r_value, p_value, std_err = st.linregress(x, y)"
   ]
  },
  {
   "cell_type": "code",
   "execution_count": null,
   "metadata": {
    "collapsed": true
   },
   "outputs": [],
   "source": [
    "# how do we plot that? Equation of line: y = m*x + b \n",
    "# let's compute theoretical line\n",
    "\n",
    "predicted_y = slope*x + intercept"
   ]
  },
  {
   "cell_type": "code",
   "execution_count": null,
   "metadata": {},
   "outputs": [],
   "source": [
    "fig, ax = plt.subplots()\n",
    "ax.plot(x, y, '.')\n",
    "\n",
    "ax.plot(x, predicted_y, color=\"black\")\n",
    "\n",
    "ax.set(xlabel = \"NIR\", ylabel=\"NDVI\", aspect=\"equal\")\n",
    "fig.show()"
   ]
  },
  {
   "cell_type": "code",
   "execution_count": null,
   "metadata": {},
   "outputs": [],
   "source": [
    "# Is it meaningful? \n",
    "# r_value = Pearson's r correlation coefficient \n",
    "# p_value = likelihood null hypothesis is true\n",
    "# std_error = avg distance between predicted and actual value\n",
    "r_value, p_value, std_err"
   ]
  },
  {
   "cell_type": "markdown",
   "metadata": {},
   "source": [
    "# To do\n",
    "\n",
    "See if the red channel is correlated with \n",
    "NDVI. Draw a scatter plot with a best fit line."
   ]
  },
  {
   "cell_type": "markdown",
   "metadata": {},
   "source": [
    "# Let's add in temperature"
   ]
  },
  {
   "cell_type": "code",
   "execution_count": null,
   "metadata": {
    "collapsed": true
   },
   "outputs": [],
   "source": [
    "#landsat_thermrad.txt\n",
    "radiance_url = \"http://tinyurl.com/ya5bz7ue\"\n",
    "raddatafile, _ = urlretrieve(radiance_url)\n",
    "thermrad = lf.landsat_read(raddatafile)"
   ]
  },
  {
   "cell_type": "code",
   "execution_count": null,
   "metadata": {
    "collapsed": true
   },
   "outputs": [],
   "source": [
    "# convert thermal radiance to temperature\n",
    "temps = lf.BT(thermrad,10.9,1)"
   ]
  },
  {
   "cell_type": "code",
   "execution_count": null,
   "metadata": {},
   "outputs": [],
   "source": [
    "temps_c = temps - 273.15\n",
    "temps_f = (9/5)*temps_c + 32\n",
    "temps.min(), temps.max()"
   ]
  },
  {
   "cell_type": "markdown",
   "metadata": {},
   "source": [
    "# To do\n",
    "1. Plot the temperature data as a heat map\n",
    "2. Compute the probability density of the temperature values\n",
    "3. Plot the temperature against the NDVI, compute the best fit line, and see if there's a correlation"
   ]
  },
  {
   "cell_type": "code",
   "execution_count": null,
   "metadata": {
    "collapsed": true
   },
   "outputs": [],
   "source": []
  }
 ],
 "metadata": {
  "kernelspec": {
   "display_name": "Python 2",
   "language": "python",
   "name": "python2"
  },
  "language_info": {
   "codemirror_mode": {
    "name": "ipython",
    "version": 2
   },
   "file_extension": ".py",
   "mimetype": "text/x-python",
   "name": "python",
   "nbconvert_exporter": "python",
   "pygments_lexer": "ipython2",
   "version": "2.7.13"
  }
 },
 "nbformat": 4,
 "nbformat_minor": 2
}
