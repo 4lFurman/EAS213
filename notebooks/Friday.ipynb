{
 "metadata": {
  "name": "",
  "signature": "sha256:df99721d8157e835004886d3e839671559b9066fbe0b5fa1bd62ce0cb4e13227"
 },
 "nbformat": 3,
 "nbformat_minor": 0,
 "worksheets": [
  {
   "cells": [
    {
     "cell_type": "code",
     "collapsed": false,
     "input": [
      "import pandas\n",
      "#load in data\n",
      "path = \"C:\\Users\\story645\\Desktop\\eas213\\delta_byName_time_series.v2.pkl\"\n",
      "data = pandas.read_pickle(path)"
     ],
     "language": "python",
     "metadata": {},
     "outputs": [],
     "prompt_number": 1
    },
    {
     "cell_type": "code",
     "collapsed": false,
     "input": [
      "%matplotlib inline\n",
      "import matplotlib\n",
      "import matplotlib.pyplot as plt"
     ],
     "language": "python",
     "metadata": {},
     "outputs": [],
     "prompt_number": 1
    },
    {
     "cell_type": "code",
     "collapsed": false,
     "input": [
      "fig = plt.figure()\n",
      "ax.set_title(\"pearl\")\n",
      "ax = fig.add_subplot(1,1,1)\n",
      "data['flood']['Pearl'].plot(ax=ax)\n",
      "ax.set_ylabel(\"flood\")"
     ],
     "language": "python",
     "metadata": {},
     "outputs": [
      {
       "ename": "NameError",
       "evalue": "name 'ax' is not defined",
       "output_type": "pyerr",
       "traceback": [
        "\u001b[1;31m---------------------------------------------------------------------------\u001b[0m\n\u001b[1;31mNameError\u001b[0m                                 Traceback (most recent call last)",
        "\u001b[1;32m<ipython-input-2-ebdb4166ee5d>\u001b[0m in \u001b[0;36m<module>\u001b[1;34m()\u001b[0m\n\u001b[0;32m      1\u001b[0m \u001b[0mfig\u001b[0m \u001b[1;33m=\u001b[0m \u001b[0mplt\u001b[0m\u001b[1;33m.\u001b[0m\u001b[0mfigure\u001b[0m\u001b[1;33m(\u001b[0m\u001b[1;33m)\u001b[0m\u001b[1;33m\u001b[0m\u001b[0m\n\u001b[1;32m----> 2\u001b[1;33m \u001b[0max\u001b[0m\u001b[1;33m.\u001b[0m\u001b[0mset_title\u001b[0m\u001b[1;33m(\u001b[0m\u001b[1;34m\"pearl\"\u001b[0m\u001b[1;33m)\u001b[0m\u001b[1;33m\u001b[0m\u001b[0m\n\u001b[0m\u001b[0;32m      3\u001b[0m \u001b[0max\u001b[0m \u001b[1;33m=\u001b[0m \u001b[0mfig\u001b[0m\u001b[1;33m.\u001b[0m\u001b[0madd_subplot\u001b[0m\u001b[1;33m(\u001b[0m\u001b[1;36m1\u001b[0m\u001b[1;33m,\u001b[0m\u001b[1;36m1\u001b[0m\u001b[1;33m,\u001b[0m\u001b[1;36m1\u001b[0m\u001b[1;33m)\u001b[0m\u001b[1;33m\u001b[0m\u001b[0m\n\u001b[0;32m      4\u001b[0m \u001b[0mdata\u001b[0m\u001b[1;33m[\u001b[0m\u001b[1;34m'flood'\u001b[0m\u001b[1;33m]\u001b[0m\u001b[1;33m[\u001b[0m\u001b[1;34m'Pearl'\u001b[0m\u001b[1;33m]\u001b[0m\u001b[1;33m.\u001b[0m\u001b[0mplot\u001b[0m\u001b[1;33m(\u001b[0m\u001b[0max\u001b[0m\u001b[1;33m=\u001b[0m\u001b[0max\u001b[0m\u001b[1;33m)\u001b[0m\u001b[1;33m\u001b[0m\u001b[0m\n\u001b[0;32m      5\u001b[0m \u001b[0max\u001b[0m\u001b[1;33m.\u001b[0m\u001b[0mset_ylabel\u001b[0m\u001b[1;33m(\u001b[0m\u001b[1;34m\"flood\"\u001b[0m\u001b[1;33m)\u001b[0m\u001b[1;33m\u001b[0m\u001b[0m\n",
        "\u001b[1;31mNameError\u001b[0m: name 'ax' is not defined"
       ]
      },
      {
       "metadata": {},
       "output_type": "display_data",
       "text": [
        "<matplotlib.figure.Figure at 0x9cf9d68>"
       ]
      }
     ],
     "prompt_number": 2
    },
    {
     "cell_type": "code",
     "collapsed": false,
     "input": [
      "ax = fig.add_subplot(1,1,1)"
     ],
     "language": "python",
     "metadata": {},
     "outputs": [],
     "prompt_number": 5
    },
    {
     "cell_type": "code",
     "collapsed": false,
     "input": [
      "data['flood']['Pearl'].plot(ax=ax)"
     ],
     "language": "python",
     "metadata": {},
     "outputs": [
      {
       "metadata": {},
       "output_type": "pyout",
       "prompt_number": 6,
       "text": [
        "<matplotlib.axes.AxesSubplot at 0xb1c86d8>"
       ]
      }
     ],
     "prompt_number": 6
    },
    {
     "cell_type": "code",
     "collapsed": false,
     "input": [
      "fig = plt.figure()\n",
      "ax = fig.add_subplot(3,2,1)\n",
      "ax.set_title(\"1\")\n",
      "ax2 = fig.add_subplot(3,2,6)"
     ],
     "language": "python",
     "metadata": {},
     "outputs": [
      {
       "metadata": {},
       "output_type": "display_data",
       "png": "[encoded data removed]",
       "text": [
        "<matplotlib.figure.Figure at 0xd3867b8>"
       ]
      }
     ],
     "prompt_number": 13
    },
    {
     "cell_type": "code",
     "collapsed": false,
     "input": [
      "varlist = ['discharge', 'flood', 'inundation', 'ndvi', 'precip']\n",
      "#since we're repeating the same procedure, lets use a loop/comprehension\n",
      "for vr in varlist:\n",
      "    print vr"
     ],
     "language": "python",
     "metadata": {},
     "outputs": [
      {
       "output_type": "stream",
       "stream": "stdout",
       "text": [
        "discharge\n",
        "flood\n",
        "inundation\n",
        "ndvi\n",
        "precip\n"
       ]
      }
     ],
     "prompt_number": 14
    },
    {
     "cell_type": "code",
     "collapsed": false,
     "input": [
      "data['flood']['Pearl']"
     ],
     "language": "python",
     "metadata": {},
     "outputs": [
      {
       "metadata": {},
       "output_type": "pyout",
       "prompt_number": 15,
       "text": [
        "1990-01-01    0\n",
        "1990-01-02    0\n",
        "1990-01-03    0\n",
        "1990-01-04    0\n",
        "1990-01-05    0\n",
        "1990-01-06    0\n",
        "1990-01-07    0\n",
        "1990-01-08    0\n",
        "1990-01-09    0\n",
        "1990-01-10    0\n",
        "1990-01-11    0\n",
        "1990-01-12    0\n",
        "1990-01-13    0\n",
        "1990-01-14    0\n",
        "1990-01-15    0\n",
        "...\n",
        "2013-08-17   NaN\n",
        "2013-08-18   NaN\n",
        "2013-08-19   NaN\n",
        "2013-08-20   NaN\n",
        "2013-08-21   NaN\n",
        "2013-08-22   NaN\n",
        "2013-08-23   NaN\n",
        "2013-08-24   NaN\n",
        "2013-08-25   NaN\n",
        "2013-08-26   NaN\n",
        "2013-08-27   NaN\n",
        "2013-08-28   NaN\n",
        "2013-08-29   NaN\n",
        "2013-08-30   NaN\n",
        "2013-08-31   NaN\n",
        "Freq: D, Name: Pearl, Length: 8644"
       ]
      }
     ],
     "prompt_number": 15
    },
    {
     "cell_type": "code",
     "collapsed": false,
     "input": [
      "data['flood']['Pearl'][data['flood']['Pearl'].index.year==2009]\n",
      "pf = data['flood']['Pearl']\n",
      "pf[pf.index.year==2009]"
     ],
     "language": "python",
     "metadata": {},
     "outputs": [
      {
       "metadata": {},
       "output_type": "pyout",
       "prompt_number": 20,
       "text": [
        "2009-01-01    0\n",
        "2009-01-02    0\n",
        "2009-01-03    0\n",
        "2009-01-04    0\n",
        "2009-01-05    0\n",
        "2009-01-06    0\n",
        "2009-01-07    0\n",
        "2009-01-08    0\n",
        "2009-01-09    0\n",
        "2009-01-10    0\n",
        "2009-01-11    0\n",
        "2009-01-12    0\n",
        "2009-01-13    0\n",
        "2009-01-14    0\n",
        "2009-01-15    0\n",
        "...\n",
        "2009-12-17    0\n",
        "2009-12-18    0\n",
        "2009-12-19    0\n",
        "2009-12-20    0\n",
        "2009-12-21    0\n",
        "2009-12-22    0\n",
        "2009-12-23    0\n",
        "2009-12-24    0\n",
        "2009-12-25    0\n",
        "2009-12-26    0\n",
        "2009-12-27    0\n",
        "2009-12-28    0\n",
        "2009-12-29    0\n",
        "2009-12-30    0\n",
        "2009-12-31    0\n",
        "Freq: D, Name: Pearl, Length: 365"
       ]
      }
     ],
     "prompt_number": 20
    },
    {
     "cell_type": "code",
     "collapsed": false,
     "input": [
      "import numpy \n",
      "a = numpy.arange(5)"
     ],
     "language": "python",
     "metadata": {},
     "outputs": [],
     "prompt_number": 23
    },
    {
     "cell_type": "code",
     "collapsed": false,
     "input": [
      "a"
     ],
     "language": "python",
     "metadata": {},
     "outputs": [
      {
       "metadata": {},
       "output_type": "pyout",
       "prompt_number": 24,
       "text": [
        "array([0, 1, 2, 3, 4])"
       ]
      }
     ],
     "prompt_number": 24
    },
    {
     "cell_type": "code",
     "collapsed": false,
     "input": [
      "(a>2)"
     ],
     "language": "python",
     "metadata": {},
     "outputs": [
      {
       "metadata": {},
       "output_type": "pyout",
       "prompt_number": 30,
       "text": [
        "array([False, False, False,  True,  True], dtype=bool)"
       ]
      }
     ],
     "prompt_number": 30
    },
    {
     "cell_type": "code",
     "collapsed": false,
     "input": [
      "a[a>2]"
     ],
     "language": "python",
     "metadata": {},
     "outputs": [
      {
       "metadata": {},
       "output_type": "pyout",
       "prompt_number": 31,
       "text": [
        "array([3, 4])"
       ]
      }
     ],
     "prompt_number": 31
    },
    {
     "cell_type": "code",
     "collapsed": false,
     "input": [
      "pf.index.year==2009"
     ],
     "language": "python",
     "metadata": {},
     "outputs": [
      {
       "metadata": {},
       "output_type": "pyout",
       "prompt_number": 32,
       "text": [
        "array([False, False, False, ..., False, False, False], dtype=bool)"
       ]
      }
     ],
     "prompt_number": 32
    },
    {
     "cell_type": "code",
     "collapsed": false,
     "input": [
      "pf[pf.index.year==2009]"
     ],
     "language": "python",
     "metadata": {},
     "outputs": [
      {
       "metadata": {},
       "output_type": "pyout",
       "prompt_number": 33,
       "text": [
        "2009-01-01    0\n",
        "2009-01-02    0\n",
        "2009-01-03    0\n",
        "2009-01-04    0\n",
        "2009-01-05    0\n",
        "2009-01-06    0\n",
        "2009-01-07    0\n",
        "2009-01-08    0\n",
        "2009-01-09    0\n",
        "2009-01-10    0\n",
        "2009-01-11    0\n",
        "2009-01-12    0\n",
        "2009-01-13    0\n",
        "2009-01-14    0\n",
        "2009-01-15    0\n",
        "...\n",
        "2009-12-17    0\n",
        "2009-12-18    0\n",
        "2009-12-19    0\n",
        "2009-12-20    0\n",
        "2009-12-21    0\n",
        "2009-12-22    0\n",
        "2009-12-23    0\n",
        "2009-12-24    0\n",
        "2009-12-25    0\n",
        "2009-12-26    0\n",
        "2009-12-27    0\n",
        "2009-12-28    0\n",
        "2009-12-29    0\n",
        "2009-12-30    0\n",
        "2009-12-31    0\n",
        "Freq: D, Name: Pearl, Length: 365"
       ]
      }
     ],
     "prompt_number": 33
    },
    {
     "cell_type": "code",
     "collapsed": false,
     "input": [
      "import numpy as np\n",
      "d = np.arange(0,20)"
     ],
     "language": "python",
     "metadata": {},
     "outputs": [],
     "prompt_number": 4
    },
    {
     "cell_type": "code",
     "collapsed": false,
     "input": [
      "d"
     ],
     "language": "python",
     "metadata": {},
     "outputs": [
      {
       "metadata": {},
       "output_type": "pyout",
       "prompt_number": 5,
       "text": [
        "array([ 0,  1,  2,  3,  4,  5,  6,  7,  8,  9, 10, 11, 12, 13, 14, 15, 16,\n",
        "       17, 18, 19])"
       ]
      }
     ],
     "prompt_number": 5
    },
    {
     "cell_type": "code",
     "collapsed": false,
     "input": [
      "fig = plt.figure()\n",
      "ax = fig.add_subplot(1,1,1)\n",
      "d[:5]=10\n",
      "ax.hist(d)\n",
      "fig.savefig(\"randhist\")"
     ],
     "language": "python",
     "metadata": {},
     "outputs": [
      {
       "metadata": {},
       "output_type": "display_data",
       "png": "[encoded data removed]",
       "text": [
        "<matplotlib.figure.Figure at 0x9e0f4e0>"
       ]
      }
     ],
     "prompt_number": 9
    },
    {
     "cell_type": "markdown",
     "metadata": {},
     "source": [
      "Classwork\n",
      "==========\n",
      "1) Yellow and Pearl...."
     ]
    },
    {
     "cell_type": "code",
     "collapsed": false,
     "input": [
      "a = np.arange(0,10,2)\n",
      "b = np.arange(1,11,2)\n",
      "fig = plt.figure()\n",
      "ax = fig.add_subplot(1,1,1)\n",
      "ax.scatter(a,b)\n",
      "ax.set_xlabel(\"evens\")\n",
      "ax.set_ylabel(\"odds\")"
     ],
     "language": "python",
     "metadata": {},
     "outputs": [
      {
       "metadata": {},
       "output_type": "pyout",
       "prompt_number": 16,
       "text": [
        "<matplotlib.text.Text at 0xa611278>"
       ]
      },
      {
       "metadata": {},
       "output_type": "display_data",
       "png": "[encoded data removed]",
       "text": [
        "<matplotlib.figure.Figure at 0xa3c95c0>"
       ]
      }
     ],
     "prompt_number": 16
    },
    {
     "cell_type": "code",
     "collapsed": false,
     "input": [],
     "language": "python",
     "metadata": {},
     "outputs": []
    }
   ],
   "metadata": {}
  }
 ]
}