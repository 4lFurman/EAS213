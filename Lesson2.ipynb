{
 "cells": [
  {
   "cell_type": "markdown",
   "metadata": {
    "slideshow": {
     "slide_type": "slide"
    }
   },
   "source": [
    "Developing a classifier:\n",
    "========================\n",
    "* Review of image as array\n",
    "* Computing statistics on selected regions\n",
    "* Filtering data via Boolean masking\n",
    "* Using statistics to build an NDVI classifier\n",
    "* Creating classifiers for water, building, clouds"
   ]
  },
  {
   "cell_type": "code",
   "execution_count": null,
   "metadata": {
    "collapsed": true,
    "slideshow": {
     "slide_type": "slide"
    }
   },
   "outputs": [],
   "source": [
    "#read in data\n",
    "import landsat as lf\n",
    "rgbpath = \"data/landsat_RGBN.txt\" \n",
    "rgbn = lf.landsat_read(rgbpath)"
   ]
  },
  {
   "cell_type": "code",
   "execution_count": null,
   "metadata": {
    "collapsed": true,
    "slideshow": {
     "slide_type": "slide"
    }
   },
   "outputs": [],
   "source": [
    "# compute the array at a given contrast\n",
    "rgb_array = lf.rgb_contrast(rgbn[...,:3], 3)"
   ]
  },
  {
   "cell_type": "markdown",
   "metadata": {
    "slideshow": {
     "slide_type": "slide"
    }
   },
   "source": [
    "How do we subset data?\n",
    "======================\n",
    "![figs](figs/slice.png)\n",
    "src: [scipy lectures](http://www.scipy-lectures.org/intro/numpy/array_object.html#indexing-and-slicing)\n"
   ]
  },
  {
   "cell_type": "code",
   "execution_count": null,
   "metadata": {
    "collapsed": false,
    "slideshow": {
     "slide_type": "slide"
    }
   },
   "outputs": [],
   "source": [
    "#use zoom to find region of interest\n",
    "%matplotlib notebook\n",
    "import matplotlib.pyplot as plt\n",
    "\n",
    "fig, ax = plt.subplots()\n",
    "ax.imshow(rgb_array)"
   ]
  },
  {
   "cell_type": "code",
   "execution_count": null,
   "metadata": {
    "collapsed": false,
    "slideshow": {
     "slide_type": "slide"
    }
   },
   "outputs": [],
   "source": [
    "# xbounds: 260, 360\n",
    "# ybounds: 260, 400\n",
    "x1, x2 = 260, 360\n",
    "y1, y2 = 260, 400\n",
    "subset = rgb_array[x1:x2, y1:y2]\n",
    "fig = plt.figure()\n",
    "ax = fig.add_subplot(1,1,1)\n",
    "ax.imshow(subset)"
   ]
  },
  {
   "cell_type": "code",
   "execution_count": null,
   "metadata": {
    "collapsed": false,
    "scrolled": false,
    "slideshow": {
     "slide_type": "slide"
    }
   },
   "outputs": [],
   "source": [
    "# plot pdf of red in that region\n",
    "red = subset[...,0]\n",
    "\n",
    "import scipy.stats as st\n",
    "import numpy as np\n",
    "\n",
    "#estimate the P function of the distribution\n",
    "kernal = st.gaussian_kde(red.flatten())\n",
    "# color values range between 0 & 1 \n",
    "x = np.linspace(0,1,100) #the range of potential color values\n",
    "y = kernal(x) #probability of each x happening\n",
    "\n",
    "fig = plt.figure()\n",
    "ax = fig.add_subplot(1,1,1)\n",
    "ax.plot(x, y, color='red')\n",
    "ax.set_xlabel(\"Intensity\")\n",
    "ax.set_ylabel(\"Probability\")\n",
    "\n",
    "# now add the pdfs for green & blue"
   ]
  },
  {
   "cell_type": "markdown",
   "metadata": {
    "slideshow": {
     "slide_type": "slide"
    }
   },
   "source": [
    "ToDo\n",
    "=====\n",
    "1. select a few other regions and plot the related pdfs\n",
    "2. try to find a relationship between pdfs and different features of the region (like land or water)\n"
   ]
  },
  {
   "cell_type": "markdown",
   "metadata": {
    "slideshow": {
     "slide_type": "slide"
    }
   },
   "source": [
    "How do we filter data?\n",
    "======================================\n",
    "![boolean mask](figs/masking.png)"
   ]
  },
  {
   "cell_type": "code",
   "execution_count": null,
   "metadata": {
    "collapsed": false,
    "slideshow": {
     "slide_type": "slide"
    }
   },
   "outputs": [],
   "source": [
    "#unpack red, green, blue\n",
    "red = rgb_array[...,0]\n",
    "green = rgb_array[...,1]\n",
    "blue = rgb_array[...,2]\n",
    "\n",
    "#lets build an arbitrary blue mask\n",
    "bmean = blue.mean()\n",
    "print(bmean)\n",
    "blue_mask = (blue>bmean)\n",
    "print (blue_mask)"
   ]
  },
  {
   "cell_type": "code",
   "execution_count": null,
   "metadata": {
    "collapsed": false
   },
   "outputs": [],
   "source": [
    "import numpy as np\n",
    "import matplotlib.cm as mcm\n",
    "import matplotlib.colors as mcolors\n",
    "#what does that mean?\n",
    "\n",
    "cmap = mcm.bone\n",
    "norm = mcolors.BoundaryNorm([0,1,2],cmap.N)\n",
    "fig = plt.figure()\n",
    "ax = fig.add_subplot(1,1,1)\n",
    "im = ax.imshow(blue_mask, cmap=cmap, norm=norm)\n",
    "cb = fig.colorbar(im, ax=ax)\n",
    "cb.set_ticks([0.5,1.5])\n",
    "cb.set_ticklabels([\"not in mask\",\"in mask\"])\n",
    "fig.canvas.draw()"
   ]
  },
  {
   "cell_type": "code",
   "execution_count": null,
   "metadata": {
    "collapsed": false
   },
   "outputs": [],
   "source": [
    "#plot only the data shown in the map\n",
    "rgb_copy = rgb_array.copy()\n",
    "#zero out values not in mask\n",
    "\n",
    "rgb_copy[~blue_mask] = np.nan\n",
    "cmap = mcm.bone\n",
    "norm = mcolors.BoundaryNorm([0,1,2],cmap.N)\n",
    "fig = plt.figure()\n",
    "ax = fig.add_subplot(1,1,1)\n",
    "im = ax.imshow(rgb_copy)\n",
    "fig.canvas.draw()"
   ]
  },
  {
   "cell_type": "code",
   "execution_count": null,
   "metadata": {
    "collapsed": false,
    "slideshow": {
     "slide_type": "slide"
    }
   },
   "outputs": [],
   "source": [
    "#compare data in mask to data not in mask:\n",
    "class1 = rgb_array[blue_mask] # data in mask\n",
    "class2 = rgb_array[~blue_mask] # data outside of mask\n",
    "\n",
    "x = np.linspace(0,1,100) \n",
    "def pdf(data):\n",
    "    kernal = st.gaussian_kde(data.flatten())  \n",
    "    y = kernal(x) \n",
    "    return y\n",
    "\n",
    "colors = ['red', 'green','blue']\n",
    "fig = plt.figure()\n",
    "ax = fig.add_subplot(1,1,1)\n",
    "ax.set_title(\"class 1\")\n",
    "for i, c in enumerate(colors):\n",
    "    ax.plot(x, pdf(class1[i]), color=c, label=\"class 1\")\n",
    "    ax.plot(x, pdf(class2[i]), color=c, linestyle='--', label='class 2')\n",
    "\n",
    "ax.legend()"
   ]
  },
  {
   "cell_type": "markdown",
   "metadata": {
    "slideshow": {
     "slide_type": "slide"
    }
   },
   "source": [
    "1. Was blue mean a good seperator?\n",
    "2. Try using red channel and green channel"
   ]
  },
  {
   "cell_type": "code",
   "execution_count": null,
   "metadata": {
    "collapsed": false,
    "slideshow": {
     "slide_type": "slide"
    }
   },
   "outputs": [],
   "source": [
    "#combine masks and show which region is in both\n",
    "blue_mask = (blue>blue.mean())\n",
    "red_mask = (red>red.mean())\n",
    "comb_mask = (blue_mask & red_mask)\n",
    "\n",
    "cmap = mcm.bone\n",
    "norm = mcolors.BoundaryNorm([0,1,2],cmap.N)\n",
    "fig = plt.figure()\n",
    "ax = fig.add_subplot(1,1,1)\n",
    "im = ax.imshow(comb_mask, cmap=cmap, norm=norm)\n",
    "cb = fig.colorbar(im, ax=ax)\n",
    "cb.set_ticks([0.5,1.5])\n",
    "cb.set_ticklabels([\"not in mask\",\"in mask\"])\n",
    "fig.canvas.draw()"
   ]
  },
  {
   "cell_type": "markdown",
   "metadata": {
    "slideshow": {
     "slide_type": "slide"
    }
   },
   "source": [
    "ToDo\n",
    "=====\n",
    " 1. Apply combined mask to data\n",
    " 2. Compare data the two classes (mask & non-mask)\n",
    " 2. Explore different thresholds for each of the color channels using the histograms you made above\n",
    " 3. Combine various thresholds\n",
    " 4. See if combination masks can highlight/yield features in the dataset\n",
    " 5. Compute histograms of the masked data"
   ]
  },
  {
   "cell_type": "code",
   "execution_count": null,
   "metadata": {
    "collapsed": true
   },
   "outputs": [],
   "source": []
  }
 ],
 "metadata": {
  "celltoolbar": "Slideshow",
  "kernelspec": {
   "display_name": "Python 3",
   "language": "python",
   "name": "python3"
  },
  "language_info": {
   "codemirror_mode": {
    "name": "ipython",
    "version": 3
   },
   "file_extension": ".py",
   "mimetype": "text/x-python",
   "name": "python",
   "nbconvert_exporter": "python",
   "pygments_lexer": "ipython3",
   "version": "3.5.2"
  }
 },
 "nbformat": 4,
 "nbformat_minor": 0
}
