{
 "cells": [
  {
   "cell_type": "markdown",
   "metadata": {},
   "source": [
    "Here we're making some fake data just in case our form isn't filled out"
   ]
  },
  {
   "cell_type": "code",
   "execution_count": null,
   "metadata": {},
   "outputs": [],
   "source": [
    "import pandas as pd"
   ]
  },
  {
   "cell_type": "code",
   "execution_count": null,
   "metadata": {},
   "outputs": [],
   "source": [
    "url = \"https://docs.google.com/spreadsheets/d/1liJc0zDH5y5Aa02TnmfCvIG08pEQlv7rbi9aSswEuP0/export?format=csv&gid=577241993\"\n",
    "df = pd.read_csv(url)"
   ]
  },
  {
   "cell_type": "code",
   "execution_count": null,
   "metadata": {},
   "outputs": [],
   "source": [
    "df.head()"
   ]
  },
  {
   "cell_type": "code",
   "execution_count": null,
   "metadata": {},
   "outputs": [],
   "source": [
    "# Creating python lists (which are objects) of potential values\n",
    "year = ['freshman', 'sophmore', 'junior', 'senior']\n",
    "borough = ['Bronx', 'Brooklyn', 'Manhattan', 'Queens', 'Staten Island', 'Other']\n",
    "wake = [f'{hr:02}:00:00AM' for hr in range(6,12)] # setting wake ups between 6 and 11AM\n",
    "sleep = ['10:00:00PM', '11:00:00PM', '12:00:00AM', '01:00:00AM'] "
   ]
  },
  {
   "cell_type": "markdown",
   "metadata": {},
   "source": [
    "The Python standard library has a module (sub-library) called itertools that we can use to make combinations of our sample values, that we're then gonna convert into a list of lists."
   ]
  },
  {
   "cell_type": "code",
   "execution_count": null,
   "metadata": {},
   "outputs": [],
   "source": [
    "import itertools\n",
    "\n",
    "fake_data = itertools.product(year, borough, wake, sleep)"
   ]
  },
  {
   "cell_type": "code",
   "execution_count": null,
   "metadata": {},
   "outputs": [],
   "source": [
    "# going to turn this into a dataframe\n",
    "dfake = pd.DataFrame(data = list(fake_data), \n",
    "                     columns=['Class', 'Borough', 'Wake', 'Bed'])"
   ]
  },
  {
   "cell_type": "code",
   "execution_count": null,
   "metadata": {},
   "outputs": [],
   "source": [
    "#lets take a sample of all the combinations to get a random mix of options\n",
    "dsamp = dfake.sample(n=30)\n",
    "dsamp.head()"
   ]
  },
  {
   "cell_type": "code",
   "execution_count": null,
   "metadata": {},
   "outputs": [],
   "source": [
    "dsamp.to_csv(\"fake_survey.csv\")"
   ]
  },
  {
   "cell_type": "code",
   "execution_count": null,
   "metadata": {},
   "outputs": [],
   "source": []
  }
 ],
 "metadata": {
  "kernelspec": {
   "display_name": "Python 3",
   "language": "python",
   "name": "python3"
  },
  "language_info": {
   "codemirror_mode": {
    "name": "ipython",
    "version": 3
   },
   "file_extension": ".py",
   "mimetype": "text/x-python",
   "name": "python",
   "nbconvert_exporter": "python",
   "pygments_lexer": "ipython3",
   "version": "3.8.3"
  }
 },
 "nbformat": 4,
 "nbformat_minor": 4
}
