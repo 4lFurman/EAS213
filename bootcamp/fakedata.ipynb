{
 "cells": [
  {
   "cell_type": "markdown",
   "metadata": {},
   "source": [
    "Here we're making some fake data just in case our form isn't filled out"
   ]
  },
  {
   "cell_type": "code",
   "execution_count": 34,
   "metadata": {},
   "outputs": [],
   "source": [
    "import pandas as pd"
   ]
  },
  {
   "cell_type": "code",
   "execution_count": 35,
   "metadata": {},
   "outputs": [],
   "source": [
    "url = \"https://docs.google.com/spreadsheets/d/1liJc0zDH5y5Aa02TnmfCvIG08pEQlv7rbi9aSswEuP0/export?format=csv&gid=577241993\"\n",
    "df = pd.read_csv(url)"
   ]
  },
  {
   "cell_type": "code",
   "execution_count": 36,
   "metadata": {},
   "outputs": [
    {
     "data": {
      "text/html": [
       "<div>\n",
       "<style scoped>\n",
       "    .dataframe tbody tr th:only-of-type {\n",
       "        vertical-align: middle;\n",
       "    }\n",
       "\n",
       "    .dataframe tbody tr th {\n",
       "        vertical-align: top;\n",
       "    }\n",
       "\n",
       "    .dataframe thead th {\n",
       "        text-align: right;\n",
       "    }\n",
       "</style>\n",
       "<table border=\"1\" class=\"dataframe\">\n",
       "  <thead>\n",
       "    <tr style=\"text-align: right;\">\n",
       "      <th></th>\n",
       "      <th>Timestamp</th>\n",
       "      <th>Class</th>\n",
       "      <th>Borough</th>\n",
       "      <th>Wake</th>\n",
       "      <th>Sleep</th>\n",
       "    </tr>\n",
       "  </thead>\n",
       "  <tbody>\n",
       "    <tr>\n",
       "      <th>0</th>\n",
       "      <td>6/30/2020 20:47:27</td>\n",
       "      <td>freshman</td>\n",
       "      <td>Bronx</td>\n",
       "      <td>10:00:00 AM</td>\n",
       "      <td>12:00:00 PM</td>\n",
       "    </tr>\n",
       "  </tbody>\n",
       "</table>\n",
       "</div>"
      ],
      "text/plain": [
       "            Timestamp     Class Borough         Wake        Sleep\n",
       "0  6/30/2020 20:47:27  freshman   Bronx  10:00:00 AM  12:00:00 PM"
      ]
     },
     "execution_count": 36,
     "metadata": {},
     "output_type": "execute_result"
    }
   ],
   "source": [
    "df.head()"
   ]
  },
  {
   "cell_type": "code",
   "execution_count": 37,
   "metadata": {},
   "outputs": [],
   "source": [
    "# Creating python lists (which are objects) of potential values\n",
    "year = ['freshman', 'sophmore', 'junior', 'senior']\n",
    "borough = ['Bronx', 'Brooklyn', 'Manhattan', 'Queens', 'Staten Island', 'Other']\n",
    "wake = [f'{hr:02}:00:00AM' for hr in range(6,12)] # setting wake ups between 6 and 11AM\n",
    "sleep = ['10:00:00PM', '11:00:00PM', '12:00:00AM', '01:00:00AM'] "
   ]
  },
  {
   "cell_type": "markdown",
   "metadata": {},
   "source": [
    "The Python standard library has a module (sub-library) called itertools that we can use to make combinations of our sample values, that we're then gonna convert into a list of lists."
   ]
  },
  {
   "cell_type": "code",
   "execution_count": 58,
   "metadata": {},
   "outputs": [],
   "source": [
    "import itertools\n",
    "\n",
    "fake_data = itertools.product(year, borough, wake, sleep)"
   ]
  },
  {
   "cell_type": "code",
   "execution_count": 59,
   "metadata": {},
   "outputs": [],
   "source": [
    "# going to turn this into a dataframe\n",
    "dfake = pd.DataFrame(data = list(fake_data), \n",
    "                     columns=['Class', 'Borough', 'Wake', 'Bed'])"
   ]
  },
  {
   "cell_type": "code",
   "execution_count": 60,
   "metadata": {},
   "outputs": [
    {
     "data": {
      "text/html": [
       "<div>\n",
       "<style scoped>\n",
       "    .dataframe tbody tr th:only-of-type {\n",
       "        vertical-align: middle;\n",
       "    }\n",
       "\n",
       "    .dataframe tbody tr th {\n",
       "        vertical-align: top;\n",
       "    }\n",
       "\n",
       "    .dataframe thead th {\n",
       "        text-align: right;\n",
       "    }\n",
       "</style>\n",
       "<table border=\"1\" class=\"dataframe\">\n",
       "  <thead>\n",
       "    <tr style=\"text-align: right;\">\n",
       "      <th></th>\n",
       "      <th>Class</th>\n",
       "      <th>Borough</th>\n",
       "      <th>Wake</th>\n",
       "      <th>Bed</th>\n",
       "    </tr>\n",
       "  </thead>\n",
       "  <tbody>\n",
       "    <tr>\n",
       "      <th>557</th>\n",
       "      <td>senior</td>\n",
       "      <td>Other</td>\n",
       "      <td>07:00:00AM</td>\n",
       "      <td>11:00:00PM</td>\n",
       "    </tr>\n",
       "    <tr>\n",
       "      <th>326</th>\n",
       "      <td>junior</td>\n",
       "      <td>Brooklyn</td>\n",
       "      <td>09:00:00AM</td>\n",
       "      <td>12:00:00AM</td>\n",
       "    </tr>\n",
       "    <tr>\n",
       "      <th>143</th>\n",
       "      <td>freshman</td>\n",
       "      <td>Other</td>\n",
       "      <td>11:00:00AM</td>\n",
       "      <td>01:00:00AM</td>\n",
       "    </tr>\n",
       "    <tr>\n",
       "      <th>209</th>\n",
       "      <td>sophmore</td>\n",
       "      <td>Manhattan</td>\n",
       "      <td>10:00:00AM</td>\n",
       "      <td>11:00:00PM</td>\n",
       "    </tr>\n",
       "    <tr>\n",
       "      <th>433</th>\n",
       "      <td>senior</td>\n",
       "      <td>Bronx</td>\n",
       "      <td>06:00:00AM</td>\n",
       "      <td>11:00:00PM</td>\n",
       "    </tr>\n",
       "  </tbody>\n",
       "</table>\n",
       "</div>"
      ],
      "text/plain": [
       "        Class    Borough        Wake         Bed\n",
       "557    senior      Other  07:00:00AM  11:00:00PM\n",
       "326    junior   Brooklyn  09:00:00AM  12:00:00AM\n",
       "143  freshman      Other  11:00:00AM  01:00:00AM\n",
       "209  sophmore  Manhattan  10:00:00AM  11:00:00PM\n",
       "433    senior      Bronx  06:00:00AM  11:00:00PM"
      ]
     },
     "execution_count": 60,
     "metadata": {},
     "output_type": "execute_result"
    }
   ],
   "source": [
    "#lets take a sample of all the combinations to get a random mix of options\n",
    "dsamp = dfake.sample(n=30)\n",
    "dsamp.head()"
   ]
  },
  {
   "cell_type": "code",
   "execution_count": 61,
   "metadata": {},
   "outputs": [],
   "source": [
    "dsamp.to_csv(\"fake_survey.csv\")"
   ]
  },
  {
   "cell_type": "code",
   "execution_count": null,
   "metadata": {},
   "outputs": [],
   "source": []
  }
 ],
 "metadata": {
  "kernelspec": {
   "display_name": "Python 3",
   "language": "python",
   "name": "python3"
  },
  "language_info": {
   "codemirror_mode": {
    "name": "ipython",
    "version": 3
   },
   "file_extension": ".py",
   "mimetype": "text/x-python",
   "name": "python",
   "nbconvert_exporter": "python",
   "pygments_lexer": "ipython3",
   "version": "3.8.3"
  }
 },
 "nbformat": 4,
 "nbformat_minor": 4
}
