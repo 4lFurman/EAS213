{
 "cells": [
  {
   "cell_type": "markdown",
   "metadata": {},
   "source": [
    "# Are any of you sleeping?\n",
    "\n",
    "Following up on yesterday's lesson, we're going to collect and analyze ourselves. \n",
    "\n",
    "If you haven't yet, please fill out this form: https://forms.gle/QDLZ2yhzQ94kTcZZ9"
   ]
  },
  {
   "cell_type": "markdown",
   "metadata": {},
   "source": [
    "## How do we store information that we might want to change? Variables!\n",
    "\n",
    "Here, we need to store the location (the url) of our data. We use a variable, which-just like in math-has a value assigned to it. "
   ]
  },
  {
   "cell_type": "code",
   "execution_count": 1,
   "metadata": {},
   "outputs": [],
   "source": [
    "# https://kanoki.org/2018/12/25/read-google-spreadsheet-data-into-pandas-dataframe/\n",
    "# fakedata = \"https://raw.githubusercontent.com/story645/EAS213/master/bootcamp/fake_survey.csv\"\n",
    "url = \"https://docs.google.com/spreadsheets/d/1liJc0zDH5y5Aa02TnmfCvIG08pEQlv7rbi9aSswEuP0/export?format=csv&gid=577241993\""
   ]
  },
  {
   "cell_type": "code",
   "execution_count": 2,
   "metadata": {},
   "outputs": [
    {
     "data": {
      "text/plain": [
       "'https://docs.google.com/spreadsheets/d/1liJc0zDH5y5Aa02TnmfCvIG08pEQlv7rbi9aSswEuP0/export?format=csv&gid=577241993'"
      ]
     },
     "execution_count": 2,
     "metadata": {},
     "output_type": "execute_result"
    }
   ],
   "source": [
    "# lets print the value stored in our variable (click on it!)\n",
    "url"
   ]
  },
  {
   "cell_type": "markdown",
   "metadata": {},
   "source": [
    "# How do we use other peoples code to get stuff done? Functions!\n",
    "\n",
    "We want to open our spreadsheet in Python, but that's a lot of code and pretty hard code at that. What we can do instead is use code somebody else wrote that already knows how to transform our url into a spreadsheet. \n",
    "\n",
    "This is analogous to math, where the function $f(x) = x^2$\n",
    "* function name: $f$\n",
    "* function arguments (input): $x$\n",
    "* function return values (output): $x^2$\n",
    "\n",
    "What are some other examples of functions?"
   ]
  },
  {
   "cell_type": "markdown",
   "metadata": {},
   "source": [
    "Here, we are going to use the pandas library (https://pandas.pydata.org/) a library is basically a collection of functions other folk wrote) to work with our spreadsheet. Can you identify the following:\n",
    "\n",
    "* function name:\n",
    "* function argument(s):\n",
    "* function return value(s): \n"
   ]
  },
  {
   "cell_type": "code",
   "execution_count": null,
   "metadata": {},
   "outputs": [],
   "source": [
    "import pandas as pd\n",
    "df = pd.read_csv(url)"
   ]
  },
  {
   "cell_type": "markdown",
   "metadata": {},
   "source": [
    "# How do we store more complicated data (like spreadsheets and not urls)? Objects!\n",
    "\n",
    "df is a special type of variable called an object. Not only does it store our spreadsheet, is also comes with it's own functions called methods. They work the same as regular functions, except they're used (called) in the format `object_name.function_name(input)`. \n",
    "\n",
    "Here we use the head method with input = 3 to see 3 rows in our spreadsheet:"
   ]
  },
  {
   "cell_type": "code",
   "execution_count": null,
   "metadata": {},
   "outputs": [],
   "source": [
    "df.head(3)"
   ]
  },
  {
   "cell_type": "markdown",
   "metadata": {},
   "source": [
    "### Practice\n",
    "What's the data for row 5?\n"
   ]
  },
  {
   "cell_type": "markdown",
   "metadata": {},
   "source": [
    "## How do find out a little bit more info about our spreadsheet? `.info` & `.describe`"
   ]
  },
  {
   "cell_type": "markdown",
   "metadata": {},
   "source": [
    "### `.info` \n",
    "`.info` tells us the datatype (is it a number? a word?) of the values in each column. This is really important when trying to figure out what calculations we can make. \n",
    "\n",
    "Here we use the `.info` method to look at our variable types"
   ]
  },
  {
   "cell_type": "code",
   "execution_count": null,
   "metadata": {},
   "outputs": [],
   "source": [
    "df.info()"
   ]
  },
  {
   "cell_type": "markdown",
   "metadata": {},
   "source": [
    "### `.describe`\n",
    "Just like in R, we have a `.describe` method that prints out our descriptive statistics:"
   ]
  },
  {
   "cell_type": "code",
   "execution_count": null,
   "metadata": {},
   "outputs": [],
   "source": [
    "df.describe()"
   ]
  },
  {
   "cell_type": "markdown",
   "metadata": {},
   "source": [
    "`.describe` defaults to computing the quantative statistics. We can include categorical data by using the `include='all'` keyword argument"
   ]
  },
  {
   "cell_type": "code",
   "execution_count": null,
   "metadata": {},
   "outputs": [],
   "source": [
    "df.describe(include='all')"
   ]
  },
  {
   "cell_type": "markdown",
   "metadata": {},
   "source": [
    "# How are y'all distributed?"
   ]
  },
  {
   "cell_type": "markdown",
   "metadata": {},
   "source": [
    "The way we select a column in python is `dataframe_name['column_name']`, whereas yesterday in R it was `class(dataframe_name$column_name)`\n",
    "\n",
    "Here, we're gonna compute & then plot how many of you are from which borough. We use `%matplotlib inline` to embed the image in our environment"
   ]
  },
  {
   "cell_type": "code",
   "execution_count": null,
   "metadata": {},
   "outputs": [],
   "source": [
    "# compute distribution by borough\n",
    "df['Borough'].value_counts()"
   ]
  },
  {
   "cell_type": "code",
   "execution_count": null,
   "metadata": {},
   "outputs": [],
   "source": [
    "%matplotlib inline\n",
    "df['Borough'].value_counts().plot.bar()"
   ]
  },
  {
   "cell_type": "markdown",
   "metadata": {},
   "source": [
    "### Lets look at multiple categories at once - groupby\n",
    "\n",
    "In pandas we can say, hey, we want to know information about two or more groups at once, and we use the groupby to do it. For example, here lets seperate our data by borough:"
   ]
  },
  {
   "cell_type": "code",
   "execution_count": null,
   "metadata": {},
   "outputs": [],
   "source": [
    "df.groupby('Borough')"
   ]
  },
  {
   "cell_type": "markdown",
   "metadata": {},
   "source": [
    "That looks like soup, so lets convert it into a more readable form by turning it into a list of the form [(Borough name, all rows (people) in that category)]"
   ]
  },
  {
   "cell_type": "code",
   "execution_count": null,
   "metadata": {},
   "outputs": [],
   "source": [
    "list(df.groupby('Borough'))"
   ]
  },
  {
   "cell_type": "code",
   "execution_count": null,
   "metadata": {},
   "outputs": [],
   "source": [
    "# we can compute something like # of people in both categories using groupby\n",
    "df.groupby(['Borough', 'Class']).count()"
   ]
  },
  {
   "cell_type": "markdown",
   "metadata": {},
   "source": [
    "#### `.unstack`\n",
    "this is a drop complicated but we want to have boroughs as rows and classes as columns so we use `.unstack` to reshape our table by moving one level of the heirarchy of rows up to a level of columns (which is why it's called  unstack)"
   ]
  },
  {
   "cell_type": "code",
   "execution_count": null,
   "metadata": {},
   "outputs": [],
   "source": [
    "dfbc = df.groupby(['Borough', 'Class']).count().unstack()\n",
    "dfbc"
   ]
  },
  {
   "cell_type": "code",
   "execution_count": null,
   "metadata": {},
   "outputs": [],
   "source": [
    "# lets look at class by borough\n",
    "dfbc['Wake'].plot.bar(stacked='True')"
   ]
  },
  {
   "cell_type": "markdown",
   "metadata": {},
   "source": [
    "The column we choose to plot doesn't really matter - verify it yourself by trying a different a different column!"
   ]
  },
  {
   "cell_type": "code",
   "execution_count": null,
   "metadata": {},
   "outputs": [],
   "source": [
    "# Sometimes it's easier to see a pattern if we flip the bar sections with the x-axis. \n",
    "# We do this using `.T`\n",
    "dfbc['Wake'].T"
   ]
  },
  {
   "cell_type": "markdown",
   "metadata": {},
   "source": [
    "The default Pandas visualization is a wrapper on matplotlib (https://matplotlib.org/) so you can tweak the figures by assigning the Axes object returned by the `.plot` function to a variable and then using the methods on that variable. "
   ]
  },
  {
   "cell_type": "code",
   "execution_count": null,
   "metadata": {},
   "outputs": [],
   "source": [
    "ax = dfbc['Wake'].T.plot.bar(stacked='True')\n",
    "ax.legend(ncol=3, loc='upper left')"
   ]
  },
  {
   "cell_type": "markdown",
   "metadata": {},
   "source": [
    "### Scavenger Hunt:\n",
    "1. What class are most of you in?\n",
    "2. What time does almost nobody go to bed?\n",
    "3. Do seniors wake up later then Sophmores?"
   ]
  },
  {
   "cell_type": "markdown",
   "metadata": {},
   "source": [
    "## Is there a correlation between wake and bed?\n",
    "\n",
    "pandas has a correlation function, `.corr` but remember our sleep times are currently strings\n",
    "\n",
    "We can select multiple columns by passing in a list of column names."
   ]
  },
  {
   "cell_type": "code",
   "execution_count": null,
   "metadata": {},
   "outputs": [],
   "source": [
    "df[['Wake', 'Bed']].corr()"
   ]
  },
  {
   "cell_type": "markdown",
   "metadata": {},
   "source": [
    "### Lets write a function to convert our \"time\" to a number:\n",
    "Facts about our number:\n",
    "* hours and minutes only, no seconds\n",
    "* it's in AM and PM form"
   ]
  },
  {
   "cell_type": "markdown",
   "metadata": {},
   "source": [
    "### How can we do different things if it's am or pm? Selection/Contol Flow!\n",
    "\n",
    "We can use `if` statements to decide to do different things depending on if it's AM or PM. We can also use elseif if we want another option and else if we want a default. \n",
    "\n",
    "We can use string methods to find out about strings. https://docs.python.org/3/library/stdtypes.html#string-methods"
   ]
  },
  {
   "cell_type": "code",
   "execution_count": null,
   "metadata": {},
   "outputs": [],
   "source": [
    "# lets write an is am check:\n",
    "test_time = \"11:00:00AM\"\n",
    "#let's use the `.endswith` method\n",
    "test_time.endswith('AM')"
   ]
  },
  {
   "cell_type": "code",
   "execution_count": null,
   "metadata": {},
   "outputs": [],
   "source": [
    "if test_time.endswith('AM'):\n",
    "    print(\"AM\")\n",
    "elif test_time.endswith('PM'):\n",
    "    print(\"PM\")\n",
    "else:\n",
    "    print('😕')"
   ]
  },
  {
   "cell_type": "code",
   "execution_count": null,
   "metadata": {},
   "outputs": [],
   "source": [
    "# let's wrap that in a function:\n",
    "def whatis(time):\n",
    "    if time.endswith('AM'):\n",
    "        print(\"AM\")\n",
    "    elif time.endswith('PM'):\n",
    "        print(\"PM\")\n",
    "    else:\n",
    "        print('😕')"
   ]
  },
  {
   "cell_type": "code",
   "execution_count": null,
   "metadata": {},
   "outputs": [],
   "source": [
    "whatis(test_time)"
   ]
  },
  {
   "cell_type": "code",
   "execution_count": null,
   "metadata": {},
   "outputs": [],
   "source": [
    "whatis(\"hannah\")"
   ]
  },
  {
   "cell_type": "markdown",
   "metadata": {},
   "source": [
    "### How do we split our time into hours/minutes/etc? `.split`"
   ]
  },
  {
   "cell_type": "code",
   "execution_count": null,
   "metadata": {},
   "outputs": [],
   "source": [
    "test_time.split(\":\")"
   ]
  },
  {
   "cell_type": "markdown",
   "metadata": {},
   "source": [
    "Python allows whats called iterative assignment"
   ]
  },
  {
   "cell_type": "code",
   "execution_count": null,
   "metadata": {},
   "outputs": [],
   "source": [
    "hour, second, local = test_time.split(\":\")\n",
    "print(hour, type(hour))"
   ]
  },
  {
   "cell_type": "markdown",
   "metadata": {},
   "source": [
    "### Converting values is called casting, and we can cast to a number by using a casting function"
   ]
  },
  {
   "cell_type": "code",
   "execution_count": null,
   "metadata": {},
   "outputs": [],
   "source": [
    "h = int(hour)\n",
    "print(h, type(h))"
   ]
  },
  {
   "cell_type": "markdown",
   "metadata": {},
   "source": [
    "###  Lets put it all together to write a `to24` function: \n",
    "* input: a time such as 11:00:00PM\n",
    "* output: a 4 digit number representing the 24hr representation: 2300"
   ]
  },
  {
   "cell_type": "code",
   "execution_count": null,
   "metadata": {},
   "outputs": [],
   "source": [
    "def to24(time):\n",
    "    \n",
    "    return time"
   ]
  },
  {
   "cell_type": "code",
   "execution_count": null,
   "metadata": {},
   "outputs": [],
   "source": [
    "# lets test our function\n",
    "df['Wake24'] = df['Wake'].apply(to24)\n",
    "df['Bed24'] = df['Bed'].apply(to24)\n",
    "df[['Wake24', 'Bed24']].head()"
   ]
  },
  {
   "cell_type": "markdown",
   "metadata": {},
   "source": [
    "### Compute the correlation again\n",
    "Scroll up and find the code for computing the correlation, then please report out the correlation between bed time and waking time. \n"
   ]
  },
  {
   "cell_type": "markdown",
   "metadata": {},
   "source": [
    "### How do I get data for just one borough? Selection/Indexing\n",
    "\n",
    "in Pandas, we can do what's called boolean indexing to get all rows that meet a condition:\n",
    "\n",
    "![](../2016/figs/masking.png)"
   ]
  },
  {
   "cell_type": "code",
   "execution_count": null,
   "metadata": {},
   "outputs": [],
   "source": [
    "# our condition is everywhere `borough` is queens:\n",
    "df['Borough'].str.match('Queens')"
   ]
  },
  {
   "cell_type": "code",
   "execution_count": null,
   "metadata": {},
   "outputs": [],
   "source": [
    "# And we put that condition inside the dataframe to get all rows that meet that condition\n",
    "dsubset = df[df['Borough'].str.match('Staten Island')]\n",
    "dsubset.head()"
   ]
  },
  {
   "cell_type": "code",
   "execution_count": null,
   "metadata": {},
   "outputs": [],
   "source": [
    "# We can combine conditions\n",
    "dsubsubset = df[df['Borough'].str.match('Staten Island') & df['Class'].str.match('freshman')]\n",
    "dsubsubset.head()"
   ]
  },
  {
   "cell_type": "markdown",
   "metadata": {},
   "source": [
    "# Break Out: Tell me about a Borough\n",
    "Note: this might change day of if the data isn't there for this/ how many of y'all there are.\n",
    "\n",
    "1. Each group is assigned to a borough: Bronx, Queens, Brooklyn, Manhatten, Staten Island/Other \n",
    "1. Develop a function to compute hours of sleep\n",
    "2. Compute hours of sleep and store it in a new columns called `sleep`\n",
    "2. Create a mini report on these variables for your borough:\n",
    "    * charts, correlations, tell me a story about sleep and grades in your Borough\n",
    "    * is anybody in your group in your subset? how can you tell?\n",
    "3. Create a list of other information you'd like to collect\n",
    "4. Skip ahead and make a map to compare information\n",
    "6. EC: Post it to instagram & tag @matplotlib 😉"
   ]
  },
  {
   "cell_type": "markdown",
   "metadata": {},
   "source": [
    "# Let's map it\n",
    "\n",
    "We have geo data, so we can make maps! We'll be using https://geopandas.org because it works almost exactly like Pandas (which is what we were using for spreadsheets), with added support for geographic data. It also works inside ArcGIS and QGIS if you want to automate generating visualizations."
   ]
  },
  {
   "cell_type": "code",
   "execution_count": null,
   "metadata": {},
   "outputs": [],
   "source": [
    "# let's load our sample dataset\n",
    "import geopandas as gpd\n",
    "gdf = gpd.read_file(gpd.datasets.get_path('nybb'))"
   ]
  },
  {
   "cell_type": "code",
   "execution_count": null,
   "metadata": {},
   "outputs": [],
   "source": [
    "gdf.head()"
   ]
  },
  {
   "cell_type": "code",
   "execution_count": null,
   "metadata": {},
   "outputs": [],
   "source": [
    "# we can directly plot the map and identify the boro & make the map big\n",
    "gdf.plot('BoroName', legend=True, figsize=(8,8))"
   ]
  },
  {
   "cell_type": "markdown",
   "metadata": {},
   "source": [
    "## How do we combine our data with maps? Merge/Join\n",
    "\n",
    "This gets wildely out of scope of this workshop, you can read more at https://geopandas.org/mergingdata.html and https://pandas.pydata.org/pandas-docs/stable/user_guide/merging.html"
   ]
  },
  {
   "cell_type": "code",
   "execution_count": null,
   "metadata": {},
   "outputs": [],
   "source": [
    "# lets look at our data\n",
    "gdf.head()"
   ]
  },
  {
   "cell_type": "code",
   "execution_count": null,
   "metadata": {},
   "outputs": [],
   "source": [
    "df.head()"
   ]
  },
  {
   "cell_type": "markdown",
   "metadata": {},
   "source": [
    "Let's aggregate our data such that we have one value to plot per geographic unit & we'll convert into a table (`.unstack`) and make sure it's headers are lined up `reset_index`"
   ]
  },
  {
   "cell_type": "code",
   "execution_count": null,
   "metadata": {},
   "outputs": [],
   "source": [
    "pop = df.groupby(['Borough']).count()['Wake'].to_frame().reset_index()\n",
    "pop"
   ]
  },
  {
   "cell_type": "markdown",
   "metadata": {},
   "source": [
    "We have boro in common so we can join on that, we use the `.join` from the geopandas dataframe so that what we get back will still be a geopandas dataframe"
   ]
  },
  {
   "cell_type": "code",
   "execution_count": null,
   "metadata": {},
   "outputs": [],
   "source": [
    "geodf = gdf.merge(pop, right_on='Borough', left_on='BoroName')\n",
    "geodf.head()"
   ]
  },
  {
   "cell_type": "code",
   "execution_count": null,
   "metadata": {},
   "outputs": [],
   "source": [
    "# our data is categorical, so let's plot by # of folks in each boro\n",
    "geodf.plot('Wake', legend=True)"
   ]
  },
  {
   "cell_type": "markdown",
   "metadata": {},
   "source": [
    "# Try out one of the other variables "
   ]
  },
  {
   "cell_type": "code",
   "execution_count": null,
   "metadata": {},
   "outputs": [],
   "source": []
  }
 ],
 "metadata": {
  "kernelspec": {
   "display_name": "Python 3",
   "language": "python",
   "name": "python3"
  },
  "language_info": {
   "codemirror_mode": {
    "name": "ipython",
    "version": 3
   },
   "file_extension": ".py",
   "mimetype": "text/x-python",
   "name": "python",
   "nbconvert_exporter": "python",
   "pygments_lexer": "ipython3",
   "version": "3.8.3"
  }
 },
 "nbformat": 4,
 "nbformat_minor": 4
}
