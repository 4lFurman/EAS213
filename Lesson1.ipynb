{
 "cells": [
  {
   "cell_type": "markdown",
   "metadata": {
    "slideshow": {
     "slide_type": "slide"
    }
   },
   "source": [
    "Developing a classifier:\n",
    "========================\n",
    "* Review of image as array\n",
    "* Computing statistics on selected regions\n",
    "* Filtering data via Boolean masking\n",
    "* Using statistics to build an NDVI classifier\n",
    "* Creating classifiers for water, building, clouds\n",
    "\n"
   ]
  },
  {
   "cell_type": "code",
   "execution_count": null,
   "metadata": {
    "collapsed": false,
    "slideshow": {
     "slide_type": "slide"
    }
   },
   "outputs": [],
   "source": [
    "#read in data\n",
    "import landsat as lf\n",
    "rgbpath = \"data/landsat_RGBN.txt\" \n",
    "rgbn = lf.landsat_read(rgbpath)"
   ]
  },
  {
   "cell_type": "code",
   "execution_count": null,
   "metadata": {
    "collapsed": false,
    "scrolled": false,
    "slideshow": {
     "slide_type": "slide"
    }
   },
   "outputs": [],
   "source": [
    "#find the clearest image\n",
    "%matplotlib notebook\n",
    "rgb_array = lf.rgb_display(rgbn[...,:3])"
   ]
  },
  {
   "cell_type": "markdown",
   "metadata": {
    "slideshow": {
     "slide_type": "slide"
    }
   },
   "source": [
    "How do we unpack data?\n",
    "============================================\n",
    "![axis](figs/axis.png)"
   ]
  },
  {
   "cell_type": "code",
   "execution_count": null,
   "metadata": {
    "collapsed": true,
    "slideshow": {
     "slide_type": "slide"
    }
   },
   "outputs": [],
   "source": [
    "#rgb_array has three axis: [row, col, channel] axis=[0, 1, 2]\n",
    "#unpack red, green, blue\n",
    "red = rgb_array[...,0]\n",
    "green = rgb_array[...,1]\n",
    "blue = rgb_array[...,2]"
   ]
  },
  {
   "cell_type": "code",
   "execution_count": null,
   "metadata": {
    "collapsed": false,
    "scrolled": true,
    "slideshow": {
     "slide_type": "slide"
    }
   },
   "outputs": [],
   "source": [
    "#plot each of the individual channels and compare to image\n",
    "import matplotlib.pyplot as plt\n",
    "fig, axes = plt.subplots(2,2, sharex=True, sharey=True)\n",
    "rgb = axes[0,0].imshow(rgb_array)\n",
    "r = axes[0,1].imshow(red, cmap=\"Reds\", vmin=0, vmax=1)\n",
    "fig.colorbar(r, ax=axes[0,1])\n",
    "g = axes[1,0].imshow(green, cmap=\"Greens\", vmin=0, vmax=1)\n",
    "fig.colorbar(g, ax=axes[1,0])\n",
    "b = axes[1,1].imshow(blue, cmap=\"Blues\", vmin=0, vmax=1)\n",
    "fig.colorbar(b, ax=axes[1,1])\n",
    "for ax in axes.flatten():\n",
    "    ax.set_adjustable('box-forced')\n",
    "#to do: explore the following images and see if you can find links\n",
    "#between the raw data and each of the color bands"
   ]
  },
  {
   "cell_type": "markdown",
   "metadata": {
    "slideshow": {
     "slide_type": "slide"
    }
   },
   "source": [
    "How do we look at the distribution of the data?\n",
    "===============================================\n"
   ]
  },
  {
   "cell_type": "code",
   "execution_count": null,
   "metadata": {
    "collapsed": false,
    "slideshow": {
     "slide_type": "slide"
    }
   },
   "outputs": [],
   "source": [
    "#plot histogram of red channel\n",
    "fig = plt.figure()\n",
    "ax = fig.add_subplot(1,1,1)\n",
    "ax.hist(red.flatten(), color=\"red\")\n",
    "ax.set_ylabel(\"# of observations\")\n",
    "ax.set_xlabel(\"temperature bins\")\n",
    "fig.canvas.draw()"
   ]
  },
  {
   "cell_type": "code",
   "execution_count": null,
   "metadata": {
    "collapsed": false,
    "slideshow": {
     "slide_type": "slide"
    }
   },
   "outputs": [],
   "source": [
    "# add in blue channel\n",
    "%matplotlib inline\n",
    "fig = plt.figure()\n",
    "ax = fig.add_subplot(1,1,1)\n",
    "ax.hist(red.flatten(), color=\"red\", alpha=0.3)\n",
    "ax.hist(blue.flatten(), color='blue', alpha=0.3)\n",
    "ax.set_ylabel(\"# of observations\")\n",
    "ax.set_xlabel(\"temperature bins\")\n",
    "fig.canvas.draw()"
   ]
  },
  {
   "cell_type": "markdown",
   "metadata": {
    "collapsed": true,
    "slideshow": {
     "slide_type": "slide"
    }
   },
   "source": [
    "ToDo:\n",
    "====\n",
    "1. plot histograms for green and blue channels\n",
    "2. plot histograms for raw (uncontrasted) data\n"
   ]
  },
  {
   "cell_type": "markdown",
   "metadata": {
    "slideshow": {
     "slide_type": "slide"
    }
   },
   "source": [
    "Histogram => pdf\n",
    "=========================\n",
    "\n",
    "![img](figs/distro.jpg)\n",
    "src: [NausicaaDistribution](https://www.etsy.com/listing/71739287/collection-of-10-distribution-plushies)\n",
    "\n",
    "pdfs (probability distribution functions) are a representation of the chance (probability) of an observation occurring"
   ]
  },
  {
   "cell_type": "code",
   "execution_count": null,
   "metadata": {
    "collapsed": false,
    "slideshow": {
     "slide_type": "slide"
    }
   },
   "outputs": [],
   "source": [
    "import scipy.stats as st\n",
    "import numpy as np\n",
    "\n",
    "#estimate the P function of the distribution\n",
    "kernal = st.gaussian_kde(red.flatten())\n",
    "# color values range between 0 & 1 \n",
    "\n",
    "x = np.linspace(0,1,100) #the range of potential color values\n",
    "y = kernal(x) #probability of each x happening"
   ]
  },
  {
   "cell_type": "code",
   "execution_count": null,
   "metadata": {
    "collapsed": false,
    "slideshow": {
     "slide_type": "slide"
    }
   },
   "outputs": [],
   "source": [
    "#plot histogram and pdf of red channel\n",
    "%matplotlib inline\n",
    "fig = plt.figure()\n",
    "ax = fig.add_subplot(1,1,1)\n",
    "ax.hist(red.flatten(), color=\"red\",normed=True, alpha=0.3, label=\"Hist(r)\")\n",
    "ax.plot(x, y, color=\"red\", label=\"$P(r)$\")\n",
    "ax.set_ylabel(\"# of observations\")\n",
    "ax.set_xlabel(\"temperature bins\")\n",
    "ax.legend()\n",
    "fig.canvas.draw()"
   ]
  },
  {
   "cell_type": "markdown",
   "metadata": {
    "slideshow": {
     "slide_type": "slide"
    }
   },
   "source": [
    "ToDo\n",
    "=====\n",
    "1. plot pdfs for green and blue channels\n",
    "2. plot pfds for raw (uncontrasted) data"
   ]
  }
 ],
 "metadata": {
  "celltoolbar": "Slideshow",
  "kernelspec": {
   "display_name": "Python 3",
   "language": "python",
   "name": "python3"
  },
  "language_info": {
   "codemirror_mode": {
    "name": "ipython",
    "version": 3
   },
   "file_extension": ".py",
   "mimetype": "text/x-python",
   "name": "python",
   "nbconvert_exporter": "python",
   "pygments_lexer": "ipython3",
   "version": "3.5.2"
  }
 },
 "nbformat": 4,
 "nbformat_minor": 0
}
