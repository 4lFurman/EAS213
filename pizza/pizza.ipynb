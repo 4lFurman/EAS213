{
 "cells": [
  {
   "cell_type": "markdown",
   "metadata": {
    "slideshow": {
     "slide_type": "slide"
    }
   },
   "source": [
    "# "
   ]
  },
  {
   "cell_type": "markdown",
   "metadata": {
    "slideshow": {
     "slide_type": "slide"
    }
   },
   "source": [
    "![feed me](pizza.gif)"
   ]
  },
  {
   "cell_type": "code",
   "execution_count": null,
   "metadata": {
    "slideshow": {
     "slide_type": "slide"
    }
   },
   "outputs": [],
   "source": [
    "# How many people? use the input function!\n",
    "input(\"How many RSVPs? \") "
   ]
  },
  {
   "cell_type": "code",
   "execution_count": null,
   "metadata": {
    "slideshow": {
     "slide_type": "slide"
    }
   },
   "outputs": [],
   "source": [
    "#How do we store? Variables!\n",
    "people = input(\"How many RSVPs? \")"
   ]
  },
  {
   "cell_type": "code",
   "execution_count": null,
   "metadata": {
    "slideshow": {
     "slide_type": "slide"
    }
   },
   "outputs": [],
   "source": [
    "# How do we see what's stored?\n",
    "print(people)"
   ]
  },
  {
   "cell_type": "code",
   "execution_count": null,
   "metadata": {
    "slideshow": {
     "slide_type": "slide"
    }
   },
   "outputs": [],
   "source": [
    "#let's convert people to a number\n",
    "people = int(people)"
   ]
  },
  {
   "cell_type": "code",
   "execution_count": null,
   "metadata": {
    "slideshow": {
     "slide_type": "slide"
    }
   },
   "outputs": [],
   "source": [
    "# Does this always work?\n",
    "people = input(\"How many RSVPs? \")\n",
    "people = int(people)\n"
   ]
  },
  {
   "cell_type": "markdown",
   "metadata": {
    "slideshow": {
     "slide_type": "slide"
    }
   },
   "source": [
    "| name| description| example|\n",
    "|-----|------------|--------|\n",
    "| integer | whole numbers | -1, 3, 87|\n",
    "| float | decimal numbers | .02, 2.3, -12.344|\n",
    "| string | text | \"Hello world\", \"hi\", \"1782\"|\n",
    "| list | collection of like things |[1, 3, 9], [\"ab\", \"cd\", ef\"]|\n",
    "| tuple| list with no add/remove |(1, 3, 9), (\"ab\", \"cd\", \"ef\")|\n",
    "| dictionary | key, value store | {\"Bob\": '891-829-2781', \"Dot\":'289-289-1892'}|\n",
    "\n"
   ]
  },
  {
   "cell_type": "code",
   "execution_count": null,
   "metadata": {
    "slideshow": {
     "slide_type": "slide"
    }
   },
   "outputs": [],
   "source": [
    "# How do we catch that it's not a number? Selection! \n",
    "if not people.isdigit(): \n",
    "    people = 0"
   ]
  },
  {
   "cell_type": "markdown",
   "metadata": {
    "slideshow": {
     "slide_type": "subslide"
    }
   },
   "source": [
    "`.isdigit` comes from the python string library\n",
    "\n",
    " https://docs.python.org/3.6/library/stdtypes.html?highlight=isdigit#string-methods"
   ]
  },
  {
   "cell_type": "code",
   "execution_count": null,
   "metadata": {
    "collapsed": true,
    "slideshow": {
     "slide_type": "slide"
    }
   },
   "outputs": [],
   "source": [
    "# let's try this again\n",
    "people = input(\"How many RSVPs? \")\n",
    "if not people.isdigit():\n",
    "    people = 0\n",
    "people = int(people)"
   ]
  },
  {
   "cell_type": "code",
   "execution_count": null,
   "metadata": {
    "slideshow": {
     "slide_type": "slide"
    }
   },
   "outputs": [],
   "source": [
    "# lets print pretty\n",
    "print(f\"About {people} 👪 will show up\")"
   ]
  },
  {
   "cell_type": "markdown",
   "metadata": {
    "slideshow": {
     "slide_type": "subslide"
    }
   },
   "source": [
    "More info, but not quite updated to the newest python standard\n",
    "\n",
    "https://docs.python.org/3/library/string.html#format-string-syntax"
   ]
  },
  {
   "cell_type": "code",
   "execution_count": null,
   "metadata": {
    "slideshow": {
     "slide_type": "slide"
    }
   },
   "outputs": [],
   "source": [
    "# so now what? math!\n",
    "slices = people * 2.5\n",
    "pies = slices / 8 "
   ]
  },
  {
   "cell_type": "code",
   "execution_count": null,
   "metadata": {
    "slideshow": {
     "slide_type": "slide"
    }
   },
   "outputs": [],
   "source": [
    "# lets print that pretty! (NOTE: Python 3.6 specific)\n",
    "print(f\"About {pies:.2f} pizzas🍕\")"
   ]
  },
  {
   "cell_type": "code",
   "execution_count": null,
   "metadata": {
    "slideshow": {
     "slide_type": "slide"
    }
   },
   "outputs": [],
   "source": [
    "# 1.88? let's use math to get a nice round number:\n",
    "import math\n",
    "pies = math.ceil(pies) # ceiling rounds up\n",
    "print(f\"About {pies:.2f} pizzas🍕\")"
   ]
  },
  {
   "cell_type": "markdown",
   "metadata": {
    "slideshow": {
     "slide_type": "subslide"
    }
   },
   "source": [
    "https://docs.python.org/3.6/library/math.html"
   ]
  },
  {
   "cell_type": "code",
   "execution_count": null,
   "metadata": {
    "collapsed": true,
    "slideshow": {
     "slide_type": "slide"
    }
   },
   "outputs": [],
   "source": [
    "# What types? \n",
    "meat = math.ceil(.15*pies)\n",
    "veggie = math.ceil(.2*pies)\n",
    "cheese = pies - meat - veggie"
   ]
  },
  {
   "cell_type": "code",
   "execution_count": null,
   "metadata": {
    "slideshow": {
     "slide_type": "slide"
    }
   },
   "outputs": [],
   "source": [
    "# lets make sure we have at least 1 cheese pie\n",
    "if cheese < 1:\n",
    "    cheese = 1"
   ]
  },
  {
   "cell_type": "markdown",
   "metadata": {
    "slideshow": {
     "slide_type": "slide"
    }
   },
   "source": [
    "Challenge\n",
    "=====\n",
    "Add two more toppings of your choice"
   ]
  },
  {
   "cell_type": "code",
   "execution_count": null,
   "metadata": {
    "slideshow": {
     "slide_type": "slide"
    }
   },
   "outputs": [],
   "source": [
    "# lets print...\n",
    "print(f\"{cheese} 🧀\")\n",
    "print(f\"{meat} 🍖\")\n",
    "print(f\"{veggie} 🍅\")\n",
    "print(f\"🍕  {(cheese+meat+veggie)} total\")\n"
   ]
  },
  {
   "cell_type": "code",
   "execution_count": null,
   "metadata": {
    "slideshow": {
     "slide_type": "slide"
    }
   },
   "outputs": [],
   "source": [
    "# can we store this information in some form? \n",
    "total_pies = {\"cheese\": cheese, \"meat\": meat, \"veggie\":veggie}\n",
    "total_pies"
   ]
  },
  {
   "cell_type": "code",
   "execution_count": null,
   "metadata": {
    "slideshow": {
     "slide_type": "slide"
    }
   },
   "outputs": [],
   "source": [
    "# How do we access the information? \n",
    "print(total_pies[\"meat\"])"
   ]
  },
  {
   "cell_type": "code",
   "execution_count": null,
   "metadata": {
    "collapsed": true,
    "slideshow": {
     "slide_type": "slide"
    }
   },
   "outputs": [],
   "source": [
    "# add another topping?\n",
    "total_pies[\"mushroom\"] = 2"
   ]
  },
  {
   "cell_type": "code",
   "execution_count": null,
   "metadata": {
    "slideshow": {
     "slide_type": "slide"
    }
   },
   "outputs": [],
   "source": [
    "# access all, but one at a time? loops!\n",
    "for topping in total_pies:\n",
    "    print(f\"{total_pies[topping]} {topping}\")"
   ]
  },
  {
   "cell_type": "markdown",
   "metadata": {
    "slideshow": {
     "slide_type": "slide"
    }
   },
   "source": [
    "# Challenge\n",
    "1. Add another topping to total_pies\n",
    "2. Print out the whole set individually"
   ]
  },
  {
   "cell_type": "markdown",
   "metadata": {
    "slideshow": {
     "slide_type": "slide"
    }
   },
   "source": [
    "![soda](soda.gif)"
   ]
  },
  {
   "cell_type": "code",
   "execution_count": null,
   "metadata": {
    "collapsed": true,
    "slideshow": {
     "slide_type": "slide"
    }
   },
   "outputs": [],
   "source": [
    "cups = 2 * people\n",
    "CUPS_PER_BOTTLE = 67 / 8  # 67 ounces in a 2-liter bottle     \n",
    "total_cups = cups/CUPS_PER_BOTTLE"
   ]
  },
  {
   "cell_type": "code",
   "execution_count": null,
   "metadata": {
    "slideshow": {
     "slide_type": "slide"
    }
   },
   "outputs": [],
   "source": [
    "print(cups_per_bottle, total_cups)"
   ]
  },
  {
   "cell_type": "code",
   "execution_count": null,
   "metadata": {
    "slideshow": {
     "slide_type": "slide"
    }
   },
   "outputs": [],
   "source": [
    "# how many bottles should we buy?\n",
    "cokes = .20*total_cups\n",
    "print(cokes)"
   ]
  },
  {
   "cell_type": "code",
   "execution_count": null,
   "metadata": {
    "slideshow": {
     "slide_type": "slide"
    }
   },
   "outputs": [],
   "source": [
    "#rule for translating that to bottles?\n",
    "if (cokes - math.floor(cokes)) < .25:\n",
    "    cokes = math.floor(cokes) # floor always rounds down\n",
    "else:\n",
    "    cokes = math.ceil(cokes)"
   ]
  },
  {
   "cell_type": "code",
   "execution_count": null,
   "metadata": {
    "slideshow": {
     "slide_type": "slide"
    }
   },
   "outputs": [],
   "source": [
    "print(cokes)"
   ]
  },
  {
   "cell_type": "code",
   "execution_count": null,
   "metadata": {
    "slideshow": {
     "slide_type": "slide"
    }
   },
   "outputs": [],
   "source": [
    "# how do we make this reusable? functions!\n",
    "def number_bottles(bottle):\n",
    "    if (bottle - math.floor(bottle)) < .25:\n",
    "        bottles = math.floor(bottle)\n",
    "    else:\n",
    "        bottles = math.ceil(bottle)\n",
    "    \n",
    "    if bottles<1:\n",
    "        bottles = 1\n",
    "        \n",
    "    return bottles"
   ]
  },
  {
   "cell_type": "code",
   "execution_count": null,
   "metadata": {
    "slideshow": {
     "slide_type": "slide"
    }
   },
   "outputs": [],
   "source": [
    "cokes = number_bottles(.2*total_cups)\n",
    "print(cokes)"
   ]
  },
  {
   "cell_type": "code",
   "execution_count": null,
   "metadata": {
    "collapsed": true,
    "slideshow": {
     "slide_type": "slide"
    }
   },
   "outputs": [],
   "source": [
    "# apply it again?\n",
    "diet_cokes = number_bottles(.15 * total_cups)\n",
    "sprites = number_bottles(.10 * total_cups)"
   ]
  },
  {
   "cell_type": "code",
   "execution_count": null,
   "metadata": {
    "slideshow": {
     "slide_type": "slide"
    }
   },
   "outputs": [],
   "source": [
    "print(f\" {cokes} cokes (2 liter)\")\n",
    "print(f\" {diet_cokes} diet cokes (2 liter)\")\n",
    "print(f\" {sprites} sprites (2 liter)\")"
   ]
  },
  {
   "cell_type": "markdown",
   "metadata": {
    "slideshow": {
     "slide_type": "slide"
    }
   },
   "source": [
    "# Challenge\n",
    "Add another drink"
   ]
  },
  {
   "cell_type": "code",
   "execution_count": null,
   "metadata": {
    "slideshow": {
     "slide_type": "slide"
    }
   },
   "outputs": [],
   "source": [
    "import math\n",
    "\n",
    "people = input(\"How many RSVPs? \")\n",
    "if not people.isdigit():\n",
    "    people = 0\n",
    "people = int(people)\n",
    "print(f\"About {people} 👪 will show up\")\n",
    "\n",
    "slices = people * 2.5\n",
    "pies = math.ceil(slices/8)\n",
    "print(f\"About {pies:.2f} pizzas🍕\")\n",
    "\n",
    "# What types? \n",
    "meat = math.ceil(.15*pies)\n",
    "veggie = math.ceil(.2*pies)\n",
    "cheese = pies - meat - veggie\n",
    "\n",
    "total_pies = {\"cheese\": cheese, \"meat\": meat, \"veggie\":veggie}\n",
    "for topping in total_pies:\n",
    "    print(f\"{total_pies[topping]} {topping}\")\n",
    "    \n",
    "cups = 2 * people\n",
    "CUPS_PER_BOTTLE = 67 / 8    \n",
    "total_cups = cups/CUPS_PER_BOTTLE\n",
    "\n",
    "cokes = number_bottles(.2*total_cups)\n",
    "diet_cokes = number_bottles(.15*total_cups)\n",
    "sprites = number_bottles(.10 * total_cups)\n",
    "\n",
    "drinks = {\"coke\":cokes, \"diet_coke\": diet_cokes, \"sprite\":sprites}\n",
    "for drink in drinks:\n",
    "    print(f\"{drinks[drink]} {drink} (2 liter)\")"
   ]
  },
  {
   "cell_type": "code",
   "execution_count": null,
   "metadata": {
    "collapsed": true
   },
   "outputs": [],
   "source": []
  }
 ],
 "metadata": {
  "celltoolbar": "Slideshow",
  "kernelspec": {
   "display_name": "Python 3",
   "language": "python",
   "name": "python3"
  },
  "language_info": {
   "codemirror_mode": {
    "name": "ipython",
    "version": 3
   },
   "file_extension": ".py",
   "mimetype": "text/x-python",
   "name": "python",
   "nbconvert_exporter": "python",
   "pygments_lexer": "ipython3",
   "version": "3.6.1"
  }
 },
 "nbformat": 4,
 "nbformat_minor": 2
}
