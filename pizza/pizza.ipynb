{
 "cells": [
  {
   "cell_type": "markdown",
   "metadata": {
    "slideshow": {
     "slide_type": "slide"
    }
   },
   "source": [
    "# http://bit.ly/pizzapy\n",
    "# User: TCGuest00\n",
    "# Pass: ccny2017"
   ]
  },
  {
   "cell_type": "markdown",
   "metadata": {
    "slideshow": {
     "slide_type": "slide"
    }
   },
   "source": [
    "![feed me](pizza.gif)"
   ]
  },
  {
   "cell_type": "code",
   "execution_count": 1,
   "metadata": {
    "slideshow": {
     "slide_type": "slide"
    }
   },
   "outputs": [
    {
     "name": "stdout",
     "output_type": "stream",
     "text": [
      "How many RSVPs? 21\n"
     ]
    },
    {
     "data": {
      "text/plain": [
       "'21'"
      ]
     },
     "execution_count": 1,
     "metadata": {},
     "output_type": "execute_result"
    }
   ],
   "source": [
    "# How many people? use the input function!\n",
    "input(\"How many RSVPs? \") "
   ]
  },
  {
   "cell_type": "code",
   "execution_count": 6,
   "metadata": {
    "slideshow": {
     "slide_type": "slide"
    }
   },
   "outputs": [
    {
     "name": "stdout",
     "output_type": "stream",
     "text": [
      "21\n",
      "Hello\n"
     ]
    }
   ],
   "source": [
    "x = 21\n",
    "print(x)\n",
    "x = \"Hello\"\n",
    "print(x)"
   ]
  },
  {
   "cell_type": "code",
   "execution_count": 7,
   "metadata": {
    "slideshow": {
     "slide_type": "slide"
    }
   },
   "outputs": [
    {
     "name": "stdout",
     "output_type": "stream",
     "text": [
      "How many RSVPs? 21\n"
     ]
    }
   ],
   "source": [
    "#How do we store? Variables!\n",
    "people = input(\"How many RSVPs? \")"
   ]
  },
  {
   "cell_type": "code",
   "execution_count": 12,
   "metadata": {
    "slideshow": {
     "slide_type": "slide"
    }
   },
   "outputs": [
    {
     "name": "stdout",
     "output_type": "stream",
     "text": [
      "21\n"
     ]
    },
    {
     "ename": "TypeError",
     "evalue": "must be str, not int",
     "output_type": "error",
     "traceback": [
      "\u001b[0;31m---------------------------------------------------------------------------\u001b[0m",
      "\u001b[0;31mTypeError\u001b[0m                                 Traceback (most recent call last)",
      "\u001b[0;32m<ipython-input-12-86d04aa2123e>\u001b[0m in \u001b[0;36m<module>\u001b[0;34m()\u001b[0m\n\u001b[1;32m      1\u001b[0m \u001b[0;31m# How do we see what's stored?\u001b[0m\u001b[0;34m\u001b[0m\u001b[0;34m\u001b[0m\u001b[0m\n\u001b[1;32m      2\u001b[0m \u001b[0mprint\u001b[0m\u001b[0;34m(\u001b[0m\u001b[0mpeople\u001b[0m\u001b[0;34m)\u001b[0m\u001b[0;34m\u001b[0m\u001b[0m\n\u001b[0;32m----> 3\u001b[0;31m \u001b[0mpeople\u001b[0m \u001b[0;34m+\u001b[0m \u001b[0;36m5\u001b[0m\u001b[0;34m\u001b[0m\u001b[0m\n\u001b[0m",
      "\u001b[0;31mTypeError\u001b[0m: must be str, not int"
     ]
    }
   ],
   "source": [
    "# How do we see what's stored?\n",
    "print(people)\n",
    "people + 5"
   ]
  },
  {
   "cell_type": "code",
   "execution_count": 13,
   "metadata": {
    "slideshow": {
     "slide_type": "slide"
    }
   },
   "outputs": [],
   "source": [
    "#let's convert people to a number\n",
    "people = int(people)"
   ]
  },
  {
   "cell_type": "code",
   "execution_count": 14,
   "metadata": {
    "slideshow": {
     "slide_type": "slide"
    }
   },
   "outputs": [
    {
     "name": "stdout",
     "output_type": "stream",
     "text": [
      "How many RSVPs? a lot\n"
     ]
    },
    {
     "ename": "ValueError",
     "evalue": "invalid literal for int() with base 10: 'a lot'",
     "output_type": "error",
     "traceback": [
      "\u001b[0;31m---------------------------------------------------------------------------\u001b[0m",
      "\u001b[0;31mValueError\u001b[0m                                Traceback (most recent call last)",
      "\u001b[0;32m<ipython-input-14-19b062625b01>\u001b[0m in \u001b[0;36m<module>\u001b[0;34m()\u001b[0m\n\u001b[1;32m      1\u001b[0m \u001b[0;31m# Does this always work?\u001b[0m\u001b[0;34m\u001b[0m\u001b[0;34m\u001b[0m\u001b[0m\n\u001b[1;32m      2\u001b[0m \u001b[0mpeople\u001b[0m \u001b[0;34m=\u001b[0m \u001b[0minput\u001b[0m\u001b[0;34m(\u001b[0m\u001b[0;34m\"How many RSVPs? \"\u001b[0m\u001b[0;34m)\u001b[0m\u001b[0;34m\u001b[0m\u001b[0m\n\u001b[0;32m----> 3\u001b[0;31m \u001b[0mpeople\u001b[0m \u001b[0;34m=\u001b[0m \u001b[0mint\u001b[0m\u001b[0;34m(\u001b[0m\u001b[0mpeople\u001b[0m\u001b[0;34m)\u001b[0m\u001b[0;34m\u001b[0m\u001b[0m\n\u001b[0m",
      "\u001b[0;31mValueError\u001b[0m: invalid literal for int() with base 10: 'a lot'"
     ]
    }
   ],
   "source": [
    "# Does this always work?\n",
    "people = input(\"How many RSVPs? \")\n",
    "people = int(people)"
   ]
  },
  {
   "cell_type": "markdown",
   "metadata": {
    "slideshow": {
     "slide_type": "slide"
    }
   },
   "source": [
    "| name| description| example|\n",
    "|-----|------------|--------|\n",
    "| integer | whole numbers | -1, 3, 87|\n",
    "| float | decimal numbers | .02, 2.3, -12.344|\n",
    "| string | text | \"Hello world\", \"hi\", \"1782\"|\n",
    "| list | collection of things |[1, 3, 9], [\"ab\", \"cd\", ef\"]|\n",
    "| tuple| list with no add/remove |(1, 3, 9), (\"ab\", \"cd\", \"ef\")|\n",
    "| dictionary | key, value store | {\"Bob\": '891-829-2781', \"Dot\":'289-289-1892'}|\n",
    "\n"
   ]
  },
  {
   "cell_type": "code",
   "execution_count": 15,
   "metadata": {
    "slideshow": {
     "slide_type": "slide"
    }
   },
   "outputs": [],
   "source": [
    "# How do we catch that it's not a number? Selection! \n",
    "if not people.isdigit(): \n",
    "    people = 0"
   ]
  },
  {
   "cell_type": "markdown",
   "metadata": {
    "slideshow": {
     "slide_type": "subslide"
    }
   },
   "source": [
    "`.isdigit` comes from the python string library\n",
    "\n",
    " https://docs.python.org/3.6/library/stdtypes.html?highlight=isdigit#string-methods"
   ]
  },
  {
   "cell_type": "code",
   "execution_count": 17,
   "metadata": {
    "slideshow": {
     "slide_type": "slide"
    }
   },
   "outputs": [
    {
     "name": "stdout",
     "output_type": "stream",
     "text": [
      "How many RSVPs? 21\n"
     ]
    }
   ],
   "source": [
    "# let's try this again\n",
    "people = input(\"How many RSVPs? \")\n",
    "if not people.isdigit():\n",
    "    people = 0\n",
    "people = int(people)"
   ]
  },
  {
   "cell_type": "code",
   "execution_count": 18,
   "metadata": {
    "slideshow": {
     "slide_type": "slide"
    }
   },
   "outputs": [
    {
     "name": "stdout",
     "output_type": "stream",
     "text": [
      "About 21 👪 will show up\n"
     ]
    }
   ],
   "source": [
    "# lets print pretty\n",
    "print(\"About {} 👪 will show up\".format(people))"
   ]
  },
  {
   "cell_type": "markdown",
   "metadata": {
    "slideshow": {
     "slide_type": "subslide"
    }
   },
   "source": [
    "More info, but not quite updated to the newest python standard\n",
    "\n",
    "https://docs.python.org/3/library/string.html#format-string-syntax"
   ]
  },
  {
   "cell_type": "code",
   "execution_count": 19,
   "metadata": {
    "slideshow": {
     "slide_type": "slide"
    }
   },
   "outputs": [
    {
     "name": "stdout",
     "output_type": "stream",
     "text": [
      "6.5625\n"
     ]
    }
   ],
   "source": [
    "# so now what? math!\n",
    "slices = people * 2.5\n",
    "pies = slices / 8 \n",
    "print(pies)\n",
    "# +, -, /, *, %, //, ** "
   ]
  },
  {
   "cell_type": "code",
   "execution_count": 29,
   "metadata": {
    "slideshow": {
     "slide_type": "slide"
    }
   },
   "outputs": [
    {
     "name": "stdout",
     "output_type": "stream",
     "text": [
      "About 6.56 pizzas🍕\n"
     ]
    }
   ],
   "source": [
    "# lets print that pretty! \n",
    "print(\"About {:.2f} pizzas🍕\".format(pies))"
   ]
  },
  {
   "cell_type": "code",
   "execution_count": 32,
   "metadata": {
    "slideshow": {
     "slide_type": "slide"
    }
   },
   "outputs": [
    {
     "name": "stdout",
     "output_type": "stream",
     "text": [
      "About 7.00 pizzas🍕\n"
     ]
    }
   ],
   "source": [
    "# 1.88? let's use math to get a nice round number:\n",
    "import math\n",
    "pies = math.ceil(pies) # ceiling rounds up\n",
    "print(\"About {:.2f} pizzas🍕\".format(pies))"
   ]
  },
  {
   "cell_type": "markdown",
   "metadata": {
    "slideshow": {
     "slide_type": "subslide"
    }
   },
   "source": [
    "https://docs.python.org/3.6/library/math.html"
   ]
  },
  {
   "cell_type": "code",
   "execution_count": 33,
   "metadata": {
    "collapsed": true,
    "slideshow": {
     "slide_type": "slide"
    }
   },
   "outputs": [],
   "source": [
    "# What types? \n",
    "meat = math.ceil(.15*pies)\n",
    "veggie = math.ceil(.2*pies)\n",
    "cheese = pies - meat - veggie"
   ]
  },
  {
   "cell_type": "code",
   "execution_count": null,
   "metadata": {
    "slideshow": {
     "slide_type": "slide"
    }
   },
   "outputs": [],
   "source": [
    "# lets make sure we have at least 1 cheese pie\n",
    "if cheese < 1:\n",
    "    cheese = 1"
   ]
  },
  {
   "cell_type": "markdown",
   "metadata": {
    "slideshow": {
     "slide_type": "slide"
    }
   },
   "source": [
    "Challenge\n",
    "=====\n",
    "Add two more toppings of your choice"
   ]
  },
  {
   "cell_type": "code",
   "execution_count": null,
   "metadata": {
    "slideshow": {
     "slide_type": "slide"
    }
   },
   "outputs": [],
   "source": [
    "# lets print...\n",
    "print(f\"{cheese} 🧀\")\n",
    "print(f\"{meat} 🍖\")\n",
    "print(f\"{veggie} 🍅\")\n",
    "print(f\"🍕  {(cheese+meat+veggie)} total\")\n"
   ]
  },
  {
   "cell_type": "code",
   "execution_count": 34,
   "metadata": {
    "slideshow": {
     "slide_type": "slide"
    }
   },
   "outputs": [
    {
     "data": {
      "text/plain": [
       "{'cheese': 3, 'meat': 2, 'veggie': 2}"
      ]
     },
     "execution_count": 34,
     "metadata": {},
     "output_type": "execute_result"
    }
   ],
   "source": [
    "# can we store this information in some form? \n",
    "total_pies = {\"cheese\": cheese, \n",
    "              \"meat\": meat, \n",
    "              \"veggie\":veggie}\n",
    "total_pies"
   ]
  },
  {
   "cell_type": "code",
   "execution_count": 36,
   "metadata": {
    "slideshow": {
     "slide_type": "slide"
    }
   },
   "outputs": [
    {
     "data": {
      "text/plain": [
       "3"
      ]
     },
     "execution_count": 36,
     "metadata": {},
     "output_type": "execute_result"
    }
   ],
   "source": [
    "# How do we access the information? \n",
    "total_pies[\"cheese\"]"
   ]
  },
  {
   "cell_type": "code",
   "execution_count": 37,
   "metadata": {
    "slideshow": {
     "slide_type": "slide"
    }
   },
   "outputs": [
    {
     "data": {
      "text/plain": [
       "{'cheese': 3, 'meat': 2, 'mushroom': 2, 'veggie': 2}"
      ]
     },
     "execution_count": 37,
     "metadata": {},
     "output_type": "execute_result"
    }
   ],
   "source": [
    "# add another topping?\n",
    "total_pies[\"mushroom\"] = 2\n",
    "total_pies"
   ]
  },
  {
   "cell_type": "code",
   "execution_count": 40,
   "metadata": {
    "slideshow": {
     "slide_type": "slide"
    }
   },
   "outputs": [
    {
     "name": "stdout",
     "output_type": "stream",
     "text": [
      "{'cheese': 3, 'meat': 2, 'veggie': 2, 'mushroom': 2}\n",
      "cheese 3\n",
      "meat 2\n",
      "veggie 2\n",
      "mushroom 2\n"
     ]
    }
   ],
   "source": [
    "# access all, but one at a time? loops!\n",
    "print(total_pies)\n",
    "for topping in total_pies:\n",
    "    print(topping, total_pies[topping])\n",
    "    #print(f\"{total_pies[topping]} {topping}\")"
   ]
  },
  {
   "cell_type": "code",
   "execution_count": 46,
   "metadata": {
    "slideshow": {
     "slide_type": "slide"
    }
   },
   "outputs": [
    {
     "name": "stdout",
     "output_type": "stream",
     "text": [
      "dict_keys(['cheese', 'meat', 'veggie', 'mushroom'])\n",
      "cheese\n",
      "meat\n",
      "veggie\n",
      "mushroom\n"
     ]
    }
   ],
   "source": [
    "toppings = total_pies.keys()\n",
    "print(toppings)\n",
    "for t in toppings:\n",
    "    print(t)"
   ]
  },
  {
   "cell_type": "markdown",
   "metadata": {
    "slideshow": {
     "slide_type": "slide"
    }
   },
   "source": [
    "# Challenge\n",
    "1. Add another topping to total_pies\n",
    "2. Print out the whole set individually"
   ]
  },
  {
   "cell_type": "markdown",
   "metadata": {
    "slideshow": {
     "slide_type": "slide"
    }
   },
   "source": [
    "![soda](soda.gif)"
   ]
  },
  {
   "cell_type": "code",
   "execution_count": 47,
   "metadata": {
    "collapsed": true,
    "slideshow": {
     "slide_type": "slide"
    }
   },
   "outputs": [],
   "source": [
    "cups = 5 * people\n",
    "CUPS_PER_BOTTLE = 67 / 8  \n",
    "# 67 ounces per 2 liter\n",
    "# 8 ounces per cup \n",
    "#(cups/liter)\n",
    "total_cups = cups/CUPS_PER_BOTTLE"
   ]
  },
  {
   "cell_type": "code",
   "execution_count": 48,
   "metadata": {
    "slideshow": {
     "slide_type": "slide"
    }
   },
   "outputs": [
    {
     "ename": "NameError",
     "evalue": "name 'cups_per_bottle' is not defined",
     "output_type": "error",
     "traceback": [
      "\u001b[0;31m---------------------------------------------------------------------------\u001b[0m",
      "\u001b[0;31mNameError\u001b[0m                                 Traceback (most recent call last)",
      "\u001b[0;32m<ipython-input-48-32ba144eccb4>\u001b[0m in \u001b[0;36m<module>\u001b[0;34m()\u001b[0m\n\u001b[0;32m----> 1\u001b[0;31m \u001b[0mprint\u001b[0m\u001b[0;34m(\u001b[0m\u001b[0mcups_per_bottle\u001b[0m\u001b[0;34m,\u001b[0m \u001b[0mtotal_cups\u001b[0m\u001b[0;34m)\u001b[0m\u001b[0;34m\u001b[0m\u001b[0m\n\u001b[0m",
      "\u001b[0;31mNameError\u001b[0m: name 'cups_per_bottle' is not defined"
     ]
    }
   ],
   "source": [
    "print(cups_per_bottle, total_cups)"
   ]
  },
  {
   "cell_type": "code",
   "execution_count": null,
   "metadata": {
    "slideshow": {
     "slide_type": "slide"
    }
   },
   "outputs": [],
   "source": [
    "# how many bottles should we buy?\n",
    "cokes = .20*total_cups\n",
    "print(cokes)"
   ]
  },
  {
   "cell_type": "code",
   "execution_count": null,
   "metadata": {
    "slideshow": {
     "slide_type": "slide"
    }
   },
   "outputs": [],
   "source": [
    "#rule for translating that to bottles?\n",
    "if (cokes - math.floor(cokes)) < .25:\n",
    "    cokes = math.floor(cokes) # floor always rounds down\n",
    "else:\n",
    "    cokes = math.ceil(cokes)"
   ]
  },
  {
   "cell_type": "code",
   "execution_count": null,
   "metadata": {
    "slideshow": {
     "slide_type": "slide"
    }
   },
   "outputs": [],
   "source": [
    "print(cokes)"
   ]
  },
  {
   "cell_type": "code",
   "execution_count": null,
   "metadata": {
    "slideshow": {
     "slide_type": "slide"
    }
   },
   "outputs": [],
   "source": [
    "# how do we make this reusable? functions!\n",
    "def number_bottles(bottle):\n",
    "    if (bottle - math.floor(bottle)) < .25:\n",
    "        bottles = math.floor(bottle)\n",
    "    else:\n",
    "        bottles = math.ceil(bottle)\n",
    "    \n",
    "    if bottles<1:\n",
    "        bottles = 1\n",
    "        \n",
    "    return bottles"
   ]
  },
  {
   "cell_type": "code",
   "execution_count": null,
   "metadata": {
    "slideshow": {
     "slide_type": "slide"
    }
   },
   "outputs": [],
   "source": [
    "cokes = number_bottles(.2*total_cups)\n",
    "print(cokes)"
   ]
  },
  {
   "cell_type": "code",
   "execution_count": null,
   "metadata": {
    "collapsed": true,
    "slideshow": {
     "slide_type": "slide"
    }
   },
   "outputs": [],
   "source": [
    "# apply it again?\n",
    "diet_cokes = number_bottles(.15 * total_cups)\n",
    "sprites = number_bottles(.10 * total_cups)"
   ]
  },
  {
   "cell_type": "code",
   "execution_count": null,
   "metadata": {
    "slideshow": {
     "slide_type": "slide"
    }
   },
   "outputs": [],
   "source": [
    "print(f\" {cokes} cokes (2 liter)\")\n",
    "print(f\" {diet_cokes} diet cokes (2 liter)\")\n",
    "print(f\" {sprites} sprites (2 liter)\")"
   ]
  },
  {
   "cell_type": "markdown",
   "metadata": {
    "slideshow": {
     "slide_type": "slide"
    }
   },
   "source": [
    "# Challenge\n",
    "Add another drink"
   ]
  },
  {
   "cell_type": "code",
   "execution_count": null,
   "metadata": {
    "slideshow": {
     "slide_type": "slide"
    }
   },
   "outputs": [],
   "source": [
    "import math\n",
    "\n",
    "people = input(\"How many RSVPs? \")\n",
    "if not people.isdigit():\n",
    "    people = 0\n",
    "people = int(people)\n",
    "print(f\"About {people} 👪 will show up\")\n",
    "\n",
    "slices = people * 2.5\n",
    "pies = math.ceil(slices/8)\n",
    "print(f\"About {pies:.2f} pizzas🍕\")\n",
    "\n",
    "# What types? \n",
    "meat = math.ceil(.15*pies)\n",
    "veggie = math.ceil(.2*pies)\n",
    "cheese = pies - meat - veggie\n",
    "\n",
    "total_pies = {\"cheese\": cheese, \"meat\": meat, \"veggie\":veggie}\n",
    "for topping in total_pies:\n",
    "    print(f\"{total_pies[topping]} {topping}\")\n",
    "    \n",
    "cups = 2 * people\n",
    "CUPS_PER_BOTTLE = 67 / 8    \n",
    "total_cups = cups/CUPS_PER_BOTTLE\n",
    "\n",
    "cokes = number_bottles(.2*total_cups)\n",
    "diet_cokes = number_bottles(.15*total_cups)\n",
    "sprites = number_bottles(.10 * total_cups)\n",
    "\n",
    "drinks = {\"coke\":cokes, \"diet_coke\": diet_cokes, \"sprite\":sprites}\n",
    "for drink in drinks:\n",
    "    print(f\"{drinks[drink]} {drink} (2 liter)\")"
   ]
  },
  {
   "cell_type": "code",
   "execution_count": null,
   "metadata": {
    "collapsed": true
   },
   "outputs": [],
   "source": []
  }
 ],
 "metadata": {
  "celltoolbar": "Slideshow",
  "kernelspec": {
   "display_name": "Python 3",
   "language": "python",
   "name": "python3"
  },
  "language_info": {
   "codemirror_mode": {
    "name": "ipython",
    "version": 3
   },
   "file_extension": ".py",
   "mimetype": "text/x-python",
   "name": "python",
   "nbconvert_exporter": "python",
   "pygments_lexer": "ipython3",
   "version": "3.6.1"
  }
 },
 "nbformat": 4,
 "nbformat_minor": 2
}
