{
 "cells": [
  {
   "cell_type": "code",
   "execution_count": 15,
   "metadata": {
    "collapsed": true
   },
   "outputs": [],
   "source": [
    "import requests\n",
    "import os\n",
    "import json\n",
    "from progressIB import ProgressBar"
   ]
  },
  {
   "cell_type": "code",
   "execution_count": 16,
   "metadata": {
    "collapsed": true
   },
   "outputs": [],
   "source": []
  },
  {
   "cell_type": "code",
   "execution_count": 17,
   "metadata": {
    "collapsed": false
   },
   "outputs": [],
   "source": [
    "cityIDs = {'Boston':\"CITY:US250002\",\n",
    "          'NYC':\"CITY:US360019\",\n",
    "          'Philadelphia':\"CITY:US420015\",\n",
    "           'Newark':\"CITY:US340003\"}\n",
    "locationid = cityIDs[city]\n",
    "city = 'NYC'\n",
    "if not os.path.exists(city):\n",
    "    os.mkdir(city)"
   ]
  },
  {
   "cell_type": "code",
   "execution_count": 18,
   "metadata": {
    "collapsed": false
   },
   "outputs": [],
   "source": [
    "datasetid=\"GHCNDMS\"\n",
    "datatypeid=['EMXP', 'MXSD','TPCP', \n",
    "            'TSNW', 'EMXT','EMNT', \n",
    "            'MMXT', 'MMNT','MNTM']\n",
    "#datatypeid='EXMP&MXSD&TPCP&TSNW&EMXT&MMXT&MMNT&MNTM'\n",
    "datacategoryid=['TEMP', 'PRCP']\n",
    "limit=1000\n",
    "params={'datasetid':datasetid, \n",
    "        'datatypeid[]':datatypeid,\n",
    "        'locationid':locationid, \n",
    "        'limit':limit}"
   ]
  },
  {
   "cell_type": "code",
   "execution_count": 19,
   "metadata": {
    "collapsed": false
   },
   "outputs": [],
   "source": [
    "all_dates = [\"{}-{:02}-01\".format(yr,m) for yr in range(1900,2016) for m in range(1,13) ]"
   ]
  },
  {
   "cell_type": "code",
   "execution_count": 20,
   "metadata": {
    "collapsed": false
   },
   "outputs": [],
   "source": [
    "restart_dates = all_dates[all_dates.index('1979-03-01'):]"
   ]
  },
  {
   "cell_type": "code",
   "execution_count": 21,
   "metadata": {
    "collapsed": false
   },
   "outputs": [
    {
     "name": "stdout",
     "output_type": "stream",
     "text": [
      "{\"status\" : \"429\", \"message\" : \"This token has reached its temporary request limit of 1000 per day.\"}\n"
     ]
    }
   ],
   "source": [
    "p = ProgressBar(len(restart_dates))\n",
    "for i, d in enumerate(restart_dates):\n",
    "    params['startdate'] = d\n",
    "    params['enddate'] = d\n",
    "    r = requests.get(\"http://www.ncdc.noaa.gov/cdo-web/api/v2/data\", \n",
    "                     headers={'token':token},\n",
    "                    params=params)\n",
    "    if 'results' not in r.json():\n",
    "        print r.content\n",
    "        break\n",
    "                \n",
    "    results = [rs for rs in r.json()['results'] if rs['datatype'] in datatypeid]\n",
    "    station_data=dict()\n",
    "    for rs in results:\n",
    "        if rs['station'] not in station_data:\n",
    "            station_data[rs['station']]=rs\n",
    "        else:\n",
    "            station_data[rs['station']].update(rs)\n",
    "    year_data={rs['date']:station_data}\n",
    "    yr, mn, _ = rs['date'].split('-')\n",
    "    fname = \"{}{}{}\".format(city,yr,mn)\n",
    "    with open(os.path.join(city,fname), 'w') as fp:\n",
    "        json.dump(results, fp)\n",
    "    time.sleep(0.002)\n",
    "    p.animate(i)"
   ]
  },
  {
   "cell_type": "code",
   "execution_count": 98,
   "metadata": {
    "collapsed": false
   },
   "outputs": [],
   "source": []
  },
  {
   "cell_type": "code",
   "execution_count": null,
   "metadata": {
    "collapsed": true
   },
   "outputs": [],
   "source": []
  }
 ],
 "metadata": {
  "kernelspec": {
   "display_name": "Python 2",
   "language": "python",
   "name": "python2"
  },
  "language_info": {
   "codemirror_mode": {
    "name": "ipython",
    "version": 2
   },
   "file_extension": ".py",
   "mimetype": "text/x-python",
   "name": "python",
   "nbconvert_exporter": "python",
   "pygments_lexer": "ipython2",
   "version": "2.7.7"
  }
 },
 "nbformat": 4,
 "nbformat_minor": 0
}
