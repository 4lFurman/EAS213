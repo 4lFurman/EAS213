{
 "cells": [
  {
   "cell_type": "markdown",
   "metadata": {},
   "source": [
    "July 23 - Correlation\n",
    "============\n",
    "* Correlation\n",
    "* Linear regression\n",
    "* Scatter Matrix\n",
    "* Correlation Matrix\n",
    "\n",
    "CWK: Compute and plot the correlation matrices for temperature and precipitation (two separate matrices) between New York, Philadelphia, Newark and Boston using the 2005-2015 time record and then visualize them. Then compute the correlation between temperature and precipitation for each city and plot temperature vs. precipitation with the best fit line for the cities with the highest correlation between them.  Submit these graphs and a paragraph discussing whether the timeseries and regional patterns support these correlations, with references back to the graphs and previous work to support your assertions. \n"
   ]
  },
  {
   "cell_type": "code",
   "execution_count": 1,
   "metadata": {
    "collapsed": false
   },
   "outputs": [
    {
     "name": "stderr",
     "output_type": "stream",
     "text": [
      "C:\\Users\\story645\\Anaconda\\lib\\site-packages\\pandas\\core\\series.py:632: SettingWithCopyWarning: A value is trying to be set on a copy of a slice from a DataFrame\n",
      "  self.where(~key, value, inplace=True)\n"
     ]
    }
   ],
   "source": [
    "\n",
    "import pandas as pd\n",
    "import numpy as np\n",
    "\n",
    "import city\n",
    "data_path = \"C:\\\\Users\\\\story645\\\\Desktop\\\\EAS213_2015\\\\571549.csv\"\n",
    "df = pd.read_csv(data_path)\n",
    "nyc = city.filter_city(df,\"NY US\")\n"
   ]
  },
  {
   "cell_type": "code",
   "execution_count": 2,
   "metadata": {
    "collapsed": false
   },
   "outputs": [
    {
     "data": {
      "text/plain": [
       "<matplotlib.text.Text at 0xb65cd68>"
      ]
     },
     "execution_count": 2,
     "metadata": {},
     "output_type": "execute_result"
    },
    {
     "data": {
      "image/png": "[encoded data removed]",
      "text/plain": [
       "<matplotlib.figure.Figure at 0xa27c1d0>"
      ]
     },
     "metadata": {},
     "output_type": "display_data"
    }
   ],
   "source": [
    "%matplotlib inline\n",
    "import matplotlib.pyplot as plt\n",
    "fig = plt.figure()\n",
    "ax = fig.add_subplot(1,1,1)\n",
    "ax.scatter(nyc['MNTM']/10,nyc['TPCP']) #rescale\n",
    "ax.set_xlabel(\"Monthly Mean Temp (C)\") #Label!\n",
    "ax.set_ylabel(\"Total Monthly Rainfall (mm)\") "
   ]
  },
  {
   "cell_type": "code",
   "execution_count": 3,
   "metadata": {
    "collapsed": false
   },
   "outputs": [
    {
     "name": "stdout",
     "output_type": "stream",
     "text": [
      "-0.106962078839\n",
      "(-0.1069620788389032, 0.84016875223335818)\n"
     ]
    }
   ],
   "source": [
    "import scipy.stats as st\n",
    "#http://pandas.pydata.org/pandas-docs/stable/computation.html\n",
    "print nyc['MNTM'].corr(nyc['TPCP'])\n",
    "#http://docs.scipy.org/doc/scipy/reference/generated/scipy.stats.pearsonr.html#scipy.stats.pearsonr\n",
    "print st.pearsonr(nyc['MNTM'], nyc['TPCP'])"
   ]
  },
  {
   "cell_type": "markdown",
   "metadata": {},
   "source": [
    "Now compute correlation for:\n",
    "* total precip vs extreme precip\n",
    "* temperature vs. snow depth\n",
    "* one other variable pair of your choice (2015 dataset)"
   ]
  },
  {
   "cell_type": "code",
   "execution_count": 4,
   "metadata": {
    "collapsed": false
   },
   "outputs": [
    {
     "name": "stdout",
     "output_type": "stream",
     "text": [
      "-0.452111374194 857.563889759\n"
     ]
    }
   ],
   "source": [
    "#linear regressions? \n",
    "slope, intercept, _, _, _ = st.linregress(nyc['MNTM'], nyc['TPCP'])\n",
    "print slope, intercept\n"
   ]
  },
  {
   "cell_type": "code",
   "execution_count": 9,
   "metadata": {
    "collapsed": false
   },
   "outputs": [
    {
     "data": {
      "text/plain": [
       "(-53.333333333333336, 210.5)"
      ]
     },
     "execution_count": 9,
     "metadata": {},
     "output_type": "execute_result"
    },
    {
     "data": {
      "image/png": "[encoded data removed]",
      "text/plain": [
       "<matplotlib.figure.Figure at 0x1f67a470>"
      ]
     },
     "metadata": {},
     "output_type": "display_data"
    }
   ],
   "source": [
    "#makes more sense when superimposed on graph:\n",
    "#Also called plotting a best fit line\n",
    "\n",
    "fig = plt.figure()\n",
    "ax = fig.add_subplot(1,1,1)\n",
    "ax.scatter(nyc['MNTM']/10,nyc['TPCP'])\n",
    "ax.set_xlabel(\"Monthly Mean Temp (C)\") #Label!\n",
    "ax.set_ylabel(\"Total Monthly Rainfall (mm)\") \n",
    "\n",
    "#y = mx+b = slope*x+intercept\n",
    "ax.plot(nyc['MNTM'], slope*nyc['MNTM']+intercept, color=\"red\")\n",
    "\n",
    "ax.set_xlim((nyc['MNTM'].min(),nyc['MNTM'].max()))#restrict axes range"
   ]
  },
  {
   "cell_type": "markdown",
   "metadata": {},
   "source": [
    "Now plot scatter+best fit line for:\n",
    "* total precip vs average precip\n",
    "* temperature vs. snow depth\n",
    "* one other variable pair of your choice (2015 dataset)"
   ]
  },
  {
   "cell_type": "code",
   "execution_count": 7,
   "metadata": {
    "collapsed": false
   },
   "outputs": [
    {
     "name": "stdout",
     "output_type": "stream",
     "text": [
      "[u'EMXP', u'MXSD', u'TPCP', u'TSNW', u'EMXT', u'EMNT', u'MMXT', u'MMNT', u'MNTM']\n"
     ]
    }
   ],
   "source": [
    "#how about seeing how all the variables relate?\n",
    "#and restrict columns\n",
    "print city.datakeys\n",
    "pd.scatter_matrix?"
   ]
  },
  {
   "cell_type": "code",
   "execution_count": null,
   "metadata": {
    "collapsed": true
   },
   "outputs": [],
   "source": []
  }
 ],
 "metadata": {
  "kernelspec": {
   "display_name": "Python 2",
   "language": "python",
   "name": "python2"
  },
  "language_info": {
   "codemirror_mode": {
    "name": "ipython",
    "version": 2
   },
   "file_extension": ".py",
   "mimetype": "text/x-python",
   "name": "python",
   "nbconvert_exporter": "python",
   "pygments_lexer": "ipython2",
   "version": "2.7.7"
  }
 },
 "nbformat": 4,
 "nbformat_minor": 0
}
